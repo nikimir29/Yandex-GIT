{
 "cells": [
  {
   "cell_type": "markdown",
   "metadata": {
    "toc": true
   },
   "source": [
    "<h1>Содержание<span class=\"tocSkip\"></span></h1>\n",
    "<div class=\"toc\"><ul class=\"toc-item\"><li><ul class=\"toc-item\"><li><span><a href=\"#Признаки\" data-toc-modified-id=\"Признаки-0.1\"><span class=\"toc-item-num\">0.1&nbsp;&nbsp;</span>Признаки</a></span></li><li><span><a href=\"#Целевой-признак\" data-toc-modified-id=\"Целевой-признак-0.2\"><span class=\"toc-item-num\">0.2&nbsp;&nbsp;</span>Целевой признак</a></span></li></ul></li><li><span><a href=\"#Подготовка-данных\" data-toc-modified-id=\"Подготовка-данных-1\"><span class=\"toc-item-num\">1&nbsp;&nbsp;</span>Подготовка данных</a></span></li><li><span><a href=\"#Исследование-задачи\" data-toc-modified-id=\"Исследование-задачи-2\"><span class=\"toc-item-num\">2&nbsp;&nbsp;</span>Исследование задачи</a></span></li><li><span><a href=\"#Борьба-с-дисбалансом\" data-toc-modified-id=\"Борьба-с-дисбалансом-3\"><span class=\"toc-item-num\">3&nbsp;&nbsp;</span>Борьба с дисбалансом</a></span></li><li><span><a href=\"#Тестирование-модели\" data-toc-modified-id=\"Тестирование-модели-4\"><span class=\"toc-item-num\">4&nbsp;&nbsp;</span>Тестирование модели</a></span></li><li><span><a href=\"#Выводы\" data-toc-modified-id=\"Выводы-5\"><span class=\"toc-item-num\">5&nbsp;&nbsp;</span>Выводы</a></span></li><li><span><a href=\"#Чек-лист-готовности-проекта\" data-toc-modified-id=\"Чек-лист-готовности-проекта-6\"><span class=\"toc-item-num\">6&nbsp;&nbsp;</span>Чек-лист готовности проекта</a></span></li></ul></div>"
   ]
  },
  {
   "cell_type": "markdown",
   "metadata": {},
   "source": [
    "## Подготовка данных"
   ]
  },
  {
   "cell_type": "code",
   "execution_count": 1,
   "metadata": {},
   "outputs": [],
   "source": [
    "import pandas as pd \n",
    "from sklearn.ensemble import RandomForestClassifier\n",
    "from sklearn.linear_model import LogisticRegression\n",
    "from sklearn.tree import DecisionTreeClassifier\n",
    "from sklearn.model_selection import train_test_split\n",
    "from sklearn.preprocessing import StandardScaler\n",
    "from sklearn.metrics import accuracy_score\n",
    "from sklearn.metrics import precision_score\n",
    "from sklearn.metrics import recall_score\n",
    "from sklearn.metrics import f1_score\n",
    "from sklearn.metrics import confusion_matrix\n",
    "from sklearn.metrics import roc_auc_score\n",
    "from sklearn.metrics import roc_curve\n",
    "from sklearn.utils import shuffle\n",
    "from sklearn.dummy import DummyClassifier\n",
    "import numpy as np\n",
    "\n"
   ]
  },
  {
   "cell_type": "code",
   "execution_count": 2,
   "metadata": {},
   "outputs": [],
   "source": [
    "data = pd.read_csv('/datasets/Churn.csv')"
   ]
  },
  {
   "cell_type": "code",
   "execution_count": 3,
   "metadata": {},
   "outputs": [
    {
     "name": "stdout",
     "output_type": "stream",
     "text": [
      "<class 'pandas.core.frame.DataFrame'>\n",
      "RangeIndex: 10000 entries, 0 to 9999\n",
      "Data columns (total 14 columns):\n",
      " #   Column           Non-Null Count  Dtype  \n",
      "---  ------           --------------  -----  \n",
      " 0   RowNumber        10000 non-null  int64  \n",
      " 1   CustomerId       10000 non-null  int64  \n",
      " 2   Surname          10000 non-null  object \n",
      " 3   CreditScore      10000 non-null  int64  \n",
      " 4   Geography        10000 non-null  object \n",
      " 5   Gender           10000 non-null  object \n",
      " 6   Age              10000 non-null  int64  \n",
      " 7   Tenure           9091 non-null   float64\n",
      " 8   Balance          10000 non-null  float64\n",
      " 9   NumOfProducts    10000 non-null  int64  \n",
      " 10  HasCrCard        10000 non-null  int64  \n",
      " 11  IsActiveMember   10000 non-null  int64  \n",
      " 12  EstimatedSalary  10000 non-null  float64\n",
      " 13  Exited           10000 non-null  int64  \n",
      "dtypes: float64(3), int64(8), object(3)\n",
      "memory usage: 1.1+ MB\n"
     ]
    }
   ],
   "source": [
    "data.info()"
   ]
  },
  {
   "cell_type": "code",
   "execution_count": 4,
   "metadata": {},
   "outputs": [
    {
     "data": {
      "text/html": [
       "<div>\n",
       "<style scoped>\n",
       "    .dataframe tbody tr th:only-of-type {\n",
       "        vertical-align: middle;\n",
       "    }\n",
       "\n",
       "    .dataframe tbody tr th {\n",
       "        vertical-align: top;\n",
       "    }\n",
       "\n",
       "    .dataframe thead th {\n",
       "        text-align: right;\n",
       "    }\n",
       "</style>\n",
       "<table border=\"1\" class=\"dataframe\">\n",
       "  <thead>\n",
       "    <tr style=\"text-align: right;\">\n",
       "      <th></th>\n",
       "      <th>RowNumber</th>\n",
       "      <th>CustomerId</th>\n",
       "      <th>Surname</th>\n",
       "      <th>CreditScore</th>\n",
       "      <th>Geography</th>\n",
       "      <th>Gender</th>\n",
       "      <th>Age</th>\n",
       "      <th>Tenure</th>\n",
       "      <th>Balance</th>\n",
       "      <th>NumOfProducts</th>\n",
       "      <th>HasCrCard</th>\n",
       "      <th>IsActiveMember</th>\n",
       "      <th>EstimatedSalary</th>\n",
       "      <th>Exited</th>\n",
       "    </tr>\n",
       "  </thead>\n",
       "  <tbody>\n",
       "    <tr>\n",
       "      <th>0</th>\n",
       "      <td>1</td>\n",
       "      <td>15634602</td>\n",
       "      <td>Hargrave</td>\n",
       "      <td>619</td>\n",
       "      <td>France</td>\n",
       "      <td>Female</td>\n",
       "      <td>42</td>\n",
       "      <td>2.0</td>\n",
       "      <td>0.00</td>\n",
       "      <td>1</td>\n",
       "      <td>1</td>\n",
       "      <td>1</td>\n",
       "      <td>101348.88</td>\n",
       "      <td>1</td>\n",
       "    </tr>\n",
       "    <tr>\n",
       "      <th>1</th>\n",
       "      <td>2</td>\n",
       "      <td>15647311</td>\n",
       "      <td>Hill</td>\n",
       "      <td>608</td>\n",
       "      <td>Spain</td>\n",
       "      <td>Female</td>\n",
       "      <td>41</td>\n",
       "      <td>1.0</td>\n",
       "      <td>83807.86</td>\n",
       "      <td>1</td>\n",
       "      <td>0</td>\n",
       "      <td>1</td>\n",
       "      <td>112542.58</td>\n",
       "      <td>0</td>\n",
       "    </tr>\n",
       "    <tr>\n",
       "      <th>2</th>\n",
       "      <td>3</td>\n",
       "      <td>15619304</td>\n",
       "      <td>Onio</td>\n",
       "      <td>502</td>\n",
       "      <td>France</td>\n",
       "      <td>Female</td>\n",
       "      <td>42</td>\n",
       "      <td>8.0</td>\n",
       "      <td>159660.80</td>\n",
       "      <td>3</td>\n",
       "      <td>1</td>\n",
       "      <td>0</td>\n",
       "      <td>113931.57</td>\n",
       "      <td>1</td>\n",
       "    </tr>\n",
       "    <tr>\n",
       "      <th>3</th>\n",
       "      <td>4</td>\n",
       "      <td>15701354</td>\n",
       "      <td>Boni</td>\n",
       "      <td>699</td>\n",
       "      <td>France</td>\n",
       "      <td>Female</td>\n",
       "      <td>39</td>\n",
       "      <td>1.0</td>\n",
       "      <td>0.00</td>\n",
       "      <td>2</td>\n",
       "      <td>0</td>\n",
       "      <td>0</td>\n",
       "      <td>93826.63</td>\n",
       "      <td>0</td>\n",
       "    </tr>\n",
       "    <tr>\n",
       "      <th>4</th>\n",
       "      <td>5</td>\n",
       "      <td>15737888</td>\n",
       "      <td>Mitchell</td>\n",
       "      <td>850</td>\n",
       "      <td>Spain</td>\n",
       "      <td>Female</td>\n",
       "      <td>43</td>\n",
       "      <td>2.0</td>\n",
       "      <td>125510.82</td>\n",
       "      <td>1</td>\n",
       "      <td>1</td>\n",
       "      <td>1</td>\n",
       "      <td>79084.10</td>\n",
       "      <td>0</td>\n",
       "    </tr>\n",
       "    <tr>\n",
       "      <th>5</th>\n",
       "      <td>6</td>\n",
       "      <td>15574012</td>\n",
       "      <td>Chu</td>\n",
       "      <td>645</td>\n",
       "      <td>Spain</td>\n",
       "      <td>Male</td>\n",
       "      <td>44</td>\n",
       "      <td>8.0</td>\n",
       "      <td>113755.78</td>\n",
       "      <td>2</td>\n",
       "      <td>1</td>\n",
       "      <td>0</td>\n",
       "      <td>149756.71</td>\n",
       "      <td>1</td>\n",
       "    </tr>\n",
       "    <tr>\n",
       "      <th>6</th>\n",
       "      <td>7</td>\n",
       "      <td>15592531</td>\n",
       "      <td>Bartlett</td>\n",
       "      <td>822</td>\n",
       "      <td>France</td>\n",
       "      <td>Male</td>\n",
       "      <td>50</td>\n",
       "      <td>7.0</td>\n",
       "      <td>0.00</td>\n",
       "      <td>2</td>\n",
       "      <td>1</td>\n",
       "      <td>1</td>\n",
       "      <td>10062.80</td>\n",
       "      <td>0</td>\n",
       "    </tr>\n",
       "    <tr>\n",
       "      <th>7</th>\n",
       "      <td>8</td>\n",
       "      <td>15656148</td>\n",
       "      <td>Obinna</td>\n",
       "      <td>376</td>\n",
       "      <td>Germany</td>\n",
       "      <td>Female</td>\n",
       "      <td>29</td>\n",
       "      <td>4.0</td>\n",
       "      <td>115046.74</td>\n",
       "      <td>4</td>\n",
       "      <td>1</td>\n",
       "      <td>0</td>\n",
       "      <td>119346.88</td>\n",
       "      <td>1</td>\n",
       "    </tr>\n",
       "    <tr>\n",
       "      <th>8</th>\n",
       "      <td>9</td>\n",
       "      <td>15792365</td>\n",
       "      <td>He</td>\n",
       "      <td>501</td>\n",
       "      <td>France</td>\n",
       "      <td>Male</td>\n",
       "      <td>44</td>\n",
       "      <td>4.0</td>\n",
       "      <td>142051.07</td>\n",
       "      <td>2</td>\n",
       "      <td>0</td>\n",
       "      <td>1</td>\n",
       "      <td>74940.50</td>\n",
       "      <td>0</td>\n",
       "    </tr>\n",
       "    <tr>\n",
       "      <th>9</th>\n",
       "      <td>10</td>\n",
       "      <td>15592389</td>\n",
       "      <td>H?</td>\n",
       "      <td>684</td>\n",
       "      <td>France</td>\n",
       "      <td>Male</td>\n",
       "      <td>27</td>\n",
       "      <td>2.0</td>\n",
       "      <td>134603.88</td>\n",
       "      <td>1</td>\n",
       "      <td>1</td>\n",
       "      <td>1</td>\n",
       "      <td>71725.73</td>\n",
       "      <td>0</td>\n",
       "    </tr>\n",
       "    <tr>\n",
       "      <th>10</th>\n",
       "      <td>11</td>\n",
       "      <td>15767821</td>\n",
       "      <td>Bearce</td>\n",
       "      <td>528</td>\n",
       "      <td>France</td>\n",
       "      <td>Male</td>\n",
       "      <td>31</td>\n",
       "      <td>6.0</td>\n",
       "      <td>102016.72</td>\n",
       "      <td>2</td>\n",
       "      <td>0</td>\n",
       "      <td>0</td>\n",
       "      <td>80181.12</td>\n",
       "      <td>0</td>\n",
       "    </tr>\n",
       "    <tr>\n",
       "      <th>11</th>\n",
       "      <td>12</td>\n",
       "      <td>15737173</td>\n",
       "      <td>Andrews</td>\n",
       "      <td>497</td>\n",
       "      <td>Spain</td>\n",
       "      <td>Male</td>\n",
       "      <td>24</td>\n",
       "      <td>3.0</td>\n",
       "      <td>0.00</td>\n",
       "      <td>2</td>\n",
       "      <td>1</td>\n",
       "      <td>0</td>\n",
       "      <td>76390.01</td>\n",
       "      <td>0</td>\n",
       "    </tr>\n",
       "    <tr>\n",
       "      <th>12</th>\n",
       "      <td>13</td>\n",
       "      <td>15632264</td>\n",
       "      <td>Kay</td>\n",
       "      <td>476</td>\n",
       "      <td>France</td>\n",
       "      <td>Female</td>\n",
       "      <td>34</td>\n",
       "      <td>10.0</td>\n",
       "      <td>0.00</td>\n",
       "      <td>2</td>\n",
       "      <td>1</td>\n",
       "      <td>0</td>\n",
       "      <td>26260.98</td>\n",
       "      <td>0</td>\n",
       "    </tr>\n",
       "    <tr>\n",
       "      <th>13</th>\n",
       "      <td>14</td>\n",
       "      <td>15691483</td>\n",
       "      <td>Chin</td>\n",
       "      <td>549</td>\n",
       "      <td>France</td>\n",
       "      <td>Female</td>\n",
       "      <td>25</td>\n",
       "      <td>5.0</td>\n",
       "      <td>0.00</td>\n",
       "      <td>2</td>\n",
       "      <td>0</td>\n",
       "      <td>0</td>\n",
       "      <td>190857.79</td>\n",
       "      <td>0</td>\n",
       "    </tr>\n",
       "    <tr>\n",
       "      <th>14</th>\n",
       "      <td>15</td>\n",
       "      <td>15600882</td>\n",
       "      <td>Scott</td>\n",
       "      <td>635</td>\n",
       "      <td>Spain</td>\n",
       "      <td>Female</td>\n",
       "      <td>35</td>\n",
       "      <td>7.0</td>\n",
       "      <td>0.00</td>\n",
       "      <td>2</td>\n",
       "      <td>1</td>\n",
       "      <td>1</td>\n",
       "      <td>65951.65</td>\n",
       "      <td>0</td>\n",
       "    </tr>\n",
       "    <tr>\n",
       "      <th>15</th>\n",
       "      <td>16</td>\n",
       "      <td>15643966</td>\n",
       "      <td>Goforth</td>\n",
       "      <td>616</td>\n",
       "      <td>Germany</td>\n",
       "      <td>Male</td>\n",
       "      <td>45</td>\n",
       "      <td>3.0</td>\n",
       "      <td>143129.41</td>\n",
       "      <td>2</td>\n",
       "      <td>0</td>\n",
       "      <td>1</td>\n",
       "      <td>64327.26</td>\n",
       "      <td>0</td>\n",
       "    </tr>\n",
       "    <tr>\n",
       "      <th>16</th>\n",
       "      <td>17</td>\n",
       "      <td>15737452</td>\n",
       "      <td>Romeo</td>\n",
       "      <td>653</td>\n",
       "      <td>Germany</td>\n",
       "      <td>Male</td>\n",
       "      <td>58</td>\n",
       "      <td>1.0</td>\n",
       "      <td>132602.88</td>\n",
       "      <td>1</td>\n",
       "      <td>1</td>\n",
       "      <td>0</td>\n",
       "      <td>5097.67</td>\n",
       "      <td>1</td>\n",
       "    </tr>\n",
       "    <tr>\n",
       "      <th>17</th>\n",
       "      <td>18</td>\n",
       "      <td>15788218</td>\n",
       "      <td>Henderson</td>\n",
       "      <td>549</td>\n",
       "      <td>Spain</td>\n",
       "      <td>Female</td>\n",
       "      <td>24</td>\n",
       "      <td>9.0</td>\n",
       "      <td>0.00</td>\n",
       "      <td>2</td>\n",
       "      <td>1</td>\n",
       "      <td>1</td>\n",
       "      <td>14406.41</td>\n",
       "      <td>0</td>\n",
       "    </tr>\n",
       "    <tr>\n",
       "      <th>18</th>\n",
       "      <td>19</td>\n",
       "      <td>15661507</td>\n",
       "      <td>Muldrow</td>\n",
       "      <td>587</td>\n",
       "      <td>Spain</td>\n",
       "      <td>Male</td>\n",
       "      <td>45</td>\n",
       "      <td>6.0</td>\n",
       "      <td>0.00</td>\n",
       "      <td>1</td>\n",
       "      <td>0</td>\n",
       "      <td>0</td>\n",
       "      <td>158684.81</td>\n",
       "      <td>0</td>\n",
       "    </tr>\n",
       "    <tr>\n",
       "      <th>19</th>\n",
       "      <td>20</td>\n",
       "      <td>15568982</td>\n",
       "      <td>Hao</td>\n",
       "      <td>726</td>\n",
       "      <td>France</td>\n",
       "      <td>Female</td>\n",
       "      <td>24</td>\n",
       "      <td>6.0</td>\n",
       "      <td>0.00</td>\n",
       "      <td>2</td>\n",
       "      <td>1</td>\n",
       "      <td>1</td>\n",
       "      <td>54724.03</td>\n",
       "      <td>0</td>\n",
       "    </tr>\n",
       "  </tbody>\n",
       "</table>\n",
       "</div>"
      ],
      "text/plain": [
       "    RowNumber  CustomerId    Surname  CreditScore Geography  Gender  Age  \\\n",
       "0           1    15634602   Hargrave          619    France  Female   42   \n",
       "1           2    15647311       Hill          608     Spain  Female   41   \n",
       "2           3    15619304       Onio          502    France  Female   42   \n",
       "3           4    15701354       Boni          699    France  Female   39   \n",
       "4           5    15737888   Mitchell          850     Spain  Female   43   \n",
       "5           6    15574012        Chu          645     Spain    Male   44   \n",
       "6           7    15592531   Bartlett          822    France    Male   50   \n",
       "7           8    15656148     Obinna          376   Germany  Female   29   \n",
       "8           9    15792365         He          501    France    Male   44   \n",
       "9          10    15592389         H?          684    France    Male   27   \n",
       "10         11    15767821     Bearce          528    France    Male   31   \n",
       "11         12    15737173    Andrews          497     Spain    Male   24   \n",
       "12         13    15632264        Kay          476    France  Female   34   \n",
       "13         14    15691483       Chin          549    France  Female   25   \n",
       "14         15    15600882      Scott          635     Spain  Female   35   \n",
       "15         16    15643966    Goforth          616   Germany    Male   45   \n",
       "16         17    15737452      Romeo          653   Germany    Male   58   \n",
       "17         18    15788218  Henderson          549     Spain  Female   24   \n",
       "18         19    15661507    Muldrow          587     Spain    Male   45   \n",
       "19         20    15568982        Hao          726    France  Female   24   \n",
       "\n",
       "    Tenure    Balance  NumOfProducts  HasCrCard  IsActiveMember  \\\n",
       "0      2.0       0.00              1          1               1   \n",
       "1      1.0   83807.86              1          0               1   \n",
       "2      8.0  159660.80              3          1               0   \n",
       "3      1.0       0.00              2          0               0   \n",
       "4      2.0  125510.82              1          1               1   \n",
       "5      8.0  113755.78              2          1               0   \n",
       "6      7.0       0.00              2          1               1   \n",
       "7      4.0  115046.74              4          1               0   \n",
       "8      4.0  142051.07              2          0               1   \n",
       "9      2.0  134603.88              1          1               1   \n",
       "10     6.0  102016.72              2          0               0   \n",
       "11     3.0       0.00              2          1               0   \n",
       "12    10.0       0.00              2          1               0   \n",
       "13     5.0       0.00              2          0               0   \n",
       "14     7.0       0.00              2          1               1   \n",
       "15     3.0  143129.41              2          0               1   \n",
       "16     1.0  132602.88              1          1               0   \n",
       "17     9.0       0.00              2          1               1   \n",
       "18     6.0       0.00              1          0               0   \n",
       "19     6.0       0.00              2          1               1   \n",
       "\n",
       "    EstimatedSalary  Exited  \n",
       "0         101348.88       1  \n",
       "1         112542.58       0  \n",
       "2         113931.57       1  \n",
       "3          93826.63       0  \n",
       "4          79084.10       0  \n",
       "5         149756.71       1  \n",
       "6          10062.80       0  \n",
       "7         119346.88       1  \n",
       "8          74940.50       0  \n",
       "9          71725.73       0  \n",
       "10         80181.12       0  \n",
       "11         76390.01       0  \n",
       "12         26260.98       0  \n",
       "13        190857.79       0  \n",
       "14         65951.65       0  \n",
       "15         64327.26       0  \n",
       "16          5097.67       1  \n",
       "17         14406.41       0  \n",
       "18        158684.81       0  \n",
       "19         54724.03       0  "
      ]
     },
     "execution_count": 4,
     "metadata": {},
     "output_type": "execute_result"
    }
   ],
   "source": [
    "data.head(20)"
   ]
  },
  {
   "cell_type": "code",
   "execution_count": 5,
   "metadata": {},
   "outputs": [
    {
     "name": "stdout",
     "output_type": "stream",
     "text": [
      "10000\n",
      "10000\n",
      "10000\n"
     ]
    }
   ],
   "source": [
    "print(data['RowNumber'].value_counts().sum())\n",
    "print(data['CustomerId'].value_counts().sum())\n",
    "print(data['Surname'].value_counts().sum())"
   ]
  },
  {
   "cell_type": "markdown",
   "metadata": {},
   "source": [
    "После загрузки датафрейма три столбца имеют абсолюно уникальные значения, их можно удалить, так как это может только снизить точность модели"
   ]
  },
  {
   "cell_type": "code",
   "execution_count": 6,
   "metadata": {},
   "outputs": [],
   "source": [
    "data = data.drop([\"RowNumber\", \"CustomerId\", \"Surname\"], axis=1)"
   ]
  },
  {
   "cell_type": "code",
   "execution_count": 7,
   "metadata": {},
   "outputs": [
    {
     "data": {
      "text/html": [
       "<div>\n",
       "<style scoped>\n",
       "    .dataframe tbody tr th:only-of-type {\n",
       "        vertical-align: middle;\n",
       "    }\n",
       "\n",
       "    .dataframe tbody tr th {\n",
       "        vertical-align: top;\n",
       "    }\n",
       "\n",
       "    .dataframe thead th {\n",
       "        text-align: right;\n",
       "    }\n",
       "</style>\n",
       "<table border=\"1\" class=\"dataframe\">\n",
       "  <thead>\n",
       "    <tr style=\"text-align: right;\">\n",
       "      <th></th>\n",
       "      <th>CreditScore</th>\n",
       "      <th>Geography</th>\n",
       "      <th>Gender</th>\n",
       "      <th>Age</th>\n",
       "      <th>Tenure</th>\n",
       "      <th>Balance</th>\n",
       "      <th>NumOfProducts</th>\n",
       "      <th>HasCrCard</th>\n",
       "      <th>IsActiveMember</th>\n",
       "      <th>EstimatedSalary</th>\n",
       "      <th>Exited</th>\n",
       "    </tr>\n",
       "  </thead>\n",
       "  <tbody>\n",
       "    <tr>\n",
       "      <th>0</th>\n",
       "      <td>619</td>\n",
       "      <td>France</td>\n",
       "      <td>Female</td>\n",
       "      <td>42</td>\n",
       "      <td>2.0</td>\n",
       "      <td>0.00</td>\n",
       "      <td>1</td>\n",
       "      <td>1</td>\n",
       "      <td>1</td>\n",
       "      <td>101348.88</td>\n",
       "      <td>1</td>\n",
       "    </tr>\n",
       "    <tr>\n",
       "      <th>1</th>\n",
       "      <td>608</td>\n",
       "      <td>Spain</td>\n",
       "      <td>Female</td>\n",
       "      <td>41</td>\n",
       "      <td>1.0</td>\n",
       "      <td>83807.86</td>\n",
       "      <td>1</td>\n",
       "      <td>0</td>\n",
       "      <td>1</td>\n",
       "      <td>112542.58</td>\n",
       "      <td>0</td>\n",
       "    </tr>\n",
       "    <tr>\n",
       "      <th>2</th>\n",
       "      <td>502</td>\n",
       "      <td>France</td>\n",
       "      <td>Female</td>\n",
       "      <td>42</td>\n",
       "      <td>8.0</td>\n",
       "      <td>159660.80</td>\n",
       "      <td>3</td>\n",
       "      <td>1</td>\n",
       "      <td>0</td>\n",
       "      <td>113931.57</td>\n",
       "      <td>1</td>\n",
       "    </tr>\n",
       "    <tr>\n",
       "      <th>3</th>\n",
       "      <td>699</td>\n",
       "      <td>France</td>\n",
       "      <td>Female</td>\n",
       "      <td>39</td>\n",
       "      <td>1.0</td>\n",
       "      <td>0.00</td>\n",
       "      <td>2</td>\n",
       "      <td>0</td>\n",
       "      <td>0</td>\n",
       "      <td>93826.63</td>\n",
       "      <td>0</td>\n",
       "    </tr>\n",
       "    <tr>\n",
       "      <th>4</th>\n",
       "      <td>850</td>\n",
       "      <td>Spain</td>\n",
       "      <td>Female</td>\n",
       "      <td>43</td>\n",
       "      <td>2.0</td>\n",
       "      <td>125510.82</td>\n",
       "      <td>1</td>\n",
       "      <td>1</td>\n",
       "      <td>1</td>\n",
       "      <td>79084.10</td>\n",
       "      <td>0</td>\n",
       "    </tr>\n",
       "  </tbody>\n",
       "</table>\n",
       "</div>"
      ],
      "text/plain": [
       "   CreditScore Geography  Gender  Age  Tenure    Balance  NumOfProducts  \\\n",
       "0          619    France  Female   42     2.0       0.00              1   \n",
       "1          608     Spain  Female   41     1.0   83807.86              1   \n",
       "2          502    France  Female   42     8.0  159660.80              3   \n",
       "3          699    France  Female   39     1.0       0.00              2   \n",
       "4          850     Spain  Female   43     2.0  125510.82              1   \n",
       "\n",
       "   HasCrCard  IsActiveMember  EstimatedSalary  Exited  \n",
       "0          1               1        101348.88       1  \n",
       "1          0               1        112542.58       0  \n",
       "2          1               0        113931.57       1  \n",
       "3          0               0         93826.63       0  \n",
       "4          1               1         79084.10       0  "
      ]
     },
     "execution_count": 7,
     "metadata": {},
     "output_type": "execute_result"
    }
   ],
   "source": [
    "data.head()"
   ]
  },
  {
   "cell_type": "code",
   "execution_count": 8,
   "metadata": {},
   "outputs": [
    {
     "data": {
      "text/plain": [
       "CreditScore          0\n",
       "Geography            0\n",
       "Gender               0\n",
       "Age                  0\n",
       "Tenure             909\n",
       "Balance              0\n",
       "NumOfProducts        0\n",
       "HasCrCard            0\n",
       "IsActiveMember       0\n",
       "EstimatedSalary      0\n",
       "Exited               0\n",
       "dtype: int64"
      ]
     },
     "execution_count": 8,
     "metadata": {},
     "output_type": "execute_result"
    }
   ],
   "source": [
    "data.isna().sum()"
   ]
  },
  {
   "cell_type": "code",
   "execution_count": 9,
   "metadata": {},
   "outputs": [
    {
     "data": {
      "text/plain": [
       "1.0     952\n",
       "2.0     950\n",
       "8.0     933\n",
       "3.0     928\n",
       "5.0     927\n",
       "7.0     925\n",
       "4.0     885\n",
       "9.0     882\n",
       "6.0     881\n",
       "10.0    446\n",
       "0.0     382\n",
       "Name: Tenure, dtype: int64"
      ]
     },
     "execution_count": 9,
     "metadata": {},
     "output_type": "execute_result"
    }
   ],
   "source": [
    "data['Tenure'].value_counts()"
   ]
  },
  {
   "cell_type": "code",
   "execution_count": 10,
   "metadata": {},
   "outputs": [
    {
     "data": {
      "text/html": [
       "<div>\n",
       "<style scoped>\n",
       "    .dataframe tbody tr th:only-of-type {\n",
       "        vertical-align: middle;\n",
       "    }\n",
       "\n",
       "    .dataframe tbody tr th {\n",
       "        vertical-align: top;\n",
       "    }\n",
       "\n",
       "    .dataframe thead th {\n",
       "        text-align: right;\n",
       "    }\n",
       "</style>\n",
       "<table border=\"1\" class=\"dataframe\">\n",
       "  <thead>\n",
       "    <tr style=\"text-align: right;\">\n",
       "      <th></th>\n",
       "      <th>CreditScore</th>\n",
       "      <th>Geography</th>\n",
       "      <th>Gender</th>\n",
       "      <th>Age</th>\n",
       "      <th>Tenure</th>\n",
       "      <th>Balance</th>\n",
       "      <th>NumOfProducts</th>\n",
       "      <th>HasCrCard</th>\n",
       "      <th>IsActiveMember</th>\n",
       "      <th>EstimatedSalary</th>\n",
       "      <th>Exited</th>\n",
       "    </tr>\n",
       "  </thead>\n",
       "  <tbody>\n",
       "    <tr>\n",
       "      <th>30</th>\n",
       "      <td>591</td>\n",
       "      <td>Spain</td>\n",
       "      <td>Female</td>\n",
       "      <td>39</td>\n",
       "      <td>NaN</td>\n",
       "      <td>0.00</td>\n",
       "      <td>3</td>\n",
       "      <td>1</td>\n",
       "      <td>0</td>\n",
       "      <td>140469.38</td>\n",
       "      <td>1</td>\n",
       "    </tr>\n",
       "    <tr>\n",
       "      <th>48</th>\n",
       "      <td>550</td>\n",
       "      <td>Germany</td>\n",
       "      <td>Male</td>\n",
       "      <td>38</td>\n",
       "      <td>NaN</td>\n",
       "      <td>103391.38</td>\n",
       "      <td>1</td>\n",
       "      <td>0</td>\n",
       "      <td>1</td>\n",
       "      <td>90878.13</td>\n",
       "      <td>0</td>\n",
       "    </tr>\n",
       "    <tr>\n",
       "      <th>51</th>\n",
       "      <td>585</td>\n",
       "      <td>Germany</td>\n",
       "      <td>Male</td>\n",
       "      <td>36</td>\n",
       "      <td>NaN</td>\n",
       "      <td>146050.97</td>\n",
       "      <td>2</td>\n",
       "      <td>0</td>\n",
       "      <td>0</td>\n",
       "      <td>86424.57</td>\n",
       "      <td>0</td>\n",
       "    </tr>\n",
       "    <tr>\n",
       "      <th>53</th>\n",
       "      <td>655</td>\n",
       "      <td>Germany</td>\n",
       "      <td>Male</td>\n",
       "      <td>41</td>\n",
       "      <td>NaN</td>\n",
       "      <td>125561.97</td>\n",
       "      <td>1</td>\n",
       "      <td>0</td>\n",
       "      <td>0</td>\n",
       "      <td>164040.94</td>\n",
       "      <td>1</td>\n",
       "    </tr>\n",
       "    <tr>\n",
       "      <th>60</th>\n",
       "      <td>742</td>\n",
       "      <td>Germany</td>\n",
       "      <td>Male</td>\n",
       "      <td>35</td>\n",
       "      <td>NaN</td>\n",
       "      <td>136857.00</td>\n",
       "      <td>1</td>\n",
       "      <td>0</td>\n",
       "      <td>0</td>\n",
       "      <td>84509.57</td>\n",
       "      <td>0</td>\n",
       "    </tr>\n",
       "    <tr>\n",
       "      <th>...</th>\n",
       "      <td>...</td>\n",
       "      <td>...</td>\n",
       "      <td>...</td>\n",
       "      <td>...</td>\n",
       "      <td>...</td>\n",
       "      <td>...</td>\n",
       "      <td>...</td>\n",
       "      <td>...</td>\n",
       "      <td>...</td>\n",
       "      <td>...</td>\n",
       "      <td>...</td>\n",
       "    </tr>\n",
       "    <tr>\n",
       "      <th>9944</th>\n",
       "      <td>744</td>\n",
       "      <td>Germany</td>\n",
       "      <td>Male</td>\n",
       "      <td>41</td>\n",
       "      <td>NaN</td>\n",
       "      <td>190409.34</td>\n",
       "      <td>2</td>\n",
       "      <td>1</td>\n",
       "      <td>1</td>\n",
       "      <td>138361.48</td>\n",
       "      <td>0</td>\n",
       "    </tr>\n",
       "    <tr>\n",
       "      <th>9956</th>\n",
       "      <td>520</td>\n",
       "      <td>France</td>\n",
       "      <td>Female</td>\n",
       "      <td>46</td>\n",
       "      <td>NaN</td>\n",
       "      <td>85216.61</td>\n",
       "      <td>1</td>\n",
       "      <td>1</td>\n",
       "      <td>0</td>\n",
       "      <td>117369.52</td>\n",
       "      <td>1</td>\n",
       "    </tr>\n",
       "    <tr>\n",
       "      <th>9964</th>\n",
       "      <td>479</td>\n",
       "      <td>France</td>\n",
       "      <td>Male</td>\n",
       "      <td>34</td>\n",
       "      <td>NaN</td>\n",
       "      <td>117593.48</td>\n",
       "      <td>2</td>\n",
       "      <td>0</td>\n",
       "      <td>0</td>\n",
       "      <td>113308.29</td>\n",
       "      <td>0</td>\n",
       "    </tr>\n",
       "    <tr>\n",
       "      <th>9985</th>\n",
       "      <td>659</td>\n",
       "      <td>France</td>\n",
       "      <td>Male</td>\n",
       "      <td>36</td>\n",
       "      <td>NaN</td>\n",
       "      <td>123841.49</td>\n",
       "      <td>2</td>\n",
       "      <td>1</td>\n",
       "      <td>0</td>\n",
       "      <td>96833.00</td>\n",
       "      <td>0</td>\n",
       "    </tr>\n",
       "    <tr>\n",
       "      <th>9999</th>\n",
       "      <td>792</td>\n",
       "      <td>France</td>\n",
       "      <td>Female</td>\n",
       "      <td>28</td>\n",
       "      <td>NaN</td>\n",
       "      <td>130142.79</td>\n",
       "      <td>1</td>\n",
       "      <td>1</td>\n",
       "      <td>0</td>\n",
       "      <td>38190.78</td>\n",
       "      <td>0</td>\n",
       "    </tr>\n",
       "  </tbody>\n",
       "</table>\n",
       "<p>909 rows × 11 columns</p>\n",
       "</div>"
      ],
      "text/plain": [
       "      CreditScore Geography  Gender  Age  Tenure    Balance  NumOfProducts  \\\n",
       "30            591     Spain  Female   39     NaN       0.00              3   \n",
       "48            550   Germany    Male   38     NaN  103391.38              1   \n",
       "51            585   Germany    Male   36     NaN  146050.97              2   \n",
       "53            655   Germany    Male   41     NaN  125561.97              1   \n",
       "60            742   Germany    Male   35     NaN  136857.00              1   \n",
       "...           ...       ...     ...  ...     ...        ...            ...   \n",
       "9944          744   Germany    Male   41     NaN  190409.34              2   \n",
       "9956          520    France  Female   46     NaN   85216.61              1   \n",
       "9964          479    France    Male   34     NaN  117593.48              2   \n",
       "9985          659    France    Male   36     NaN  123841.49              2   \n",
       "9999          792    France  Female   28     NaN  130142.79              1   \n",
       "\n",
       "      HasCrCard  IsActiveMember  EstimatedSalary  Exited  \n",
       "30            1               0        140469.38       1  \n",
       "48            0               1         90878.13       0  \n",
       "51            0               0         86424.57       0  \n",
       "53            0               0        164040.94       1  \n",
       "60            0               0         84509.57       0  \n",
       "...         ...             ...              ...     ...  \n",
       "9944          1               1        138361.48       0  \n",
       "9956          1               0        117369.52       1  \n",
       "9964          0               0        113308.29       0  \n",
       "9985          1               0         96833.00       0  \n",
       "9999          1               0         38190.78       0  \n",
       "\n",
       "[909 rows x 11 columns]"
      ]
     },
     "execution_count": 10,
     "metadata": {},
     "output_type": "execute_result"
    }
   ],
   "source": [
    "data[data['Tenure'].isna()]"
   ]
  },
  {
   "cell_type": "code",
   "execution_count": 11,
   "metadata": {},
   "outputs": [
    {
     "name": "stdout",
     "output_type": "stream",
     "text": [
      "5.0\n",
      "4.997690023099769\n"
     ]
    },
    {
     "data": {
      "image/png": "[encoded data removed]",
      "text/plain": [
       "<Figure size 432x288 with 1 Axes>"
      ]
     },
     "metadata": {
      "needs_background": "light"
     },
     "output_type": "display_data"
    }
   ],
   "source": [
    "data['Tenure'].hist()\n",
    "print(data['Tenure'].median())\n",
    "print(data['Tenure'].mean())"
   ]
  },
  {
   "cell_type": "markdown",
   "metadata": {},
   "source": [
    "скорее всего пропуски у тех, кто в банке первый год"
   ]
  },
  {
   "cell_type": "code",
   "execution_count": 12,
   "metadata": {},
   "outputs": [],
   "source": [
    "data.fillna(5, inplace=True)"
   ]
  },
  {
   "cell_type": "code",
   "execution_count": 13,
   "metadata": {},
   "outputs": [
    {
     "data": {
      "text/plain": [
       "5.0     1836\n",
       "1.0      952\n",
       "2.0      950\n",
       "8.0      933\n",
       "3.0      928\n",
       "7.0      925\n",
       "4.0      885\n",
       "9.0      882\n",
       "6.0      881\n",
       "10.0     446\n",
       "0.0      382\n",
       "Name: Tenure, dtype: int64"
      ]
     },
     "execution_count": 13,
     "metadata": {},
     "output_type": "execute_result"
    }
   ],
   "source": [
    "data['Tenure'].value_counts()"
   ]
  },
  {
   "cell_type": "code",
   "execution_count": 14,
   "metadata": {},
   "outputs": [
    {
     "name": "stdout",
     "output_type": "stream",
     "text": [
      "5.0\n",
      "4.9979\n"
     ]
    },
    {
     "data": {
      "image/png": "[encoded data removed]",
      "text/plain": [
       "<Figure size 432x288 with 1 Axes>"
      ]
     },
     "metadata": {
      "needs_background": "light"
     },
     "output_type": "display_data"
    }
   ],
   "source": [
    "data['Tenure'].hist()\n",
    "print(data['Tenure'].median())\n",
    "print(data['Tenure'].mean())"
   ]
  },
  {
   "cell_type": "code",
   "execution_count": 15,
   "metadata": {},
   "outputs": [
    {
     "data": {
      "text/plain": [
       "(10000, 11)"
      ]
     },
     "execution_count": 15,
     "metadata": {},
     "output_type": "execute_result"
    }
   ],
   "source": [
    "data.shape"
   ]
  },
  {
   "cell_type": "code",
   "execution_count": 16,
   "metadata": {},
   "outputs": [
    {
     "data": {
      "text/html": [
       "<div>\n",
       "<style scoped>\n",
       "    .dataframe tbody tr th:only-of-type {\n",
       "        vertical-align: middle;\n",
       "    }\n",
       "\n",
       "    .dataframe tbody tr th {\n",
       "        vertical-align: top;\n",
       "    }\n",
       "\n",
       "    .dataframe thead th {\n",
       "        text-align: right;\n",
       "    }\n",
       "</style>\n",
       "<table border=\"1\" class=\"dataframe\">\n",
       "  <thead>\n",
       "    <tr style=\"text-align: right;\">\n",
       "      <th></th>\n",
       "      <th>CreditScore</th>\n",
       "      <th>Geography</th>\n",
       "      <th>Gender</th>\n",
       "      <th>Age</th>\n",
       "      <th>Tenure</th>\n",
       "      <th>Balance</th>\n",
       "      <th>NumOfProducts</th>\n",
       "      <th>HasCrCard</th>\n",
       "      <th>IsActiveMember</th>\n",
       "      <th>EstimatedSalary</th>\n",
       "      <th>Exited</th>\n",
       "    </tr>\n",
       "  </thead>\n",
       "  <tbody>\n",
       "    <tr>\n",
       "      <th>0</th>\n",
       "      <td>619</td>\n",
       "      <td>France</td>\n",
       "      <td>Female</td>\n",
       "      <td>42</td>\n",
       "      <td>2.0</td>\n",
       "      <td>0.00</td>\n",
       "      <td>1</td>\n",
       "      <td>1</td>\n",
       "      <td>1</td>\n",
       "      <td>101348.88</td>\n",
       "      <td>1</td>\n",
       "    </tr>\n",
       "    <tr>\n",
       "      <th>1</th>\n",
       "      <td>608</td>\n",
       "      <td>Spain</td>\n",
       "      <td>Female</td>\n",
       "      <td>41</td>\n",
       "      <td>1.0</td>\n",
       "      <td>83807.86</td>\n",
       "      <td>1</td>\n",
       "      <td>0</td>\n",
       "      <td>1</td>\n",
       "      <td>112542.58</td>\n",
       "      <td>0</td>\n",
       "    </tr>\n",
       "    <tr>\n",
       "      <th>2</th>\n",
       "      <td>502</td>\n",
       "      <td>France</td>\n",
       "      <td>Female</td>\n",
       "      <td>42</td>\n",
       "      <td>8.0</td>\n",
       "      <td>159660.80</td>\n",
       "      <td>3</td>\n",
       "      <td>1</td>\n",
       "      <td>0</td>\n",
       "      <td>113931.57</td>\n",
       "      <td>1</td>\n",
       "    </tr>\n",
       "    <tr>\n",
       "      <th>3</th>\n",
       "      <td>699</td>\n",
       "      <td>France</td>\n",
       "      <td>Female</td>\n",
       "      <td>39</td>\n",
       "      <td>1.0</td>\n",
       "      <td>0.00</td>\n",
       "      <td>2</td>\n",
       "      <td>0</td>\n",
       "      <td>0</td>\n",
       "      <td>93826.63</td>\n",
       "      <td>0</td>\n",
       "    </tr>\n",
       "    <tr>\n",
       "      <th>4</th>\n",
       "      <td>850</td>\n",
       "      <td>Spain</td>\n",
       "      <td>Female</td>\n",
       "      <td>43</td>\n",
       "      <td>2.0</td>\n",
       "      <td>125510.82</td>\n",
       "      <td>1</td>\n",
       "      <td>1</td>\n",
       "      <td>1</td>\n",
       "      <td>79084.10</td>\n",
       "      <td>0</td>\n",
       "    </tr>\n",
       "  </tbody>\n",
       "</table>\n",
       "</div>"
      ],
      "text/plain": [
       "   CreditScore Geography  Gender  Age  Tenure    Balance  NumOfProducts  \\\n",
       "0          619    France  Female   42     2.0       0.00              1   \n",
       "1          608     Spain  Female   41     1.0   83807.86              1   \n",
       "2          502    France  Female   42     8.0  159660.80              3   \n",
       "3          699    France  Female   39     1.0       0.00              2   \n",
       "4          850     Spain  Female   43     2.0  125510.82              1   \n",
       "\n",
       "   HasCrCard  IsActiveMember  EstimatedSalary  Exited  \n",
       "0          1               1        101348.88       1  \n",
       "1          0               1        112542.58       0  \n",
       "2          1               0        113931.57       1  \n",
       "3          0               0         93826.63       0  \n",
       "4          1               1         79084.10       0  "
      ]
     },
     "execution_count": 16,
     "metadata": {},
     "output_type": "execute_result"
    }
   ],
   "source": [
    "data.head()"
   ]
  },
  {
   "cell_type": "code",
   "execution_count": 17,
   "metadata": {},
   "outputs": [],
   "source": [
    "data_ohe = pd.get_dummies(data, drop_first=True)"
   ]
  },
  {
   "cell_type": "code",
   "execution_count": 18,
   "metadata": {},
   "outputs": [
    {
     "data": {
      "text/plain": [
       "(10000, 12)"
      ]
     },
     "execution_count": 18,
     "metadata": {},
     "output_type": "execute_result"
    }
   ],
   "source": [
    "data_ohe.shape"
   ]
  },
  {
   "cell_type": "code",
   "execution_count": 19,
   "metadata": {},
   "outputs": [
    {
     "data": {
      "text/html": [
       "<div>\n",
       "<style scoped>\n",
       "    .dataframe tbody tr th:only-of-type {\n",
       "        vertical-align: middle;\n",
       "    }\n",
       "\n",
       "    .dataframe tbody tr th {\n",
       "        vertical-align: top;\n",
       "    }\n",
       "\n",
       "    .dataframe thead th {\n",
       "        text-align: right;\n",
       "    }\n",
       "</style>\n",
       "<table border=\"1\" class=\"dataframe\">\n",
       "  <thead>\n",
       "    <tr style=\"text-align: right;\">\n",
       "      <th></th>\n",
       "      <th>CreditScore</th>\n",
       "      <th>Age</th>\n",
       "      <th>Tenure</th>\n",
       "      <th>Balance</th>\n",
       "      <th>NumOfProducts</th>\n",
       "      <th>HasCrCard</th>\n",
       "      <th>IsActiveMember</th>\n",
       "      <th>EstimatedSalary</th>\n",
       "      <th>Exited</th>\n",
       "      <th>Geography_Germany</th>\n",
       "      <th>Geography_Spain</th>\n",
       "      <th>Gender_Male</th>\n",
       "    </tr>\n",
       "  </thead>\n",
       "  <tbody>\n",
       "    <tr>\n",
       "      <th>0</th>\n",
       "      <td>619</td>\n",
       "      <td>42</td>\n",
       "      <td>2.0</td>\n",
       "      <td>0.00</td>\n",
       "      <td>1</td>\n",
       "      <td>1</td>\n",
       "      <td>1</td>\n",
       "      <td>101348.88</td>\n",
       "      <td>1</td>\n",
       "      <td>0</td>\n",
       "      <td>0</td>\n",
       "      <td>0</td>\n",
       "    </tr>\n",
       "    <tr>\n",
       "      <th>1</th>\n",
       "      <td>608</td>\n",
       "      <td>41</td>\n",
       "      <td>1.0</td>\n",
       "      <td>83807.86</td>\n",
       "      <td>1</td>\n",
       "      <td>0</td>\n",
       "      <td>1</td>\n",
       "      <td>112542.58</td>\n",
       "      <td>0</td>\n",
       "      <td>0</td>\n",
       "      <td>1</td>\n",
       "      <td>0</td>\n",
       "    </tr>\n",
       "    <tr>\n",
       "      <th>2</th>\n",
       "      <td>502</td>\n",
       "      <td>42</td>\n",
       "      <td>8.0</td>\n",
       "      <td>159660.80</td>\n",
       "      <td>3</td>\n",
       "      <td>1</td>\n",
       "      <td>0</td>\n",
       "      <td>113931.57</td>\n",
       "      <td>1</td>\n",
       "      <td>0</td>\n",
       "      <td>0</td>\n",
       "      <td>0</td>\n",
       "    </tr>\n",
       "    <tr>\n",
       "      <th>3</th>\n",
       "      <td>699</td>\n",
       "      <td>39</td>\n",
       "      <td>1.0</td>\n",
       "      <td>0.00</td>\n",
       "      <td>2</td>\n",
       "      <td>0</td>\n",
       "      <td>0</td>\n",
       "      <td>93826.63</td>\n",
       "      <td>0</td>\n",
       "      <td>0</td>\n",
       "      <td>0</td>\n",
       "      <td>0</td>\n",
       "    </tr>\n",
       "    <tr>\n",
       "      <th>4</th>\n",
       "      <td>850</td>\n",
       "      <td>43</td>\n",
       "      <td>2.0</td>\n",
       "      <td>125510.82</td>\n",
       "      <td>1</td>\n",
       "      <td>1</td>\n",
       "      <td>1</td>\n",
       "      <td>79084.10</td>\n",
       "      <td>0</td>\n",
       "      <td>0</td>\n",
       "      <td>1</td>\n",
       "      <td>0</td>\n",
       "    </tr>\n",
       "  </tbody>\n",
       "</table>\n",
       "</div>"
      ],
      "text/plain": [
       "   CreditScore  Age  Tenure    Balance  NumOfProducts  HasCrCard  \\\n",
       "0          619   42     2.0       0.00              1          1   \n",
       "1          608   41     1.0   83807.86              1          0   \n",
       "2          502   42     8.0  159660.80              3          1   \n",
       "3          699   39     1.0       0.00              2          0   \n",
       "4          850   43     2.0  125510.82              1          1   \n",
       "\n",
       "   IsActiveMember  EstimatedSalary  Exited  Geography_Germany  \\\n",
       "0               1        101348.88       1                  0   \n",
       "1               1        112542.58       0                  0   \n",
       "2               0        113931.57       1                  0   \n",
       "3               0         93826.63       0                  0   \n",
       "4               1         79084.10       0                  0   \n",
       "\n",
       "   Geography_Spain  Gender_Male  \n",
       "0                0            0  \n",
       "1                1            0  \n",
       "2                0            0  \n",
       "3                0            0  \n",
       "4                1            0  "
      ]
     },
     "execution_count": 19,
     "metadata": {},
     "output_type": "execute_result"
    }
   ],
   "source": [
    "data_ohe.head()"
   ]
  },
  {
   "cell_type": "markdown",
   "metadata": {},
   "source": [
    "В новом датафрейме мы получили 12 столбцов. В столбце Geography исходно 3 класса, а в Gender_Male 2 класса — в результате мы получили только 2 и 1 столбцов соответственно, что позволяет избежать дами-ловушки."
   ]
  },
  {
   "cell_type": "markdown",
   "metadata": {},
   "source": [
    "Формируем выборки для обучения модели "
   ]
  },
  {
   "cell_type": "code",
   "execution_count": 20,
   "metadata": {},
   "outputs": [],
   "source": [
    "features = data_ohe.drop('Exited', axis=1)\n",
    "target = data_ohe['Exited']"
   ]
  },
  {
   "cell_type": "code",
   "execution_count": 21,
   "metadata": {},
   "outputs": [
    {
     "name": "stdout",
     "output_type": "stream",
     "text": [
      "(10000, 11)\n",
      "(10000,)\n"
     ]
    }
   ],
   "source": [
    "print(features.shape)\n",
    "print(target.shape)"
   ]
  },
  {
   "cell_type": "code",
   "execution_count": 22,
   "metadata": {},
   "outputs": [
    {
     "name": "stdout",
     "output_type": "stream",
     "text": [
      "Размер тренериующей выборки 6000\n",
      "Размер валидационной выборки 2000\n",
      "Размер тестовой выборки 2000\n",
      "Соотношение тренериующей выборки 0    0.796333\n",
      "1    0.203667\n",
      "Name: Exited, dtype: float64\n",
      "Соотношение валидационной выборки 0    0.7965\n",
      "1    0.2035\n",
      "Name: Exited, dtype: float64\n",
      "Соотношение тестовой выборки 0    0.796\n",
      "1    0.204\n",
      "Name: Exited, dtype: float64\n"
     ]
    }
   ],
   "source": [
    "features_train, features_valid, target_train, target_valid = train_test_split(features, target, test_size=0.4, random_state=12345, stratify=data_ohe['Exited']) \n",
    "features_test, features_valid, target_test, target_valid = train_test_split(features_valid, target_valid, test_size=0.5, random_state=12345, stratify=target_valid) \n",
    "\n",
    "\n",
    "print('Размер тренериующей выборки', features_train.shape[0])\n",
    "print('Размер валидационной выборки', features_valid.shape[0])\n",
    "print('Размер тестовой выборки', features_test.shape[0])\n",
    "\n",
    "print('Соотношение тренериующей выборки',target_train.value_counts(True))\n",
    "print('Соотношение валидационной выборки',target_valid.value_counts(True))\n",
    "print('Соотношение тестовой выборки', target_test.value_counts(True))"
   ]
  },
  {
   "cell_type": "markdown",
   "metadata": {},
   "source": [
    "разбили выборки с сохранением баланса классов целевого признака"
   ]
  },
  {
   "cell_type": "code",
   "execution_count": 23,
   "metadata": {},
   "outputs": [
    {
     "name": "stderr",
     "output_type": "stream",
     "text": [
      "/tmp/ipykernel_115/4046132600.py:5: SettingWithCopyWarning: \n",
      "A value is trying to be set on a copy of a slice from a DataFrame.\n",
      "Try using .loc[row_indexer,col_indexer] = value instead\n",
      "\n",
      "See the caveats in the documentation: https://pandas.pydata.org/pandas-docs/stable/user_guide/indexing.html#returning-a-view-versus-a-copy\n",
      "  features_train[numeric] = scaler.transform(features_train[numeric])\n",
      "/opt/conda/lib/python3.9/site-packages/pandas/core/indexing.py:1738: SettingWithCopyWarning: \n",
      "A value is trying to be set on a copy of a slice from a DataFrame.\n",
      "Try using .loc[row_indexer,col_indexer] = value instead\n",
      "\n",
      "See the caveats in the documentation: https://pandas.pydata.org/pandas-docs/stable/user_guide/indexing.html#returning-a-view-versus-a-copy\n",
      "  self._setitem_single_column(loc, value[:, i].tolist(), pi)\n"
     ]
    }
   ],
   "source": [
    "numeric = ['CreditScore', 'Age', 'Tenure', 'Balance', 'NumOfProducts', 'EstimatedSalary']\n",
    "\n",
    "scaler = StandardScaler()\n",
    "scaler.fit(features_train[numeric])\n",
    "features_train[numeric] = scaler.transform(features_train[numeric])\n",
    "features_valid[numeric] = scaler.transform(features_valid[numeric])\n",
    "features_test[numeric] = scaler.transform(features_test[numeric])\n",
    "\n"
   ]
  },
  {
   "cell_type": "code",
   "execution_count": 24,
   "metadata": {},
   "outputs": [
    {
     "data": {
      "text/html": [
       "<div>\n",
       "<style scoped>\n",
       "    .dataframe tbody tr th:only-of-type {\n",
       "        vertical-align: middle;\n",
       "    }\n",
       "\n",
       "    .dataframe tbody tr th {\n",
       "        vertical-align: top;\n",
       "    }\n",
       "\n",
       "    .dataframe thead th {\n",
       "        text-align: right;\n",
       "    }\n",
       "</style>\n",
       "<table border=\"1\" class=\"dataframe\">\n",
       "  <thead>\n",
       "    <tr style=\"text-align: right;\">\n",
       "      <th></th>\n",
       "      <th>CreditScore</th>\n",
       "      <th>Age</th>\n",
       "      <th>Tenure</th>\n",
       "      <th>Balance</th>\n",
       "      <th>NumOfProducts</th>\n",
       "      <th>HasCrCard</th>\n",
       "      <th>IsActiveMember</th>\n",
       "      <th>EstimatedSalary</th>\n",
       "      <th>Geography_Germany</th>\n",
       "      <th>Geography_Spain</th>\n",
       "      <th>Gender_Male</th>\n",
       "    </tr>\n",
       "  </thead>\n",
       "  <tbody>\n",
       "    <tr>\n",
       "      <th>2837</th>\n",
       "      <td>-1.040434</td>\n",
       "      <td>0.953312</td>\n",
       "      <td>0.360600</td>\n",
       "      <td>0.774657</td>\n",
       "      <td>-0.914708</td>\n",
       "      <td>0</td>\n",
       "      <td>1</td>\n",
       "      <td>-0.119110</td>\n",
       "      <td>1</td>\n",
       "      <td>0</td>\n",
       "      <td>0</td>\n",
       "    </tr>\n",
       "    <tr>\n",
       "      <th>9925</th>\n",
       "      <td>0.454006</td>\n",
       "      <td>-0.095244</td>\n",
       "      <td>-0.002786</td>\n",
       "      <td>1.910540</td>\n",
       "      <td>-0.914708</td>\n",
       "      <td>1</td>\n",
       "      <td>1</td>\n",
       "      <td>-0.258658</td>\n",
       "      <td>0</td>\n",
       "      <td>0</td>\n",
       "      <td>0</td>\n",
       "    </tr>\n",
       "    <tr>\n",
       "      <th>8746</th>\n",
       "      <td>0.103585</td>\n",
       "      <td>-0.476537</td>\n",
       "      <td>1.087371</td>\n",
       "      <td>0.481608</td>\n",
       "      <td>0.820981</td>\n",
       "      <td>0</td>\n",
       "      <td>1</td>\n",
       "      <td>1.422836</td>\n",
       "      <td>0</td>\n",
       "      <td>0</td>\n",
       "      <td>1</td>\n",
       "    </tr>\n",
       "    <tr>\n",
       "      <th>660</th>\n",
       "      <td>-0.184996</td>\n",
       "      <td>0.190726</td>\n",
       "      <td>-0.002786</td>\n",
       "      <td>0.088439</td>\n",
       "      <td>-0.914708</td>\n",
       "      <td>1</td>\n",
       "      <td>1</td>\n",
       "      <td>-1.160427</td>\n",
       "      <td>1</td>\n",
       "      <td>0</td>\n",
       "      <td>0</td>\n",
       "    </tr>\n",
       "    <tr>\n",
       "      <th>3610</th>\n",
       "      <td>-0.720933</td>\n",
       "      <td>1.620574</td>\n",
       "      <td>-1.456328</td>\n",
       "      <td>0.879129</td>\n",
       "      <td>-0.914708</td>\n",
       "      <td>1</td>\n",
       "      <td>0</td>\n",
       "      <td>0.113236</td>\n",
       "      <td>0</td>\n",
       "      <td>0</td>\n",
       "      <td>0</td>\n",
       "    </tr>\n",
       "  </tbody>\n",
       "</table>\n",
       "</div>"
      ],
      "text/plain": [
       "      CreditScore       Age    Tenure   Balance  NumOfProducts  HasCrCard  \\\n",
       "2837    -1.040434  0.953312  0.360600  0.774657      -0.914708          0   \n",
       "9925     0.454006 -0.095244 -0.002786  1.910540      -0.914708          1   \n",
       "8746     0.103585 -0.476537  1.087371  0.481608       0.820981          0   \n",
       "660     -0.184996  0.190726 -0.002786  0.088439      -0.914708          1   \n",
       "3610    -0.720933  1.620574 -1.456328  0.879129      -0.914708          1   \n",
       "\n",
       "      IsActiveMember  EstimatedSalary  Geography_Germany  Geography_Spain  \\\n",
       "2837               1        -0.119110                  1                0   \n",
       "9925               1        -0.258658                  0                0   \n",
       "8746               1         1.422836                  0                0   \n",
       "660                1        -1.160427                  1                0   \n",
       "3610               0         0.113236                  0                0   \n",
       "\n",
       "      Gender_Male  \n",
       "2837            0  \n",
       "9925            0  \n",
       "8746            1  \n",
       "660             0  \n",
       "3610            0  "
      ]
     },
     "execution_count": 24,
     "metadata": {},
     "output_type": "execute_result"
    }
   ],
   "source": [
    "features_train.head()"
   ]
  },
  {
   "cell_type": "code",
   "execution_count": 25,
   "metadata": {},
   "outputs": [
    {
     "data": {
      "text/html": [
       "<div>\n",
       "<style scoped>\n",
       "    .dataframe tbody tr th:only-of-type {\n",
       "        vertical-align: middle;\n",
       "    }\n",
       "\n",
       "    .dataframe tbody tr th {\n",
       "        vertical-align: top;\n",
       "    }\n",
       "\n",
       "    .dataframe thead th {\n",
       "        text-align: right;\n",
       "    }\n",
       "</style>\n",
       "<table border=\"1\" class=\"dataframe\">\n",
       "  <thead>\n",
       "    <tr style=\"text-align: right;\">\n",
       "      <th></th>\n",
       "      <th>CreditScore</th>\n",
       "      <th>Age</th>\n",
       "      <th>Tenure</th>\n",
       "      <th>Balance</th>\n",
       "      <th>NumOfProducts</th>\n",
       "      <th>HasCrCard</th>\n",
       "      <th>IsActiveMember</th>\n",
       "      <th>EstimatedSalary</th>\n",
       "      <th>Geography_Germany</th>\n",
       "      <th>Geography_Spain</th>\n",
       "      <th>Gender_Male</th>\n",
       "    </tr>\n",
       "  </thead>\n",
       "  <tbody>\n",
       "    <tr>\n",
       "      <th>657</th>\n",
       "      <td>-0.504497</td>\n",
       "      <td>1.429928</td>\n",
       "      <td>-1.456328</td>\n",
       "      <td>0.873883</td>\n",
       "      <td>0.820981</td>\n",
       "      <td>1</td>\n",
       "      <td>1</td>\n",
       "      <td>1.725255</td>\n",
       "      <td>1</td>\n",
       "      <td>0</td>\n",
       "      <td>0</td>\n",
       "    </tr>\n",
       "    <tr>\n",
       "      <th>2083</th>\n",
       "      <td>-1.195031</td>\n",
       "      <td>-1.429769</td>\n",
       "      <td>-1.456328</td>\n",
       "      <td>-1.219673</td>\n",
       "      <td>-0.914708</td>\n",
       "      <td>1</td>\n",
       "      <td>1</td>\n",
       "      <td>1.203665</td>\n",
       "      <td>0</td>\n",
       "      <td>0</td>\n",
       "      <td>1</td>\n",
       "    </tr>\n",
       "    <tr>\n",
       "      <th>3234</th>\n",
       "      <td>-1.267176</td>\n",
       "      <td>0.762665</td>\n",
       "      <td>-1.456328</td>\n",
       "      <td>-1.219673</td>\n",
       "      <td>-0.914708</td>\n",
       "      <td>1</td>\n",
       "      <td>0</td>\n",
       "      <td>-1.374743</td>\n",
       "      <td>0</td>\n",
       "      <td>0</td>\n",
       "      <td>1</td>\n",
       "    </tr>\n",
       "    <tr>\n",
       "      <th>1551</th>\n",
       "      <td>0.825039</td>\n",
       "      <td>1.239281</td>\n",
       "      <td>0.723985</td>\n",
       "      <td>-1.219673</td>\n",
       "      <td>0.820981</td>\n",
       "      <td>0</td>\n",
       "      <td>1</td>\n",
       "      <td>0.382306</td>\n",
       "      <td>0</td>\n",
       "      <td>1</td>\n",
       "      <td>0</td>\n",
       "    </tr>\n",
       "    <tr>\n",
       "      <th>2344</th>\n",
       "      <td>0.660135</td>\n",
       "      <td>0.953312</td>\n",
       "      <td>-0.366172</td>\n",
       "      <td>0.267087</td>\n",
       "      <td>-0.914708</td>\n",
       "      <td>1</td>\n",
       "      <td>0</td>\n",
       "      <td>-1.613578</td>\n",
       "      <td>1</td>\n",
       "      <td>0</td>\n",
       "      <td>0</td>\n",
       "    </tr>\n",
       "  </tbody>\n",
       "</table>\n",
       "</div>"
      ],
      "text/plain": [
       "      CreditScore       Age    Tenure   Balance  NumOfProducts  HasCrCard  \\\n",
       "657     -0.504497  1.429928 -1.456328  0.873883       0.820981          1   \n",
       "2083    -1.195031 -1.429769 -1.456328 -1.219673      -0.914708          1   \n",
       "3234    -1.267176  0.762665 -1.456328 -1.219673      -0.914708          1   \n",
       "1551     0.825039  1.239281  0.723985 -1.219673       0.820981          0   \n",
       "2344     0.660135  0.953312 -0.366172  0.267087      -0.914708          1   \n",
       "\n",
       "      IsActiveMember  EstimatedSalary  Geography_Germany  Geography_Spain  \\\n",
       "657                1         1.725255                  1                0   \n",
       "2083               1         1.203665                  0                0   \n",
       "3234               0        -1.374743                  0                0   \n",
       "1551               1         0.382306                  0                1   \n",
       "2344               0        -1.613578                  1                0   \n",
       "\n",
       "      Gender_Male  \n",
       "657             0  \n",
       "2083            1  \n",
       "3234            1  \n",
       "1551            0  \n",
       "2344            0  "
      ]
     },
     "execution_count": 25,
     "metadata": {},
     "output_type": "execute_result"
    }
   ],
   "source": [
    "features_valid.head()"
   ]
  },
  {
   "cell_type": "code",
   "execution_count": 26,
   "metadata": {},
   "outputs": [
    {
     "data": {
      "text/html": [
       "<div>\n",
       "<style scoped>\n",
       "    .dataframe tbody tr th:only-of-type {\n",
       "        vertical-align: middle;\n",
       "    }\n",
       "\n",
       "    .dataframe tbody tr th {\n",
       "        vertical-align: top;\n",
       "    }\n",
       "\n",
       "    .dataframe thead th {\n",
       "        text-align: right;\n",
       "    }\n",
       "</style>\n",
       "<table border=\"1\" class=\"dataframe\">\n",
       "  <thead>\n",
       "    <tr style=\"text-align: right;\">\n",
       "      <th></th>\n",
       "      <th>CreditScore</th>\n",
       "      <th>Age</th>\n",
       "      <th>Tenure</th>\n",
       "      <th>Balance</th>\n",
       "      <th>NumOfProducts</th>\n",
       "      <th>HasCrCard</th>\n",
       "      <th>IsActiveMember</th>\n",
       "      <th>EstimatedSalary</th>\n",
       "      <th>Geography_Germany</th>\n",
       "      <th>Geography_Spain</th>\n",
       "      <th>Gender_Male</th>\n",
       "    </tr>\n",
       "  </thead>\n",
       "  <tbody>\n",
       "    <tr>\n",
       "      <th>6612</th>\n",
       "      <td>-1.524838</td>\n",
       "      <td>2.383160</td>\n",
       "      <td>-0.729557</td>\n",
       "      <td>1.011655</td>\n",
       "      <td>-0.914708</td>\n",
       "      <td>0</td>\n",
       "      <td>1</td>\n",
       "      <td>0.010275</td>\n",
       "      <td>0</td>\n",
       "      <td>0</td>\n",
       "      <td>0</td>\n",
       "    </tr>\n",
       "    <tr>\n",
       "      <th>519</th>\n",
       "      <td>0.587990</td>\n",
       "      <td>1.811221</td>\n",
       "      <td>0.360600</td>\n",
       "      <td>0.213192</td>\n",
       "      <td>-0.914708</td>\n",
       "      <td>0</td>\n",
       "      <td>1</td>\n",
       "      <td>0.453089</td>\n",
       "      <td>0</td>\n",
       "      <td>0</td>\n",
       "      <td>1</td>\n",
       "    </tr>\n",
       "    <tr>\n",
       "      <th>1609</th>\n",
       "      <td>-0.318980</td>\n",
       "      <td>-0.381213</td>\n",
       "      <td>1.087371</td>\n",
       "      <td>0.893896</td>\n",
       "      <td>-0.914708</td>\n",
       "      <td>1</td>\n",
       "      <td>0</td>\n",
       "      <td>-0.603508</td>\n",
       "      <td>0</td>\n",
       "      <td>0</td>\n",
       "      <td>0</td>\n",
       "    </tr>\n",
       "    <tr>\n",
       "      <th>3475</th>\n",
       "      <td>1.226991</td>\n",
       "      <td>-0.762506</td>\n",
       "      <td>-0.366172</td>\n",
       "      <td>-0.240363</td>\n",
       "      <td>0.820981</td>\n",
       "      <td>1</td>\n",
       "      <td>1</td>\n",
       "      <td>-1.621460</td>\n",
       "      <td>0</td>\n",
       "      <td>0</td>\n",
       "      <td>1</td>\n",
       "    </tr>\n",
       "    <tr>\n",
       "      <th>2707</th>\n",
       "      <td>-0.133464</td>\n",
       "      <td>-0.095244</td>\n",
       "      <td>-0.729557</td>\n",
       "      <td>0.447305</td>\n",
       "      <td>-0.914708</td>\n",
       "      <td>0</td>\n",
       "      <td>0</td>\n",
       "      <td>0.338574</td>\n",
       "      <td>0</td>\n",
       "      <td>0</td>\n",
       "      <td>0</td>\n",
       "    </tr>\n",
       "  </tbody>\n",
       "</table>\n",
       "</div>"
      ],
      "text/plain": [
       "      CreditScore       Age    Tenure   Balance  NumOfProducts  HasCrCard  \\\n",
       "6612    -1.524838  2.383160 -0.729557  1.011655      -0.914708          0   \n",
       "519      0.587990  1.811221  0.360600  0.213192      -0.914708          0   \n",
       "1609    -0.318980 -0.381213  1.087371  0.893896      -0.914708          1   \n",
       "3475     1.226991 -0.762506 -0.366172 -0.240363       0.820981          1   \n",
       "2707    -0.133464 -0.095244 -0.729557  0.447305      -0.914708          0   \n",
       "\n",
       "      IsActiveMember  EstimatedSalary  Geography_Germany  Geography_Spain  \\\n",
       "6612               1         0.010275                  0                0   \n",
       "519                1         0.453089                  0                0   \n",
       "1609               0        -0.603508                  0                0   \n",
       "3475               1        -1.621460                  0                0   \n",
       "2707               0         0.338574                  0                0   \n",
       "\n",
       "      Gender_Male  \n",
       "6612            0  \n",
       "519             1  \n",
       "1609            0  \n",
       "3475            1  \n",
       "2707            0  "
      ]
     },
     "execution_count": 26,
     "metadata": {},
     "output_type": "execute_result"
    }
   ],
   "source": [
    "features_test.head()"
   ]
  },
  {
   "cell_type": "markdown",
   "metadata": {},
   "source": [
    "провели масштабирование признаков"
   ]
  },
  {
   "cell_type": "markdown",
   "metadata": {},
   "source": [
    "## Исследование задачи"
   ]
  },
  {
   "cell_type": "code",
   "execution_count": 27,
   "metadata": {},
   "outputs": [
    {
     "data": {
      "text/html": [
       "<div>\n",
       "<style scoped>\n",
       "    .dataframe tbody tr th:only-of-type {\n",
       "        vertical-align: middle;\n",
       "    }\n",
       "\n",
       "    .dataframe tbody tr th {\n",
       "        vertical-align: top;\n",
       "    }\n",
       "\n",
       "    .dataframe thead th {\n",
       "        text-align: right;\n",
       "    }\n",
       "</style>\n",
       "<table border=\"1\" class=\"dataframe\">\n",
       "  <thead>\n",
       "    <tr style=\"text-align: right;\">\n",
       "      <th></th>\n",
       "      <th>CreditScore</th>\n",
       "      <th>Age</th>\n",
       "      <th>Tenure</th>\n",
       "      <th>Balance</th>\n",
       "      <th>NumOfProducts</th>\n",
       "      <th>HasCrCard</th>\n",
       "      <th>IsActiveMember</th>\n",
       "      <th>EstimatedSalary</th>\n",
       "      <th>Geography_Germany</th>\n",
       "      <th>Geography_Spain</th>\n",
       "      <th>Gender_Male</th>\n",
       "    </tr>\n",
       "  </thead>\n",
       "  <tbody>\n",
       "    <tr>\n",
       "      <th>2837</th>\n",
       "      <td>-1.040434</td>\n",
       "      <td>0.953312</td>\n",
       "      <td>0.360600</td>\n",
       "      <td>0.774657</td>\n",
       "      <td>-0.914708</td>\n",
       "      <td>0</td>\n",
       "      <td>1</td>\n",
       "      <td>-0.119110</td>\n",
       "      <td>1</td>\n",
       "      <td>0</td>\n",
       "      <td>0</td>\n",
       "    </tr>\n",
       "    <tr>\n",
       "      <th>9925</th>\n",
       "      <td>0.454006</td>\n",
       "      <td>-0.095244</td>\n",
       "      <td>-0.002786</td>\n",
       "      <td>1.910540</td>\n",
       "      <td>-0.914708</td>\n",
       "      <td>1</td>\n",
       "      <td>1</td>\n",
       "      <td>-0.258658</td>\n",
       "      <td>0</td>\n",
       "      <td>0</td>\n",
       "      <td>0</td>\n",
       "    </tr>\n",
       "    <tr>\n",
       "      <th>8746</th>\n",
       "      <td>0.103585</td>\n",
       "      <td>-0.476537</td>\n",
       "      <td>1.087371</td>\n",
       "      <td>0.481608</td>\n",
       "      <td>0.820981</td>\n",
       "      <td>0</td>\n",
       "      <td>1</td>\n",
       "      <td>1.422836</td>\n",
       "      <td>0</td>\n",
       "      <td>0</td>\n",
       "      <td>1</td>\n",
       "    </tr>\n",
       "    <tr>\n",
       "      <th>660</th>\n",
       "      <td>-0.184996</td>\n",
       "      <td>0.190726</td>\n",
       "      <td>-0.002786</td>\n",
       "      <td>0.088439</td>\n",
       "      <td>-0.914708</td>\n",
       "      <td>1</td>\n",
       "      <td>1</td>\n",
       "      <td>-1.160427</td>\n",
       "      <td>1</td>\n",
       "      <td>0</td>\n",
       "      <td>0</td>\n",
       "    </tr>\n",
       "    <tr>\n",
       "      <th>3610</th>\n",
       "      <td>-0.720933</td>\n",
       "      <td>1.620574</td>\n",
       "      <td>-1.456328</td>\n",
       "      <td>0.879129</td>\n",
       "      <td>-0.914708</td>\n",
       "      <td>1</td>\n",
       "      <td>0</td>\n",
       "      <td>0.113236</td>\n",
       "      <td>0</td>\n",
       "      <td>0</td>\n",
       "      <td>0</td>\n",
       "    </tr>\n",
       "  </tbody>\n",
       "</table>\n",
       "</div>"
      ],
      "text/plain": [
       "      CreditScore       Age    Tenure   Balance  NumOfProducts  HasCrCard  \\\n",
       "2837    -1.040434  0.953312  0.360600  0.774657      -0.914708          0   \n",
       "9925     0.454006 -0.095244 -0.002786  1.910540      -0.914708          1   \n",
       "8746     0.103585 -0.476537  1.087371  0.481608       0.820981          0   \n",
       "660     -0.184996  0.190726 -0.002786  0.088439      -0.914708          1   \n",
       "3610    -0.720933  1.620574 -1.456328  0.879129      -0.914708          1   \n",
       "\n",
       "      IsActiveMember  EstimatedSalary  Geography_Germany  Geography_Spain  \\\n",
       "2837               1        -0.119110                  1                0   \n",
       "9925               1        -0.258658                  0                0   \n",
       "8746               1         1.422836                  0                0   \n",
       "660                1        -1.160427                  1                0   \n",
       "3610               0         0.113236                  0                0   \n",
       "\n",
       "      Gender_Male  \n",
       "2837            0  \n",
       "9925            0  \n",
       "8746            1  \n",
       "660             0  \n",
       "3610            0  "
      ]
     },
     "execution_count": 27,
     "metadata": {},
     "output_type": "execute_result"
    }
   ],
   "source": [
    "features_train.head()"
   ]
  },
  {
   "cell_type": "code",
   "execution_count": 28,
   "metadata": {},
   "outputs": [
    {
     "name": "stdout",
     "output_type": "stream",
     "text": [
      "F1 наилучшей модели на валидационной выборке: 0.5533834586466165\n",
      "Глубина наилучшей модели на валидационной выборке: 7\n"
     ]
    }
   ],
   "source": [
    "best_model_tree = None\n",
    "best_result = 0\n",
    "for depth in range(1,21): \n",
    "    model = DecisionTreeClassifier(max_depth=depth, random_state=12345)\n",
    "    model.fit(features_train, target_train)\n",
    "    valid_predictions = model.predict(features_valid)\n",
    "    result = f1_score(target_valid, valid_predictions)\n",
    "    if result > best_result:\n",
    "        best_depth = depth\n",
    "        best_model_tree = model\n",
    "        best_result = result\n",
    "print(\"F1 наилучшей модели на валидационной выборке:\", best_result)\n",
    "print('Глубина наилучшей модели на валидационной выборке:',  best_depth)"
   ]
  },
  {
   "cell_type": "code",
   "execution_count": 29,
   "metadata": {},
   "outputs": [
    {
     "name": "stdout",
     "output_type": "stream",
     "text": [
      "accuracy: 0.8515\n",
      "[[1519   74]\n",
      " [ 223  184]]\n",
      "recall: 0.4520884520884521\n",
      "precision: 0.7131782945736435\n",
      "f1: 0.5533834586466165\n",
      "AUC_ROC: 0.8118303203048964\n"
     ]
    }
   ],
   "source": [
    "model = DecisionTreeClassifier(max_depth=best_depth, random_state=12345)\n",
    "model.fit(features_train, target_train)\n",
    "predicted_valid = model.predict(features_valid)\n",
    "\n",
    "print('accuracy:', accuracy_score(target_valid, predicted_valid))\n",
    "print(confusion_matrix(target_valid, predicted_valid))\n",
    "print('recall:', recall_score(target_valid, predicted_valid))\n",
    "print('precision:', precision_score(target_valid, predicted_valid))\n",
    "print('f1:', f1_score(target_valid, predicted_valid))\n",
    "\n",
    "probabilities_valid = model.predict_proba(features_valid)\n",
    "probabilities_one_valid = probabilities_valid[:, 1]\n",
    "\n",
    "auc_roc = roc_auc_score(target_valid, probabilities_one_valid)\n",
    "# < напишите код здесь >\n",
    "\n",
    "print('AUC_ROC:', auc_roc)"
   ]
  },
  {
   "cell_type": "code",
   "execution_count": 30,
   "metadata": {},
   "outputs": [
    {
     "name": "stdout",
     "output_type": "stream",
     "text": [
      "F1 наилучшей модели на валидационной выборке: 0.5484351713859912\n",
      "Количество деревьев наилучшей модели на валидационной выборке: 27\n",
      "F1 наилучшей модели на валидационной выборке: 0.562874251497006\n",
      "Глубина деревьев наилучшей модели на валидационной выборке: 19\n"
     ]
    }
   ],
   "source": [
    "best_model_forest = None\n",
    "best_result = 0\n",
    "for est in range(1, 50):\n",
    "    model = RandomForestClassifier(random_state=12345, n_estimators=est) \n",
    "    model.fit(features_train, target_train) \n",
    "    valid_predictions = model.predict(features_valid)\n",
    "    result = f1_score(target_valid, valid_predictions)\n",
    "    if result > best_result:\n",
    "        best_est = est\n",
    "        best_model_forest = model\n",
    "        best_result = result\n",
    "\n",
    "print(\"F1 наилучшей модели на валидационной выборке:\", best_result)\n",
    "print('Количество деревьев наилучшей модели на валидационной выборке:',  best_est)\n",
    "\n",
    "best_model_forest = None\n",
    "best_result = 0\n",
    "for depth in range(1, 50):\n",
    "    model = RandomForestClassifier(max_depth=depth, random_state=12345, n_estimators=best_est) \n",
    "    model.fit(features_train, target_train) \n",
    "    valid_predictions = model.predict(features_valid)\n",
    "    result = f1_score(target_valid, valid_predictions)\n",
    "    if result > best_result:\n",
    "        best_depth = depth\n",
    "        best_model_forest = model\n",
    "        best_result = result\n",
    "\n",
    "print(\"F1 наилучшей модели на валидационной выборке:\", best_result)\n",
    "print('Глубина деревьев наилучшей модели на валидационной выборке:',  best_depth)"
   ]
  },
  {
   "cell_type": "code",
   "execution_count": 31,
   "metadata": {},
   "outputs": [
    {
     "name": "stdout",
     "output_type": "stream",
     "text": [
      "accuracy: 0.854\n",
      "[[1520   73]\n",
      " [ 219  188]]\n",
      "recall: 0.4619164619164619\n",
      "precision: 0.7203065134099617\n",
      "f1: 0.562874251497006\n",
      "AUC_ROC: 0.8358335222742003\n"
     ]
    }
   ],
   "source": [
    "model = RandomForestClassifier(random_state=12345, n_estimators=best_est, max_depth=best_depth ) \n",
    "model.fit(features_train, target_train)\n",
    "predicted_valid = model.predict(features_valid)\n",
    "\n",
    "print('accuracy:', accuracy_score(target_valid, predicted_valid))\n",
    "print(confusion_matrix(target_valid, predicted_valid))\n",
    "print('recall:', recall_score(target_valid, predicted_valid))\n",
    "print('precision:', precision_score(target_valid, predicted_valid))\n",
    "print('f1:', f1_score(target_valid, predicted_valid))\n",
    "\n",
    "probabilities_valid = model.predict_proba(features_valid)\n",
    "probabilities_one_valid = probabilities_valid[:, 1]\n",
    "auc_roc = roc_auc_score(target_valid, probabilities_one_valid)\n",
    "\n",
    "print('AUC_ROC:', auc_roc)"
   ]
  },
  {
   "cell_type": "markdown",
   "metadata": {},
   "source": [
    "Лучшая модель пока случайный лес, однако из-за возможного дисбаланса классов в целевом признаке модель имеет не высокий f1 score"
   ]
  },
  {
   "cell_type": "markdown",
   "metadata": {},
   "source": [
    "Оценим баланс классов в целевом признаке"
   ]
  },
  {
   "cell_type": "code",
   "execution_count": 34,
   "metadata": {},
   "outputs": [
    {
     "name": "stdout",
     "output_type": "stream",
     "text": [
      "0    0.7963\n",
      "1    0.2037\n",
      "Name: Exited, dtype: float64\n"
     ]
    },
    {
     "data": {
      "text/plain": [
       "<AxesSubplot:>"
      ]
     },
     "execution_count": 34,
     "metadata": {},
     "output_type": "execute_result"
    },
    {
     "data": {
      "image/png": "[encoded data removed]",
      "text/plain": [
       "<Figure size 432x288 with 1 Axes>"
      ]
     },
     "metadata": {
      "needs_background": "light"
     },
     "output_type": "display_data"
    }
   ],
   "source": [
    "class_frequency = data['Exited'].value_counts(normalize=True)\n",
    "print(class_frequency)\n",
    "class_frequency.plot(kind='bar')"
   ]
  },
  {
   "cell_type": "markdown",
   "metadata": {},
   "source": [
    "Наблюдается дисбаланс классов в датафрейме. Объектов отрицательного класса в 4 раза больше."
   ]
  },
  {
   "cell_type": "markdown",
   "metadata": {},
   "source": [
    "## Борьба с дисбалансом"
   ]
  },
  {
   "cell_type": "code",
   "execution_count": 35,
   "metadata": {},
   "outputs": [],
   "source": [
    "def upsample(features, target, repeat):\n",
    "    features_zeros = features[target == 0]\n",
    "    features_ones = features[target == 1]\n",
    "    target_zeros = target[target == 0]\n",
    "    target_ones = target[target == 1]\n",
    "\n",
    "    features_upsampled = pd.concat([features_zeros] + [features_ones] * repeat)\n",
    "    target_upsampled = pd.concat([target_zeros] + [target_ones] * repeat)\n",
    "    \n",
    "    features_upsampled, target_upsampled = shuffle(\n",
    "        features_upsampled, target_upsampled, random_state=12345)\n",
    "    \n",
    "    return features_upsampled, target_upsampled\n",
    "\n",
    "features_upsampled, target_upsampled = upsample(features_train, target_train, 4)"
   ]
  },
  {
   "cell_type": "code",
   "execution_count": 36,
   "metadata": {},
   "outputs": [
    {
     "data": {
      "text/plain": [
       "1    4888\n",
       "0    4778\n",
       "Name: Exited, dtype: int64"
      ]
     },
     "execution_count": 36,
     "metadata": {},
     "output_type": "execute_result"
    }
   ],
   "source": [
    "target_upsampled.value_counts()"
   ]
  },
  {
   "cell_type": "code",
   "execution_count": 37,
   "metadata": {},
   "outputs": [
    {
     "name": "stdout",
     "output_type": "stream",
     "text": [
      "F1 наилучшей модели на валидационной выборке: 0.5461187214611872\n",
      "Глубина наилучшей модели на валидационной выборке: 7\n"
     ]
    }
   ],
   "source": [
    "best_model_tree = None\n",
    "best_result = 0\n",
    "for depth in range(1,21): \n",
    "    model = DecisionTreeClassifier(max_depth=depth, random_state=12345)\n",
    "    model.fit(features_upsampled, target_upsampled)\n",
    "    valid_predictions = model.predict(features_valid)\n",
    "    result = f1_score(target_valid, valid_predictions)\n",
    "    if result > best_result:\n",
    "        best_depth = depth\n",
    "        best_model_tree = model\n",
    "        best_result = result\n",
    "print(\"F1 наилучшей модели на валидационной выборке:\", best_result)\n",
    "print('Глубина наилучшей модели на валидационной выборке:',  best_depth)"
   ]
  },
  {
   "cell_type": "code",
   "execution_count": 38,
   "metadata": {},
   "outputs": [
    {
     "name": "stdout",
     "output_type": "stream",
     "text": [
      "accuracy: 0.7515\n",
      "[[1204  389]\n",
      " [ 108  299]]\n",
      "recall: 0.7346437346437347\n",
      "precision: 0.43459302325581395\n",
      "f1: 0.5461187214611872\n",
      "AUC_ROC: 0.6676599557955489\n"
     ]
    }
   ],
   "source": [
    "predicted_valid = best_model_tree.predict(features_valid)\n",
    "\n",
    "print('accuracy:', accuracy_score(target_valid, predicted_valid))\n",
    "print(confusion_matrix(target_valid, predicted_valid))\n",
    "print('recall:', recall_score(target_valid, predicted_valid))\n",
    "print('precision:', precision_score(target_valid, predicted_valid))\n",
    "print('f1:', f1_score(target_valid, predicted_valid))\n",
    "\n",
    "probabilities_valid = model.predict_proba(features_valid)\n",
    "probabilities_one_valid = probabilities_valid[:, 1]\n",
    "auc_roc = roc_auc_score(target_valid, probabilities_one_valid)\n",
    "\n",
    "print('AUC_ROC:', auc_roc)"
   ]
  },
  {
   "cell_type": "code",
   "execution_count": 39,
   "metadata": {},
   "outputs": [
    {
     "name": "stdout",
     "output_type": "stream",
     "text": [
      "f1 наилучшей модели на валидационной выборке: 0.5748663101604278\n",
      "Количество деревьев наилучшей модели на валидационной выборке: 49\n",
      "F1 наилучшей модели на валидационной выборке: 0.6152173913043478\n",
      "Глубина деревьев наилучшей модели на валидационной выборке: 9\n"
     ]
    }
   ],
   "source": [
    "best_model_forest = None\n",
    "best_result = 0\n",
    "for est in range(1, 50):\n",
    "    model = RandomForestClassifier(random_state=12345, n_estimators=est) \n",
    "    model.fit(features_upsampled, target_upsampled) \n",
    "    valid_predictions = model.predict(features_valid)\n",
    "    result = f1_score(target_valid, valid_predictions) \n",
    "    if result > best_result:\n",
    "        best_est = est\n",
    "        best_model_forest = model\n",
    "        best_result = result\n",
    "\n",
    "print(\"f1 наилучшей модели на валидационной выборке:\", best_result)\n",
    "print('Количество деревьев наилучшей модели на валидационной выборке:',  best_est)\n",
    "\n",
    "best_model_forest = None\n",
    "best_result = 0\n",
    "for depth in range(1, 50):\n",
    "    model = RandomForestClassifier(max_depth=depth, random_state=12345, n_estimators=best_est) \n",
    "    model.fit(features_upsampled, target_upsampled) \n",
    "    valid_predictions = model.predict(features_valid)\n",
    "    result = f1_score(target_valid, valid_predictions) \n",
    "    if result > best_result:\n",
    "        best_depth = depth\n",
    "        best_model_forest = model\n",
    "        best_result = result\n",
    "\n",
    "print(\"F1 наилучшей модели на валидационной выборке:\", best_result)\n",
    "print('Глубина деревьев наилучшей модели на валидационной выборке:',  best_depth)"
   ]
  },
  {
   "cell_type": "code",
   "execution_count": 40,
   "metadata": {},
   "outputs": [
    {
     "name": "stdout",
     "output_type": "stream",
     "text": [
      "accuracy: 0.823\n",
      "[[1363  230]\n",
      " [ 124  283]]\n",
      "recall: 0.6953316953316954\n",
      "precision: 0.5516569200779727\n",
      "f1: 0.6152173913043478\n",
      "AUC_ROC: 0.8419374690561131\n"
     ]
    }
   ],
   "source": [
    "predicted_valid = best_model_forest.predict(features_valid)\n",
    "\n",
    "print('accuracy:', accuracy_score(target_valid, predicted_valid))\n",
    "print(confusion_matrix(target_valid, predicted_valid))\n",
    "print('recall:', recall_score(target_valid, predicted_valid))\n",
    "print('precision:', precision_score(target_valid, predicted_valid))\n",
    "print('f1:', f1_score(target_valid, predicted_valid))\n",
    "\n",
    "probabilities_valid = model.predict_proba(features_valid)\n",
    "probabilities_one_valid = probabilities_valid[:, 1]\n",
    "auc_roc = roc_auc_score(target_valid, probabilities_one_valid)\n",
    "\n",
    "print('AUC_ROC:', auc_roc)"
   ]
  },
  {
   "cell_type": "code",
   "execution_count": 41,
   "metadata": {},
   "outputs": [
    {
     "name": "stdout",
     "output_type": "stream",
     "text": [
      "F1 наилучшей модели на валидационной выборке: 0.47822374039282667\n",
      "Итерация наилучшей модели на валидационной выборке: 100\n"
     ]
    }
   ],
   "source": [
    "best_model_log = None\n",
    "best_result = 0\n",
    "for i in range(100, 1050, 50):\n",
    "    model = LogisticRegression(random_state=12345, solver='lbfgs', max_iter=i) \n",
    "    model.fit(features_upsampled, target_upsampled) \n",
    "    valid_predictions = model.predict(features_valid)\n",
    "    result = f1_score(target_valid, valid_predictions)\n",
    "    if result > best_result:\n",
    "        best_iter = i \n",
    "        best_model_log = model\n",
    "        best_result = result\n",
    "\n",
    "print(\"F1 наилучшей модели на валидационной выборке:\", best_result)\n",
    "print('Итерация наилучшей модели на валидационной выборке:',  best_iter)"
   ]
  },
  {
   "cell_type": "code",
   "execution_count": 42,
   "metadata": {},
   "outputs": [
    {
     "name": "stdout",
     "output_type": "stream",
     "text": [
      "accuracy: 0.6945\n",
      "[[1109  484]\n",
      " [ 127  280]]\n",
      "recall: 0.687960687960688\n",
      "precision: 0.36649214659685864\n",
      "f1: 0.47822374039282667\n",
      "AUC_ROC: 0.7541748219714322\n"
     ]
    }
   ],
   "source": [
    "predicted_valid = best_model_log.predict(features_valid)\n",
    "\n",
    "print('accuracy:', accuracy_score(target_valid, predicted_valid))\n",
    "print(confusion_matrix(target_valid, predicted_valid))\n",
    "print('recall:', recall_score(target_valid, predicted_valid))\n",
    "print('precision:', precision_score(target_valid, predicted_valid))\n",
    "print('f1:', f1_score(target_valid, predicted_valid))\n",
    "\n",
    "probabilities_valid = model.predict_proba(features_valid)\n",
    "probabilities_one_valid = probabilities_valid[:, 1]\n",
    "auc_roc = roc_auc_score(target_valid, probabilities_one_valid)\n",
    "\n",
    "print('AUC_ROC:', auc_roc)"
   ]
  },
  {
   "cell_type": "code",
   "execution_count": 43,
   "metadata": {},
   "outputs": [],
   "source": [
    "def downsample(features, target, fraction):\n",
    "    features_zeros = features[target == 0]\n",
    "    features_ones = features[target == 1]\n",
    "    target_zeros = target[target == 0]\n",
    "    target_ones = target[target == 1]\n",
    "\n",
    "    features_downsampled = pd.concat(\n",
    "        [features_zeros.sample(frac=fraction, random_state=12345)] + [features_ones])\n",
    "    target_downsampled = pd.concat(\n",
    "        [target_zeros.sample(frac=fraction, random_state=12345)] + [target_ones])\n",
    "    \n",
    "    features_downsampled, target_downsampled = shuffle(\n",
    "        features_downsampled, target_downsampled, random_state=12345)\n",
    "    \n",
    "    return features_downsampled, target_downsampled\n",
    "\n",
    "features_downsampled, target_downsampled = downsample(features_train, target_train, 0.25)"
   ]
  },
  {
   "cell_type": "code",
   "execution_count": 44,
   "metadata": {},
   "outputs": [
    {
     "data": {
      "text/plain": [
       "1    1222\n",
       "0    1194\n",
       "Name: Exited, dtype: int64"
      ]
     },
     "execution_count": 44,
     "metadata": {},
     "output_type": "execute_result"
    }
   ],
   "source": [
    "target_downsampled.value_counts()"
   ]
  },
  {
   "cell_type": "code",
   "execution_count": 45,
   "metadata": {},
   "outputs": [
    {
     "name": "stdout",
     "output_type": "stream",
     "text": [
      "F1 наилучшей модели на валидационной выборке: 0.5606773283160865\n",
      "Количество деревьев наилучшей модели на валидационной выборке: 42\n",
      "F1 наилучшей модели на валидационной выборке: 0.6173913043478261\n",
      "Глубина деревьев наилучшей модели на валидационной выборке: 9\n"
     ]
    }
   ],
   "source": [
    "best_model_forest = None\n",
    "best_result = 0\n",
    "for est in range(1, 50):\n",
    "    model = RandomForestClassifier(random_state=12345, n_estimators=est) \n",
    "    model.fit(features_downsampled, target_downsampled) \n",
    "    valid_predictions = model.predict(features_valid)\n",
    "    result = f1_score(target_valid, valid_predictions) \n",
    "    if result > best_result:\n",
    "        best_est = est\n",
    "        best_model_forest = model\n",
    "        best_result = result\n",
    "\n",
    "print(\"F1 наилучшей модели на валидационной выборке:\", best_result)\n",
    "print('Количество деревьев наилучшей модели на валидационной выборке:',  best_est)\n",
    "\n",
    "best_model_forest = None\n",
    "best_result = 0\n",
    "for depth in range(1, 50):\n",
    "    model = RandomForestClassifier(max_depth=depth, random_state=12345, n_estimators=best_est) \n",
    "    model.fit(features_upsampled, target_upsampled) \n",
    "    valid_predictions = model.predict(features_valid)\n",
    "    result = f1_score(target_valid, valid_predictions) \n",
    "    if result > best_result:\n",
    "        best_depth = depth\n",
    "        best_model_forest = model\n",
    "        best_result = result\n",
    "\n",
    "print(\"F1 наилучшей модели на валидационной выборке:\", best_result)\n",
    "print('Глубина деревьев наилучшей модели на валидационной выборке:',  best_depth)"
   ]
  },
  {
   "cell_type": "code",
   "execution_count": 46,
   "metadata": {},
   "outputs": [
    {
     "name": "stdout",
     "output_type": "stream",
     "text": [
      "accuracy: 0.824\n",
      "[[1364  229]\n",
      " [ 123  284]]\n",
      "recall: 0.6977886977886978\n",
      "precision: 0.5536062378167641\n",
      "f1: 0.6173913043478261\n",
      "AUC_ROC: 0.8392599070565172\n"
     ]
    }
   ],
   "source": [
    "predicted_valid = best_model_forest.predict(features_valid)\n",
    "\n",
    "print('accuracy:', accuracy_score(target_valid, predicted_valid))\n",
    "print(confusion_matrix(target_valid, predicted_valid))\n",
    "print('recall:', recall_score(target_valid, predicted_valid))\n",
    "print('precision:', precision_score(target_valid, predicted_valid))\n",
    "print('f1:', f1_score(target_valid, predicted_valid))\n",
    "\n",
    "probabilities_valid = model.predict_proba(features_valid)\n",
    "probabilities_one_valid = probabilities_valid[:, 1]\n",
    "auc_roc = roc_auc_score(target_valid, probabilities_one_valid)\n",
    "\n",
    "print('AUC_ROC:', auc_roc)"
   ]
  },
  {
   "cell_type": "markdown",
   "metadata": {},
   "source": [
    "## Тестирование модели"
   ]
  },
  {
   "cell_type": "code",
   "execution_count": 47,
   "metadata": {
    "scrolled": false
   },
   "outputs": [
    {
     "name": "stdout",
     "output_type": "stream",
     "text": [
      "accuracy: 0.829\n",
      "[[1362  230]\n",
      " [ 112  296]]\n",
      "recall: 0.7254901960784313\n",
      "precision: 0.5627376425855514\n",
      "f1: 0.6338329764453962\n",
      "AUC_ROC: 0.8639313294413243\n"
     ]
    }
   ],
   "source": [
    "best_model = RandomForestClassifier(random_state=12345, n_estimators=49, max_depth=9) \n",
    "best_model.fit(features_upsampled, target_upsampled)\n",
    "predicted_test = best_model.predict(features_test)\n",
    "print('accuracy:', accuracy_score(target_test, predicted_test))\n",
    "print(confusion_matrix(target_test, predicted_test))\n",
    "print('recall:', recall_score(target_test, predicted_test))\n",
    "print('precision:', precision_score(target_test, predicted_test))\n",
    "print('f1:', f1_score(target_test, predicted_test))\n",
    "\n",
    "probabilities_valid = model.predict_proba(features_test)\n",
    "probabilities_one_valid = probabilities_valid[:, 1]\n",
    "auc_roc = roc_auc_score(target_test, probabilities_one_valid)\n",
    "\n",
    "print('AUC_ROC:', auc_roc)"
   ]
  },
  {
   "cell_type": "code",
   "execution_count": 48,
   "metadata": {},
   "outputs": [
    {
     "name": "stdout",
     "output_type": "stream",
     "text": [
      "accuracy: 0.7985\n",
      "[[1279  313]\n",
      " [  90  318]]\n",
      "recall: 0.7794117647058824\n",
      "precision: 0.5039619651347068\n",
      "f1: 0.6121270452358036\n",
      "AUC_ROC: 0.8639313294413243\n"
     ]
    }
   ],
   "source": [
    "best_model = RandomForestClassifier(random_state=12345, n_estimators=42, max_depth=9) \n",
    "best_model.fit(features_downsampled, target_downsampled)\n",
    "predicted_test = best_model.predict(features_test)\n",
    "print('accuracy:', accuracy_score(target_test, predicted_test))\n",
    "print(confusion_matrix(target_test, predicted_test))\n",
    "print('recall:', recall_score(target_test, predicted_test))\n",
    "print('precision:', precision_score(target_test, predicted_test))\n",
    "print('f1:', f1_score(target_test, predicted_test))\n",
    "\n",
    "probabilities_valid = model.predict_proba(features_test)\n",
    "probabilities_one_valid = probabilities_valid[:, 1]\n",
    "auc_roc = roc_auc_score(target_test, probabilities_one_valid)\n",
    "\n",
    "print('AUC_ROC:', auc_roc)"
   ]
  },
  {
   "cell_type": "markdown",
   "metadata": {},
   "source": [
    "Получены приемлимые результаты на моделях, обученных как с помощью апсемплинга, так и даунсемплинга."
   ]
  },
  {
   "cell_type": "markdown",
   "metadata": {},
   "source": [
    "## Выводы\n"
   ]
  },
  {
   "cell_type": "markdown",
   "metadata": {},
   "source": [
    "- В ходе проектной работы был проведен первичный анализ данных, проведена работа по заполнению пропусков в данных по длительности лет, в течение которых человек является клинтом банка (использовали медиану, что не повлияло на распределение данных), данные разбили на три выборки (тренировочную, валидационную и тестовую) и проведено масштабирование признаков.\n",
    "- Проведен анализ моделей и подбор гиперпараметров для поиска лучшего F1. Лучше всего себя показала модель случайного леса с 27 деревьями и глубиной 19 с F1 0.56 и AUC_ROC 0.84. Учитывая, что требуется достижение F1 не менее 0.59 проведена оценка данных на дисбаланс классов. Выявлен явный дисбаланс классов, отрицательного к положительному - 4/1.\n",
    "- Проведены апсамплинг и даунсамплинг, с проверкой F1 на моделях. Лучший результат у модели случайного леса с 49 деревьями и глубиной 9 на данных сбалансированных с помощью апсамплинга (F1: 0.62 AUC_ROC: 0.84) и у модели случайного леса с 42 деревьями и глубиной 9 на данных сбалансированных с помощью апсамплинга (F1:0.62 AUC_ROC: 0.84) - борьба с дисбалансом классов помогла повысить F1!\n",
    "- Проверил на тестовой выбоке лучшие модели, обе можно использовать, согласно уловиям задания, лучше получилась модель после апсемплига (F1:0.63)."
   ]
  }
 ],
 "metadata": {
  "ExecuteTimeLog": [
   {
    "duration": 52,
    "start_time": "2023-03-30T21:01:36.600Z"
   },
   {
    "duration": 420,
    "start_time": "2023-03-30T21:01:41.365Z"
   },
   {
    "duration": 182,
    "start_time": "2023-03-30T21:01:42.876Z"
   },
   {
    "duration": 14,
    "start_time": "2023-03-30T21:01:54.999Z"
   },
   {
    "duration": 26,
    "start_time": "2023-03-30T21:02:11.990Z"
   },
   {
    "duration": 32,
    "start_time": "2023-03-30T21:07:46.864Z"
   },
   {
    "duration": 26,
    "start_time": "2023-03-30T21:07:53.122Z"
   },
   {
    "duration": 7,
    "start_time": "2023-03-30T21:08:02.439Z"
   },
   {
    "duration": 12,
    "start_time": "2023-03-30T21:08:08.539Z"
   },
   {
    "duration": 5,
    "start_time": "2023-03-30T21:08:26.393Z"
   },
   {
    "duration": 12,
    "start_time": "2023-03-30T21:08:28.664Z"
   },
   {
    "duration": 1203,
    "start_time": "2023-03-30T21:09:22.386Z"
   },
   {
    "duration": 444,
    "start_time": "2023-03-30T21:09:32.967Z"
   },
   {
    "duration": 40,
    "start_time": "2023-03-30T21:09:33.414Z"
   },
   {
    "duration": 13,
    "start_time": "2023-03-30T21:09:33.457Z"
   },
   {
    "duration": 18,
    "start_time": "2023-03-30T21:09:33.472Z"
   },
   {
    "duration": 6,
    "start_time": "2023-03-30T21:09:33.492Z"
   },
   {
    "duration": 5,
    "start_time": "2023-03-30T21:09:33.499Z"
   },
   {
    "duration": 23,
    "start_time": "2023-03-30T21:09:33.505Z"
   },
   {
    "duration": 18,
    "start_time": "2023-03-30T21:09:33.529Z"
   },
   {
    "duration": 368,
    "start_time": "2023-03-30T21:09:57.942Z"
   },
   {
    "duration": 41,
    "start_time": "2023-03-30T21:09:58.312Z"
   },
   {
    "duration": 14,
    "start_time": "2023-03-30T21:09:58.355Z"
   },
   {
    "duration": 42,
    "start_time": "2023-03-30T21:09:58.371Z"
   },
   {
    "duration": 22,
    "start_time": "2023-03-30T21:09:58.414Z"
   },
   {
    "duration": 32,
    "start_time": "2023-03-30T21:09:58.438Z"
   },
   {
    "duration": 54,
    "start_time": "2023-03-30T21:09:58.472Z"
   },
   {
    "duration": 55,
    "start_time": "2023-03-30T21:09:58.528Z"
   },
   {
    "duration": 1281,
    "start_time": "2023-03-30T21:10:38.118Z"
   },
   {
    "duration": 406,
    "start_time": "2023-03-30T21:10:45.307Z"
   },
   {
    "duration": 42,
    "start_time": "2023-03-30T21:10:45.715Z"
   },
   {
    "duration": 15,
    "start_time": "2023-03-30T21:10:45.758Z"
   },
   {
    "duration": 24,
    "start_time": "2023-03-30T21:10:45.775Z"
   },
   {
    "duration": 9,
    "start_time": "2023-03-30T21:10:45.801Z"
   },
   {
    "duration": 4,
    "start_time": "2023-03-30T21:10:45.812Z"
   },
   {
    "duration": 29,
    "start_time": "2023-03-30T21:10:45.817Z"
   },
   {
    "duration": 32,
    "start_time": "2023-03-30T21:10:45.848Z"
   },
   {
    "duration": 407,
    "start_time": "2023-03-30T21:12:38.724Z"
   },
   {
    "duration": 45,
    "start_time": "2023-03-30T21:12:39.133Z"
   },
   {
    "duration": 14,
    "start_time": "2023-03-30T21:12:39.180Z"
   },
   {
    "duration": 24,
    "start_time": "2023-03-30T21:12:39.196Z"
   },
   {
    "duration": 26,
    "start_time": "2023-03-30T21:12:39.221Z"
   },
   {
    "duration": 4,
    "start_time": "2023-03-30T21:12:39.249Z"
   },
   {
    "duration": 27,
    "start_time": "2023-03-30T21:12:39.255Z"
   },
   {
    "duration": 48,
    "start_time": "2023-04-01T09:22:58.116Z"
   },
   {
    "duration": 381,
    "start_time": "2023-04-01T09:23:06.632Z"
   },
   {
    "duration": 154,
    "start_time": "2023-04-01T09:23:07.015Z"
   },
   {
    "duration": 15,
    "start_time": "2023-04-01T09:23:07.171Z"
   },
   {
    "duration": 39,
    "start_time": "2023-04-01T09:23:07.188Z"
   },
   {
    "duration": 9,
    "start_time": "2023-04-01T09:23:07.229Z"
   },
   {
    "duration": 4,
    "start_time": "2023-04-01T09:23:07.239Z"
   },
   {
    "duration": 15,
    "start_time": "2023-04-01T09:23:07.245Z"
   },
   {
    "duration": 539,
    "start_time": "2023-04-01T09:30:41.151Z"
   },
   {
    "duration": 129,
    "start_time": "2023-04-01T09:32:01.210Z"
   },
   {
    "duration": 116,
    "start_time": "2023-04-01T09:32:14.294Z"
   },
   {
    "duration": 7,
    "start_time": "2023-04-01T09:46:29.223Z"
   },
   {
    "duration": 6,
    "start_time": "2023-04-01T09:46:54.905Z"
   },
   {
    "duration": 6,
    "start_time": "2023-04-01T09:47:02.441Z"
   },
   {
    "duration": 5,
    "start_time": "2023-04-01T09:47:12.237Z"
   },
   {
    "duration": 8,
    "start_time": "2023-04-01T09:47:19.912Z"
   },
   {
    "duration": 5,
    "start_time": "2023-04-01T09:50:17.509Z"
   },
   {
    "duration": 6,
    "start_time": "2023-04-01T09:50:24.358Z"
   },
   {
    "duration": 9,
    "start_time": "2023-04-01T09:53:28.300Z"
   },
   {
    "duration": 381,
    "start_time": "2023-04-01T09:53:42.835Z"
   },
   {
    "duration": 40,
    "start_time": "2023-04-01T09:53:43.218Z"
   },
   {
    "duration": 14,
    "start_time": "2023-04-01T09:53:43.260Z"
   },
   {
    "duration": 26,
    "start_time": "2023-04-01T09:53:43.276Z"
   },
   {
    "duration": 9,
    "start_time": "2023-04-01T09:53:43.303Z"
   },
   {
    "duration": 7,
    "start_time": "2023-04-01T09:53:43.313Z"
   },
   {
    "duration": 21,
    "start_time": "2023-04-01T09:53:43.321Z"
   },
   {
    "duration": 12,
    "start_time": "2023-04-01T09:53:43.343Z"
   },
   {
    "duration": 6,
    "start_time": "2023-04-01T09:53:43.356Z"
   },
   {
    "duration": 39,
    "start_time": "2023-04-01T09:53:43.365Z"
   },
   {
    "duration": 6,
    "start_time": "2023-04-01T09:53:43.405Z"
   },
   {
    "duration": 8,
    "start_time": "2023-04-01T09:53:43.413Z"
   },
   {
    "duration": 359,
    "start_time": "2023-04-01T09:53:43.422Z"
   },
   {
    "duration": 412,
    "start_time": "2023-04-01T09:54:33.234Z"
   },
   {
    "duration": 42,
    "start_time": "2023-04-01T09:54:33.648Z"
   },
   {
    "duration": 16,
    "start_time": "2023-04-01T09:54:33.691Z"
   },
   {
    "duration": 27,
    "start_time": "2023-04-01T09:54:33.709Z"
   },
   {
    "duration": 10,
    "start_time": "2023-04-01T09:54:33.739Z"
   },
   {
    "duration": 38,
    "start_time": "2023-04-01T09:54:33.751Z"
   },
   {
    "duration": 32,
    "start_time": "2023-04-01T09:54:33.791Z"
   },
   {
    "duration": 19,
    "start_time": "2023-04-01T09:54:33.825Z"
   },
   {
    "duration": 20,
    "start_time": "2023-04-01T09:54:33.846Z"
   },
   {
    "duration": 42,
    "start_time": "2023-04-01T09:54:33.868Z"
   },
   {
    "duration": 423,
    "start_time": "2023-04-01T09:54:33.912Z"
   },
   {
    "duration": 6,
    "start_time": "2023-04-01T09:54:34.337Z"
   },
   {
    "duration": 14,
    "start_time": "2023-04-01T09:54:34.345Z"
   },
   {
    "duration": 138,
    "start_time": "2023-04-01T09:54:34.362Z"
   },
   {
    "duration": 162,
    "start_time": "2023-04-01T09:54:48.582Z"
   },
   {
    "duration": 396,
    "start_time": "2023-04-01T09:58:42.922Z"
   },
   {
    "duration": 40,
    "start_time": "2023-04-01T09:58:43.320Z"
   },
   {
    "duration": 14,
    "start_time": "2023-04-01T09:58:43.362Z"
   },
   {
    "duration": 27,
    "start_time": "2023-04-01T09:58:43.378Z"
   },
   {
    "duration": 9,
    "start_time": "2023-04-01T09:58:43.406Z"
   },
   {
    "duration": 7,
    "start_time": "2023-04-01T09:58:43.416Z"
   },
   {
    "duration": 15,
    "start_time": "2023-04-01T09:58:43.424Z"
   },
   {
    "duration": 9,
    "start_time": "2023-04-01T09:58:43.441Z"
   },
   {
    "duration": 38,
    "start_time": "2023-04-01T09:58:43.452Z"
   },
   {
    "duration": 20,
    "start_time": "2023-04-01T09:58:43.494Z"
   },
   {
    "duration": 402,
    "start_time": "2023-04-01T09:58:43.516Z"
   },
   {
    "duration": 7,
    "start_time": "2023-04-01T09:58:43.920Z"
   },
   {
    "duration": 17,
    "start_time": "2023-04-01T09:58:43.929Z"
   },
   {
    "duration": 157,
    "start_time": "2023-04-01T09:58:43.948Z"
   },
   {
    "duration": 4,
    "start_time": "2023-04-01T09:58:44.107Z"
   },
   {
    "duration": 21,
    "start_time": "2023-04-01T09:58:44.114Z"
   },
   {
    "duration": 24,
    "start_time": "2023-04-01T09:58:44.137Z"
   },
   {
    "duration": 125,
    "start_time": "2023-04-01T09:58:44.163Z"
   },
   {
    "duration": 17,
    "start_time": "2023-04-01T09:59:35.158Z"
   },
   {
    "duration": 12,
    "start_time": "2023-04-01T09:59:56.124Z"
   },
   {
    "duration": 1160,
    "start_time": "2023-04-01T10:05:57.602Z"
   },
   {
    "duration": 44,
    "start_time": "2023-04-01T10:05:58.764Z"
   },
   {
    "duration": 19,
    "start_time": "2023-04-01T10:05:58.810Z"
   },
   {
    "duration": 37,
    "start_time": "2023-04-01T10:05:58.832Z"
   },
   {
    "duration": 19,
    "start_time": "2023-04-01T10:05:58.871Z"
   },
   {
    "duration": 5,
    "start_time": "2023-04-01T10:05:58.892Z"
   },
   {
    "duration": 17,
    "start_time": "2023-04-01T10:05:58.899Z"
   },
   {
    "duration": 19,
    "start_time": "2023-04-01T10:05:58.919Z"
   },
   {
    "duration": 16,
    "start_time": "2023-04-01T10:05:58.940Z"
   },
   {
    "duration": 46,
    "start_time": "2023-04-01T10:05:58.959Z"
   },
   {
    "duration": 440,
    "start_time": "2023-04-01T10:05:59.007Z"
   },
   {
    "duration": 5,
    "start_time": "2023-04-01T10:05:59.449Z"
   },
   {
    "duration": 19,
    "start_time": "2023-04-01T10:05:59.455Z"
   },
   {
    "duration": 190,
    "start_time": "2023-04-01T10:05:59.487Z"
   },
   {
    "duration": 10,
    "start_time": "2023-04-01T10:05:59.679Z"
   },
   {
    "duration": 39,
    "start_time": "2023-04-01T10:05:59.691Z"
   },
   {
    "duration": 23,
    "start_time": "2023-04-01T10:05:59.732Z"
   },
   {
    "duration": 5,
    "start_time": "2023-04-01T10:05:59.757Z"
   },
   {
    "duration": 17,
    "start_time": "2023-04-01T10:05:59.763Z"
   },
   {
    "duration": 152,
    "start_time": "2023-04-01T10:05:59.783Z"
   },
   {
    "duration": 6,
    "start_time": "2023-04-01T10:06:31.747Z"
   },
   {
    "duration": 4,
    "start_time": "2023-04-01T10:07:03.860Z"
   },
   {
    "duration": 3,
    "start_time": "2023-04-01T10:07:20.993Z"
   },
   {
    "duration": 79,
    "start_time": "2023-04-01T10:12:11.902Z"
   },
   {
    "duration": 11,
    "start_time": "2023-04-01T10:12:27.642Z"
   },
   {
    "duration": 125,
    "start_time": "2023-04-01T10:13:22.888Z"
   },
   {
    "duration": 1267,
    "start_time": "2023-04-01T10:14:00.613Z"
   },
   {
    "duration": 13,
    "start_time": "2023-04-01T10:14:15.509Z"
   },
   {
    "duration": 13,
    "start_time": "2023-04-01T10:14:35.732Z"
   },
   {
    "duration": 24,
    "start_time": "2023-04-01T10:15:03.963Z"
   },
   {
    "duration": 25,
    "start_time": "2023-04-01T10:15:23.577Z"
   },
   {
    "duration": 23,
    "start_time": "2023-04-01T10:16:09.908Z"
   },
   {
    "duration": 11,
    "start_time": "2023-04-01T10:19:56.901Z"
   },
   {
    "duration": 1260,
    "start_time": "2023-04-01T10:20:04.853Z"
   },
   {
    "duration": 43,
    "start_time": "2023-04-01T10:20:06.115Z"
   },
   {
    "duration": 16,
    "start_time": "2023-04-01T10:20:06.160Z"
   },
   {
    "duration": 46,
    "start_time": "2023-04-01T10:20:06.178Z"
   },
   {
    "duration": 10,
    "start_time": "2023-04-01T10:20:06.225Z"
   },
   {
    "duration": 5,
    "start_time": "2023-04-01T10:20:06.237Z"
   },
   {
    "duration": 32,
    "start_time": "2023-04-01T10:20:06.244Z"
   },
   {
    "duration": 29,
    "start_time": "2023-04-01T10:20:06.278Z"
   },
   {
    "duration": 9,
    "start_time": "2023-04-01T10:20:06.308Z"
   },
   {
    "duration": 26,
    "start_time": "2023-04-01T10:20:06.320Z"
   },
   {
    "duration": 533,
    "start_time": "2023-04-01T10:20:06.348Z"
   },
   {
    "duration": 6,
    "start_time": "2023-04-01T10:20:06.897Z"
   },
   {
    "duration": 37,
    "start_time": "2023-04-01T10:20:06.905Z"
   },
   {
    "duration": 139,
    "start_time": "2023-04-01T10:20:06.943Z"
   },
   {
    "duration": 4,
    "start_time": "2023-04-01T10:20:07.084Z"
   },
   {
    "duration": 27,
    "start_time": "2023-04-01T10:20:07.090Z"
   },
   {
    "duration": 18,
    "start_time": "2023-04-01T10:20:07.119Z"
   },
   {
    "duration": 4,
    "start_time": "2023-04-01T10:20:07.138Z"
   },
   {
    "duration": 13,
    "start_time": "2023-04-01T10:20:07.143Z"
   },
   {
    "duration": 7,
    "start_time": "2023-04-01T10:20:07.158Z"
   },
   {
    "duration": 7,
    "start_time": "2023-04-01T10:20:07.166Z"
   },
   {
    "duration": 45,
    "start_time": "2023-04-01T10:20:07.174Z"
   },
   {
    "duration": 49,
    "start_time": "2023-04-01T10:20:07.221Z"
   },
   {
    "duration": 132,
    "start_time": "2023-04-01T10:20:07.274Z"
   },
   {
    "duration": 12,
    "start_time": "2023-04-01T10:20:45.415Z"
   },
   {
    "duration": 11,
    "start_time": "2023-04-01T10:20:50.135Z"
   },
   {
    "duration": 11,
    "start_time": "2023-04-01T10:20:53.566Z"
   },
   {
    "duration": 1128,
    "start_time": "2023-04-01T10:22:56.242Z"
   },
   {
    "duration": 42,
    "start_time": "2023-04-01T10:22:57.372Z"
   },
   {
    "duration": 15,
    "start_time": "2023-04-01T10:22:57.416Z"
   },
   {
    "duration": 25,
    "start_time": "2023-04-01T10:22:57.432Z"
   },
   {
    "duration": 28,
    "start_time": "2023-04-01T10:22:57.459Z"
   },
   {
    "duration": 5,
    "start_time": "2023-04-01T10:22:57.490Z"
   },
   {
    "duration": 24,
    "start_time": "2023-04-01T10:22:57.497Z"
   },
   {
    "duration": 14,
    "start_time": "2023-04-01T10:22:57.523Z"
   },
   {
    "duration": 12,
    "start_time": "2023-04-01T10:22:57.539Z"
   },
   {
    "duration": 54,
    "start_time": "2023-04-01T10:22:57.555Z"
   },
   {
    "duration": 447,
    "start_time": "2023-04-01T10:22:57.612Z"
   },
   {
    "duration": 5,
    "start_time": "2023-04-01T10:22:58.061Z"
   },
   {
    "duration": 22,
    "start_time": "2023-04-01T10:22:58.068Z"
   },
   {
    "duration": 167,
    "start_time": "2023-04-01T10:22:58.094Z"
   },
   {
    "duration": 4,
    "start_time": "2023-04-01T10:22:58.263Z"
   },
   {
    "duration": 25,
    "start_time": "2023-04-01T10:22:58.269Z"
   },
   {
    "duration": 16,
    "start_time": "2023-04-01T10:22:58.296Z"
   },
   {
    "duration": 13,
    "start_time": "2023-04-01T10:22:58.314Z"
   },
   {
    "duration": 15,
    "start_time": "2023-04-01T10:22:58.329Z"
   },
   {
    "duration": 18,
    "start_time": "2023-04-01T10:22:58.345Z"
   },
   {
    "duration": 4,
    "start_time": "2023-04-01T10:22:58.365Z"
   },
   {
    "duration": 34,
    "start_time": "2023-04-01T10:22:58.370Z"
   },
   {
    "duration": 33,
    "start_time": "2023-04-01T10:22:58.406Z"
   },
   {
    "duration": 11,
    "start_time": "2023-04-01T10:22:58.441Z"
   },
   {
    "duration": 33,
    "start_time": "2023-04-01T10:22:58.454Z"
   },
   {
    "duration": 17,
    "start_time": "2023-04-01T10:22:58.490Z"
   },
   {
    "duration": 141,
    "start_time": "2023-04-01T10:22:58.509Z"
   },
   {
    "duration": 183,
    "start_time": "2023-04-01T10:25:04.956Z"
   },
   {
    "duration": 485,
    "start_time": "2023-04-01T10:25:13.515Z"
   },
   {
    "duration": 10776,
    "start_time": "2023-04-01T10:25:43.239Z"
   },
   {
    "duration": 6222,
    "start_time": "2023-04-01T10:26:13.165Z"
   },
   {
    "duration": 15,
    "start_time": "2023-04-01T10:32:27.575Z"
   },
   {
    "duration": 20,
    "start_time": "2023-04-01T10:34:44.242Z"
   },
   {
    "duration": 115,
    "start_time": "2023-04-01T10:35:47.920Z"
   },
   {
    "duration": 71,
    "start_time": "2023-04-01T10:35:56.928Z"
   },
   {
    "duration": 19,
    "start_time": "2023-04-01T10:36:54.875Z"
   },
   {
    "duration": 20,
    "start_time": "2023-04-01T10:37:23.069Z"
   },
   {
    "duration": 29,
    "start_time": "2023-04-01T10:38:07.598Z"
   },
   {
    "duration": 153,
    "start_time": "2023-04-01T10:39:11.329Z"
   },
   {
    "duration": 157,
    "start_time": "2023-04-01T10:39:50.957Z"
   },
   {
    "duration": 1226,
    "start_time": "2023-04-01T10:40:34.056Z"
   },
   {
    "duration": 41,
    "start_time": "2023-04-01T10:40:35.285Z"
   },
   {
    "duration": 20,
    "start_time": "2023-04-01T10:40:35.328Z"
   },
   {
    "duration": 27,
    "start_time": "2023-04-01T10:40:35.351Z"
   },
   {
    "duration": 15,
    "start_time": "2023-04-01T10:40:35.380Z"
   },
   {
    "duration": 6,
    "start_time": "2023-04-01T10:40:35.397Z"
   },
   {
    "duration": 18,
    "start_time": "2023-04-01T10:40:35.406Z"
   },
   {
    "duration": 19,
    "start_time": "2023-04-01T10:40:35.426Z"
   },
   {
    "duration": 10,
    "start_time": "2023-04-01T10:40:35.448Z"
   },
   {
    "duration": 43,
    "start_time": "2023-04-01T10:40:35.462Z"
   },
   {
    "duration": 462,
    "start_time": "2023-04-01T10:40:35.507Z"
   },
   {
    "duration": 5,
    "start_time": "2023-04-01T10:40:35.971Z"
   },
   {
    "duration": 7,
    "start_time": "2023-04-01T10:40:35.988Z"
   },
   {
    "duration": 164,
    "start_time": "2023-04-01T10:40:35.998Z"
   },
   {
    "duration": 4,
    "start_time": "2023-04-01T10:40:36.164Z"
   },
   {
    "duration": 31,
    "start_time": "2023-04-01T10:40:36.171Z"
   },
   {
    "duration": 16,
    "start_time": "2023-04-01T10:40:36.204Z"
   },
   {
    "duration": 8,
    "start_time": "2023-04-01T10:40:36.222Z"
   },
   {
    "duration": 15,
    "start_time": "2023-04-01T10:40:36.232Z"
   },
   {
    "duration": 10,
    "start_time": "2023-04-01T10:40:36.249Z"
   },
   {
    "duration": 12,
    "start_time": "2023-04-01T10:40:36.261Z"
   },
   {
    "duration": 32,
    "start_time": "2023-04-01T10:40:36.274Z"
   },
   {
    "duration": 31,
    "start_time": "2023-04-01T10:40:36.308Z"
   },
   {
    "duration": 15,
    "start_time": "2023-04-01T10:40:36.341Z"
   },
   {
    "duration": 39,
    "start_time": "2023-04-01T10:40:36.358Z"
   },
   {
    "duration": 16,
    "start_time": "2023-04-01T10:40:36.399Z"
   },
   {
    "duration": 534,
    "start_time": "2023-04-01T10:40:36.417Z"
   },
   {
    "duration": 35,
    "start_time": "2023-04-01T10:40:36.955Z"
   },
   {
    "duration": 10896,
    "start_time": "2023-04-01T10:40:36.992Z"
   },
   {
    "duration": 16,
    "start_time": "2023-04-01T10:40:47.890Z"
   },
   {
    "duration": 5481,
    "start_time": "2023-04-01T10:40:47.908Z"
   },
   {
    "duration": 408,
    "start_time": "2023-04-01T10:40:53.391Z"
   },
   {
    "duration": 335,
    "start_time": "2023-04-01T10:40:53.802Z"
   },
   {
    "duration": 164,
    "start_time": "2023-04-01T10:41:20.831Z"
   },
   {
    "duration": 8,
    "start_time": "2023-04-01T10:42:44.808Z"
   },
   {
    "duration": 1248,
    "start_time": "2023-04-01T10:42:53.444Z"
   },
   {
    "duration": 43,
    "start_time": "2023-04-01T10:42:54.694Z"
   },
   {
    "duration": 15,
    "start_time": "2023-04-01T10:42:54.739Z"
   },
   {
    "duration": 33,
    "start_time": "2023-04-01T10:42:54.756Z"
   },
   {
    "duration": 12,
    "start_time": "2023-04-01T10:42:54.791Z"
   },
   {
    "duration": 5,
    "start_time": "2023-04-01T10:42:54.806Z"
   },
   {
    "duration": 17,
    "start_time": "2023-04-01T10:42:54.813Z"
   },
   {
    "duration": 9,
    "start_time": "2023-04-01T10:42:54.832Z"
   },
   {
    "duration": 7,
    "start_time": "2023-04-01T10:42:54.843Z"
   },
   {
    "duration": 28,
    "start_time": "2023-04-01T10:42:54.888Z"
   },
   {
    "duration": 478,
    "start_time": "2023-04-01T10:42:54.918Z"
   },
   {
    "duration": 7,
    "start_time": "2023-04-01T10:42:55.398Z"
   },
   {
    "duration": 8,
    "start_time": "2023-04-01T10:42:55.406Z"
   },
   {
    "duration": 168,
    "start_time": "2023-04-01T10:42:55.416Z"
   },
   {
    "duration": 4,
    "start_time": "2023-04-01T10:42:55.587Z"
   },
   {
    "duration": 26,
    "start_time": "2023-04-01T10:42:55.593Z"
   },
   {
    "duration": 20,
    "start_time": "2023-04-01T10:42:55.621Z"
   },
   {
    "duration": 11,
    "start_time": "2023-04-01T10:42:55.643Z"
   },
   {
    "duration": 35,
    "start_time": "2023-04-01T10:42:55.656Z"
   },
   {
    "duration": 11,
    "start_time": "2023-04-01T10:42:55.693Z"
   },
   {
    "duration": 11,
    "start_time": "2023-04-01T10:42:55.706Z"
   },
   {
    "duration": 24,
    "start_time": "2023-04-01T10:42:55.718Z"
   },
   {
    "duration": 46,
    "start_time": "2023-04-01T10:42:55.743Z"
   },
   {
    "duration": 12,
    "start_time": "2023-04-01T10:42:55.791Z"
   },
   {
    "duration": 18,
    "start_time": "2023-04-01T10:42:55.804Z"
   },
   {
    "duration": 14,
    "start_time": "2023-04-01T10:42:55.824Z"
   },
   {
    "duration": 589,
    "start_time": "2023-04-01T10:42:55.840Z"
   },
   {
    "duration": 26,
    "start_time": "2023-04-01T10:42:56.433Z"
   },
   {
    "duration": 10878,
    "start_time": "2023-04-01T10:42:56.468Z"
   },
   {
    "duration": 20,
    "start_time": "2023-04-01T10:43:07.348Z"
   },
   {
    "duration": 4224,
    "start_time": "2023-04-01T10:43:07.370Z"
   },
   {
    "duration": 896,
    "start_time": "2023-04-01T10:43:11.602Z"
   },
   {
    "duration": 220,
    "start_time": "2023-04-01T10:43:12.500Z"
   },
   {
    "duration": 1127,
    "start_time": "2023-04-01T10:43:18.310Z"
   },
   {
    "duration": 42,
    "start_time": "2023-04-01T10:43:19.439Z"
   },
   {
    "duration": 18,
    "start_time": "2023-04-01T10:43:19.483Z"
   },
   {
    "duration": 32,
    "start_time": "2023-04-01T10:43:19.504Z"
   },
   {
    "duration": 9,
    "start_time": "2023-04-01T10:43:19.537Z"
   },
   {
    "duration": 5,
    "start_time": "2023-04-01T10:43:19.548Z"
   },
   {
    "duration": 40,
    "start_time": "2023-04-01T10:43:19.555Z"
   },
   {
    "duration": 10,
    "start_time": "2023-04-01T10:43:19.597Z"
   },
   {
    "duration": 9,
    "start_time": "2023-04-01T10:43:19.609Z"
   },
   {
    "duration": 21,
    "start_time": "2023-04-01T10:43:19.621Z"
   },
   {
    "duration": 429,
    "start_time": "2023-04-01T10:43:19.643Z"
   },
   {
    "duration": 13,
    "start_time": "2023-04-01T10:43:20.074Z"
   },
   {
    "duration": 19,
    "start_time": "2023-04-01T10:43:20.089Z"
   },
   {
    "duration": 214,
    "start_time": "2023-04-01T10:43:20.110Z"
   },
   {
    "duration": 6,
    "start_time": "2023-04-01T10:43:20.327Z"
   },
   {
    "duration": 27,
    "start_time": "2023-04-01T10:43:20.335Z"
   },
   {
    "duration": 27,
    "start_time": "2023-04-01T10:43:20.365Z"
   },
   {
    "duration": 11,
    "start_time": "2023-04-01T10:43:20.395Z"
   },
   {
    "duration": 39,
    "start_time": "2023-04-01T10:43:20.409Z"
   },
   {
    "duration": 11,
    "start_time": "2023-04-01T10:43:20.450Z"
   },
   {
    "duration": 5,
    "start_time": "2023-04-01T10:43:20.463Z"
   },
   {
    "duration": 47,
    "start_time": "2023-04-01T10:43:20.470Z"
   },
   {
    "duration": 46,
    "start_time": "2023-04-01T10:43:20.519Z"
   },
   {
    "duration": 23,
    "start_time": "2023-04-01T10:43:20.568Z"
   },
   {
    "duration": 28,
    "start_time": "2023-04-01T10:43:20.593Z"
   },
   {
    "duration": 25,
    "start_time": "2023-04-01T10:43:20.623Z"
   },
   {
    "duration": 158,
    "start_time": "2023-04-01T10:43:20.650Z"
   },
   {
    "duration": 0,
    "start_time": "2023-04-01T10:43:20.811Z"
   },
   {
    "duration": 0,
    "start_time": "2023-04-01T10:43:20.812Z"
   },
   {
    "duration": 0,
    "start_time": "2023-04-01T10:43:20.814Z"
   },
   {
    "duration": 0,
    "start_time": "2023-04-01T10:43:20.815Z"
   },
   {
    "duration": 0,
    "start_time": "2023-04-01T10:43:20.817Z"
   },
   {
    "duration": 0,
    "start_time": "2023-04-01T10:43:20.818Z"
   },
   {
    "duration": 1173,
    "start_time": "2023-04-01T10:44:18.844Z"
   },
   {
    "duration": 41,
    "start_time": "2023-04-01T10:44:20.019Z"
   },
   {
    "duration": 14,
    "start_time": "2023-04-01T10:44:20.061Z"
   },
   {
    "duration": 25,
    "start_time": "2023-04-01T10:44:20.078Z"
   },
   {
    "duration": 8,
    "start_time": "2023-04-01T10:44:20.105Z"
   },
   {
    "duration": 8,
    "start_time": "2023-04-01T10:44:20.115Z"
   },
   {
    "duration": 15,
    "start_time": "2023-04-01T10:44:20.125Z"
   },
   {
    "duration": 11,
    "start_time": "2023-04-01T10:44:20.142Z"
   },
   {
    "duration": 7,
    "start_time": "2023-04-01T10:44:20.155Z"
   },
   {
    "duration": 20,
    "start_time": "2023-04-01T10:44:20.190Z"
   },
   {
    "duration": 580,
    "start_time": "2023-04-01T10:44:20.212Z"
   },
   {
    "duration": 8,
    "start_time": "2023-04-01T10:44:20.794Z"
   },
   {
    "duration": 13,
    "start_time": "2023-04-01T10:44:20.804Z"
   },
   {
    "duration": 157,
    "start_time": "2023-04-01T10:44:20.819Z"
   },
   {
    "duration": 11,
    "start_time": "2023-04-01T10:44:20.978Z"
   },
   {
    "duration": 21,
    "start_time": "2023-04-01T10:44:20.991Z"
   },
   {
    "duration": 20,
    "start_time": "2023-04-01T10:44:21.014Z"
   },
   {
    "duration": 5,
    "start_time": "2023-04-01T10:44:21.036Z"
   },
   {
    "duration": 24,
    "start_time": "2023-04-01T10:44:21.043Z"
   },
   {
    "duration": 22,
    "start_time": "2023-04-01T10:44:21.069Z"
   },
   {
    "duration": 5,
    "start_time": "2023-04-01T10:44:21.092Z"
   },
   {
    "duration": 22,
    "start_time": "2023-04-01T10:44:21.099Z"
   },
   {
    "duration": 65,
    "start_time": "2023-04-01T10:44:21.123Z"
   },
   {
    "duration": 17,
    "start_time": "2023-04-01T10:44:21.190Z"
   },
   {
    "duration": 14,
    "start_time": "2023-04-01T10:44:21.209Z"
   },
   {
    "duration": 15,
    "start_time": "2023-04-01T10:44:21.225Z"
   },
   {
    "duration": 560,
    "start_time": "2023-04-01T10:44:21.242Z"
   },
   {
    "duration": 24,
    "start_time": "2023-04-01T10:44:21.805Z"
   },
   {
    "duration": 10814,
    "start_time": "2023-04-01T10:44:21.831Z"
   },
   {
    "duration": 17,
    "start_time": "2023-04-01T10:44:32.647Z"
   },
   {
    "duration": 4223,
    "start_time": "2023-04-01T10:44:32.666Z"
   },
   {
    "duration": 209,
    "start_time": "2023-04-01T10:44:36.892Z"
   },
   {
    "duration": 231,
    "start_time": "2023-04-01T10:44:37.188Z"
   },
   {
    "duration": 1561,
    "start_time": "2023-04-01T10:45:03.963Z"
   },
   {
    "duration": 43,
    "start_time": "2023-04-01T10:45:05.526Z"
   },
   {
    "duration": 13,
    "start_time": "2023-04-01T10:45:05.571Z"
   },
   {
    "duration": 26,
    "start_time": "2023-04-01T10:45:05.586Z"
   },
   {
    "duration": 10,
    "start_time": "2023-04-01T10:45:05.614Z"
   },
   {
    "duration": 7,
    "start_time": "2023-04-01T10:45:05.626Z"
   },
   {
    "duration": 23,
    "start_time": "2023-04-01T10:45:05.635Z"
   },
   {
    "duration": 28,
    "start_time": "2023-04-01T10:45:05.661Z"
   },
   {
    "duration": 8,
    "start_time": "2023-04-01T10:45:05.691Z"
   },
   {
    "duration": 29,
    "start_time": "2023-04-01T10:45:05.701Z"
   },
   {
    "duration": 449,
    "start_time": "2023-04-01T10:45:05.731Z"
   },
   {
    "duration": 7,
    "start_time": "2023-04-01T10:45:06.187Z"
   },
   {
    "duration": 8,
    "start_time": "2023-04-01T10:45:06.196Z"
   },
   {
    "duration": 163,
    "start_time": "2023-04-01T10:45:06.208Z"
   },
   {
    "duration": 16,
    "start_time": "2023-04-01T10:45:06.373Z"
   },
   {
    "duration": 22,
    "start_time": "2023-04-01T10:45:06.391Z"
   },
   {
    "duration": 17,
    "start_time": "2023-04-01T10:45:06.415Z"
   },
   {
    "duration": 10,
    "start_time": "2023-04-01T10:45:06.434Z"
   },
   {
    "duration": 17,
    "start_time": "2023-04-01T10:45:06.446Z"
   },
   {
    "duration": 42,
    "start_time": "2023-04-01T10:45:06.465Z"
   },
   {
    "duration": 19,
    "start_time": "2023-04-01T10:45:06.510Z"
   },
   {
    "duration": 36,
    "start_time": "2023-04-01T10:45:06.531Z"
   },
   {
    "duration": 32,
    "start_time": "2023-04-01T10:45:06.568Z"
   },
   {
    "duration": 12,
    "start_time": "2023-04-01T10:45:06.602Z"
   },
   {
    "duration": 12,
    "start_time": "2023-04-01T10:45:06.616Z"
   },
   {
    "duration": 26,
    "start_time": "2023-04-01T10:45:06.630Z"
   },
   {
    "duration": 585,
    "start_time": "2023-04-01T10:45:06.659Z"
   },
   {
    "duration": 21,
    "start_time": "2023-04-01T10:45:07.246Z"
   },
   {
    "duration": 10799,
    "start_time": "2023-04-01T10:45:07.268Z"
   },
   {
    "duration": 31,
    "start_time": "2023-04-01T10:45:18.069Z"
   },
   {
    "duration": 4097,
    "start_time": "2023-04-01T10:45:18.101Z"
   },
   {
    "duration": 288,
    "start_time": "2023-04-01T10:45:22.201Z"
   },
   {
    "duration": 213,
    "start_time": "2023-04-01T10:45:22.491Z"
   },
   {
    "duration": 1111,
    "start_time": "2023-04-01T10:46:16.338Z"
   },
   {
    "duration": 42,
    "start_time": "2023-04-01T10:46:17.451Z"
   },
   {
    "duration": 14,
    "start_time": "2023-04-01T10:46:17.494Z"
   },
   {
    "duration": 27,
    "start_time": "2023-04-01T10:46:17.510Z"
   },
   {
    "duration": 9,
    "start_time": "2023-04-01T10:46:17.540Z"
   },
   {
    "duration": 7,
    "start_time": "2023-04-01T10:46:17.551Z"
   },
   {
    "duration": 35,
    "start_time": "2023-04-01T10:46:17.560Z"
   },
   {
    "duration": 13,
    "start_time": "2023-04-01T10:46:17.597Z"
   },
   {
    "duration": 7,
    "start_time": "2023-04-01T10:46:17.612Z"
   },
   {
    "duration": 28,
    "start_time": "2023-04-01T10:46:17.622Z"
   },
   {
    "duration": 461,
    "start_time": "2023-04-01T10:46:17.653Z"
   },
   {
    "duration": 7,
    "start_time": "2023-04-01T10:46:18.115Z"
   },
   {
    "duration": 9,
    "start_time": "2023-04-01T10:46:18.125Z"
   },
   {
    "duration": 164,
    "start_time": "2023-04-01T10:46:18.137Z"
   },
   {
    "duration": 5,
    "start_time": "2023-04-01T10:46:18.303Z"
   },
   {
    "duration": 19,
    "start_time": "2023-04-01T10:46:18.310Z"
   },
   {
    "duration": 15,
    "start_time": "2023-04-01T10:46:18.331Z"
   },
   {
    "duration": 4,
    "start_time": "2023-04-01T10:46:18.348Z"
   },
   {
    "duration": 41,
    "start_time": "2023-04-01T10:46:18.353Z"
   },
   {
    "duration": 35,
    "start_time": "2023-04-01T10:46:18.396Z"
   },
   {
    "duration": 22,
    "start_time": "2023-04-01T10:46:18.433Z"
   },
   {
    "duration": 25,
    "start_time": "2023-04-01T10:46:18.456Z"
   },
   {
    "duration": 179,
    "start_time": "2023-04-01T10:46:18.483Z"
   },
   {
    "duration": 13,
    "start_time": "2023-04-01T10:46:18.664Z"
   },
   {
    "duration": 14,
    "start_time": "2023-04-01T10:46:18.679Z"
   },
   {
    "duration": 15,
    "start_time": "2023-04-01T10:46:18.695Z"
   },
   {
    "duration": 559,
    "start_time": "2023-04-01T10:46:18.713Z"
   },
   {
    "duration": 28,
    "start_time": "2023-04-01T10:46:19.274Z"
   },
   {
    "duration": 10999,
    "start_time": "2023-04-01T10:46:19.304Z"
   },
   {
    "duration": 19,
    "start_time": "2023-04-01T10:46:30.304Z"
   },
   {
    "duration": 4376,
    "start_time": "2023-04-01T10:46:30.324Z"
   },
   {
    "duration": 294,
    "start_time": "2023-04-01T10:46:34.703Z"
   },
   {
    "duration": 327,
    "start_time": "2023-04-01T10:46:35.002Z"
   },
   {
    "duration": 1514,
    "start_time": "2023-04-01T10:47:14.240Z"
   },
   {
    "duration": 68,
    "start_time": "2023-04-01T10:47:15.762Z"
   },
   {
    "duration": 16,
    "start_time": "2023-04-01T10:47:15.833Z"
   },
   {
    "duration": 26,
    "start_time": "2023-04-01T10:47:15.852Z"
   },
   {
    "duration": 10,
    "start_time": "2023-04-01T10:47:15.880Z"
   },
   {
    "duration": 5,
    "start_time": "2023-04-01T10:47:15.892Z"
   },
   {
    "duration": 21,
    "start_time": "2023-04-01T10:47:15.899Z"
   },
   {
    "duration": 14,
    "start_time": "2023-04-01T10:47:15.921Z"
   },
   {
    "duration": 11,
    "start_time": "2023-04-01T10:47:15.937Z"
   },
   {
    "duration": 52,
    "start_time": "2023-04-01T10:47:15.952Z"
   },
   {
    "duration": 617,
    "start_time": "2023-04-01T10:47:16.006Z"
   },
   {
    "duration": 5,
    "start_time": "2023-04-01T10:47:16.625Z"
   },
   {
    "duration": 13,
    "start_time": "2023-04-01T10:47:16.631Z"
   },
   {
    "duration": 191,
    "start_time": "2023-04-01T10:47:16.647Z"
   },
   {
    "duration": 5,
    "start_time": "2023-04-01T10:47:16.841Z"
   },
   {
    "duration": 21,
    "start_time": "2023-04-01T10:47:16.848Z"
   },
   {
    "duration": 27,
    "start_time": "2023-04-01T10:47:16.871Z"
   },
   {
    "duration": 14,
    "start_time": "2023-04-01T10:47:16.900Z"
   },
   {
    "duration": 30,
    "start_time": "2023-04-01T10:47:16.917Z"
   },
   {
    "duration": 9,
    "start_time": "2023-04-01T10:47:16.949Z"
   },
   {
    "duration": 7,
    "start_time": "2023-04-01T10:47:16.960Z"
   },
   {
    "duration": 40,
    "start_time": "2023-04-01T10:47:16.969Z"
   },
   {
    "duration": 46,
    "start_time": "2023-04-01T10:47:17.011Z"
   },
   {
    "duration": 32,
    "start_time": "2023-04-01T10:47:17.059Z"
   },
   {
    "duration": 23,
    "start_time": "2023-04-01T10:47:17.093Z"
   },
   {
    "duration": 23,
    "start_time": "2023-04-01T10:47:17.118Z"
   },
   {
    "duration": 545,
    "start_time": "2023-04-01T10:47:17.143Z"
   },
   {
    "duration": 20,
    "start_time": "2023-04-01T10:47:17.691Z"
   },
   {
    "duration": 11115,
    "start_time": "2023-04-01T10:47:17.713Z"
   },
   {
    "duration": 21,
    "start_time": "2023-04-01T10:47:28.831Z"
   },
   {
    "duration": 7437,
    "start_time": "2023-04-01T10:47:28.854Z"
   },
   {
    "duration": 304,
    "start_time": "2023-04-01T10:47:36.297Z"
   },
   {
    "duration": 270,
    "start_time": "2023-04-01T10:47:36.689Z"
   },
   {
    "duration": 7,
    "start_time": "2023-04-01T10:48:32.141Z"
   },
   {
    "duration": 1372,
    "start_time": "2023-04-01T10:48:37.124Z"
   },
   {
    "duration": 41,
    "start_time": "2023-04-01T10:48:38.498Z"
   },
   {
    "duration": 15,
    "start_time": "2023-04-01T10:48:38.541Z"
   },
   {
    "duration": 25,
    "start_time": "2023-04-01T10:48:38.558Z"
   },
   {
    "duration": 9,
    "start_time": "2023-04-01T10:48:38.584Z"
   },
   {
    "duration": 4,
    "start_time": "2023-04-01T10:48:38.595Z"
   },
   {
    "duration": 15,
    "start_time": "2023-04-01T10:48:38.600Z"
   },
   {
    "duration": 9,
    "start_time": "2023-04-01T10:48:38.616Z"
   },
   {
    "duration": 8,
    "start_time": "2023-04-01T10:48:38.627Z"
   },
   {
    "duration": 61,
    "start_time": "2023-04-01T10:48:38.638Z"
   },
   {
    "duration": 463,
    "start_time": "2023-04-01T10:48:38.701Z"
   },
   {
    "duration": 5,
    "start_time": "2023-04-01T10:48:39.170Z"
   },
   {
    "duration": 18,
    "start_time": "2023-04-01T10:48:39.176Z"
   },
   {
    "duration": 160,
    "start_time": "2023-04-01T10:48:39.195Z"
   },
   {
    "duration": 4,
    "start_time": "2023-04-01T10:48:39.358Z"
   },
   {
    "duration": 31,
    "start_time": "2023-04-01T10:48:39.364Z"
   },
   {
    "duration": 30,
    "start_time": "2023-04-01T10:48:39.397Z"
   },
   {
    "duration": 10,
    "start_time": "2023-04-01T10:48:39.430Z"
   },
   {
    "duration": 21,
    "start_time": "2023-04-01T10:48:39.442Z"
   },
   {
    "duration": 9,
    "start_time": "2023-04-01T10:48:39.465Z"
   },
   {
    "duration": 12,
    "start_time": "2023-04-01T10:48:39.475Z"
   },
   {
    "duration": 28,
    "start_time": "2023-04-01T10:48:39.489Z"
   },
   {
    "duration": 33,
    "start_time": "2023-04-01T10:48:39.518Z"
   },
   {
    "duration": 37,
    "start_time": "2023-04-01T10:48:39.553Z"
   },
   {
    "duration": 15,
    "start_time": "2023-04-01T10:48:39.593Z"
   },
   {
    "duration": 15,
    "start_time": "2023-04-01T10:48:39.611Z"
   },
   {
    "duration": 560,
    "start_time": "2023-04-01T10:48:39.628Z"
   },
   {
    "duration": 21,
    "start_time": "2023-04-01T10:48:40.192Z"
   },
   {
    "duration": 10939,
    "start_time": "2023-04-01T10:48:40.215Z"
   },
   {
    "duration": 34,
    "start_time": "2023-04-01T10:48:51.157Z"
   },
   {
    "duration": 9200,
    "start_time": "2023-04-01T10:48:51.194Z"
   },
   {
    "duration": 398,
    "start_time": "2023-04-01T10:49:00.397Z"
   },
   {
    "duration": 247,
    "start_time": "2023-04-01T10:49:00.800Z"
   },
   {
    "duration": 1350,
    "start_time": "2023-04-01T10:50:09.314Z"
   },
   {
    "duration": 43,
    "start_time": "2023-04-01T10:50:10.667Z"
   },
   {
    "duration": 15,
    "start_time": "2023-04-01T10:50:10.712Z"
   },
   {
    "duration": 26,
    "start_time": "2023-04-01T10:50:10.729Z"
   },
   {
    "duration": 9,
    "start_time": "2023-04-01T10:50:10.758Z"
   },
   {
    "duration": 25,
    "start_time": "2023-04-01T10:50:10.768Z"
   },
   {
    "duration": 31,
    "start_time": "2023-04-01T10:50:10.795Z"
   },
   {
    "duration": 37,
    "start_time": "2023-04-01T10:50:10.836Z"
   },
   {
    "duration": 16,
    "start_time": "2023-04-01T10:50:10.875Z"
   },
   {
    "duration": 45,
    "start_time": "2023-04-01T10:50:10.895Z"
   },
   {
    "duration": 461,
    "start_time": "2023-04-01T10:50:10.942Z"
   },
   {
    "duration": 5,
    "start_time": "2023-04-01T10:50:11.405Z"
   },
   {
    "duration": 28,
    "start_time": "2023-04-01T10:50:11.412Z"
   },
   {
    "duration": 147,
    "start_time": "2023-04-01T10:50:11.442Z"
   },
   {
    "duration": 4,
    "start_time": "2023-04-01T10:50:11.591Z"
   },
   {
    "duration": 15,
    "start_time": "2023-04-01T10:50:11.597Z"
   },
   {
    "duration": 14,
    "start_time": "2023-04-01T10:50:11.614Z"
   },
   {
    "duration": 4,
    "start_time": "2023-04-01T10:50:11.630Z"
   },
   {
    "duration": 15,
    "start_time": "2023-04-01T10:50:11.636Z"
   },
   {
    "duration": 39,
    "start_time": "2023-04-01T10:50:11.653Z"
   },
   {
    "duration": 4,
    "start_time": "2023-04-01T10:50:11.694Z"
   },
   {
    "duration": 22,
    "start_time": "2023-04-01T10:50:11.700Z"
   },
   {
    "duration": 28,
    "start_time": "2023-04-01T10:50:11.724Z"
   },
   {
    "duration": 42,
    "start_time": "2023-04-01T10:50:11.754Z"
   },
   {
    "duration": 16,
    "start_time": "2023-04-01T10:50:11.798Z"
   },
   {
    "duration": 13,
    "start_time": "2023-04-01T10:50:11.816Z"
   },
   {
    "duration": 584,
    "start_time": "2023-04-01T10:50:11.832Z"
   },
   {
    "duration": 23,
    "start_time": "2023-04-01T10:50:12.420Z"
   },
   {
    "duration": 12046,
    "start_time": "2023-04-01T10:50:12.446Z"
   },
   {
    "duration": 17,
    "start_time": "2023-04-01T10:50:24.494Z"
   },
   {
    "duration": 3884,
    "start_time": "2023-04-01T10:50:24.513Z"
   },
   {
    "duration": 884,
    "start_time": "2023-04-01T10:50:28.402Z"
   },
   {
    "duration": 189,
    "start_time": "2023-04-01T10:50:29.289Z"
   },
   {
    "duration": 42,
    "start_time": "2023-04-01T10:50:51.371Z"
   },
   {
    "duration": 17,
    "start_time": "2023-04-01T10:50:53.909Z"
   },
   {
    "duration": 11,
    "start_time": "2023-04-01T10:50:54.511Z"
   },
   {
    "duration": 17,
    "start_time": "2023-04-01T10:50:55.897Z"
   },
   {
    "duration": 506,
    "start_time": "2023-04-01T10:51:01.399Z"
   },
   {
    "duration": 19,
    "start_time": "2023-04-01T10:51:06.055Z"
   },
   {
    "duration": 1367,
    "start_time": "2023-04-01T10:51:23.599Z"
   },
   {
    "duration": 63,
    "start_time": "2023-04-01T10:51:24.969Z"
   },
   {
    "duration": 17,
    "start_time": "2023-04-01T10:51:25.034Z"
   },
   {
    "duration": 43,
    "start_time": "2023-04-01T10:51:25.053Z"
   },
   {
    "duration": 14,
    "start_time": "2023-04-01T10:51:25.098Z"
   },
   {
    "duration": 4,
    "start_time": "2023-04-01T10:51:25.114Z"
   },
   {
    "duration": 17,
    "start_time": "2023-04-01T10:51:25.120Z"
   },
   {
    "duration": 35,
    "start_time": "2023-04-01T10:51:25.139Z"
   },
   {
    "duration": 27,
    "start_time": "2023-04-01T10:51:25.176Z"
   },
   {
    "duration": 40,
    "start_time": "2023-04-01T10:51:25.209Z"
   },
   {
    "duration": 469,
    "start_time": "2023-04-01T10:51:25.252Z"
   },
   {
    "duration": 11,
    "start_time": "2023-04-01T10:51:25.723Z"
   },
   {
    "duration": 15,
    "start_time": "2023-04-01T10:51:25.737Z"
   },
   {
    "duration": 166,
    "start_time": "2023-04-01T10:51:25.754Z"
   },
   {
    "duration": 4,
    "start_time": "2023-04-01T10:51:25.922Z"
   },
   {
    "duration": 40,
    "start_time": "2023-04-01T10:51:25.927Z"
   },
   {
    "duration": 25,
    "start_time": "2023-04-01T10:51:25.969Z"
   },
   {
    "duration": 13,
    "start_time": "2023-04-01T10:51:25.996Z"
   },
   {
    "duration": 23,
    "start_time": "2023-04-01T10:51:26.011Z"
   },
   {
    "duration": 14,
    "start_time": "2023-04-01T10:51:26.035Z"
   },
   {
    "duration": 7,
    "start_time": "2023-04-01T10:51:26.051Z"
   },
   {
    "duration": 27,
    "start_time": "2023-04-01T10:51:26.060Z"
   },
   {
    "duration": 47,
    "start_time": "2023-04-01T10:51:26.089Z"
   },
   {
    "duration": 11,
    "start_time": "2023-04-01T10:51:26.138Z"
   },
   {
    "duration": 41,
    "start_time": "2023-04-01T10:51:26.151Z"
   },
   {
    "duration": 18,
    "start_time": "2023-04-01T10:51:26.194Z"
   },
   {
    "duration": 604,
    "start_time": "2023-04-01T10:51:26.215Z"
   },
   {
    "duration": 41,
    "start_time": "2023-04-01T10:51:26.824Z"
   },
   {
    "duration": 26683,
    "start_time": "2023-04-01T10:51:26.867Z"
   },
   {
    "duration": 322,
    "start_time": "2023-04-01T10:51:53.552Z"
   },
   {
    "duration": 8413,
    "start_time": "2023-04-01T10:51:53.875Z"
   },
   {
    "duration": 405,
    "start_time": "2023-04-01T10:52:02.290Z"
   },
   {
    "duration": 245,
    "start_time": "2023-04-01T10:52:02.697Z"
   },
   {
    "duration": 323,
    "start_time": "2023-04-01T10:52:47.050Z"
   },
   {
    "duration": 528,
    "start_time": "2023-04-01T10:53:00.960Z"
   },
   {
    "duration": 12420,
    "start_time": "2023-04-01T10:53:26.970Z"
   },
   {
    "duration": 3,
    "start_time": "2023-04-01T10:54:36.945Z"
   },
   {
    "duration": 1231,
    "start_time": "2023-04-01T11:04:54.631Z"
   },
   {
    "duration": 42,
    "start_time": "2023-04-01T11:04:55.865Z"
   },
   {
    "duration": 15,
    "start_time": "2023-04-01T11:04:55.909Z"
   },
   {
    "duration": 31,
    "start_time": "2023-04-01T11:04:55.926Z"
   },
   {
    "duration": 28,
    "start_time": "2023-04-01T11:04:55.960Z"
   },
   {
    "duration": 5,
    "start_time": "2023-04-01T11:04:55.990Z"
   },
   {
    "duration": 15,
    "start_time": "2023-04-01T11:04:55.997Z"
   },
   {
    "duration": 11,
    "start_time": "2023-04-01T11:04:56.014Z"
   },
   {
    "duration": 9,
    "start_time": "2023-04-01T11:04:56.027Z"
   },
   {
    "duration": 23,
    "start_time": "2023-04-01T11:04:56.040Z"
   },
   {
    "duration": 426,
    "start_time": "2023-04-01T11:04:56.088Z"
   },
   {
    "duration": 4,
    "start_time": "2023-04-01T11:04:56.518Z"
   },
   {
    "duration": 18,
    "start_time": "2023-04-01T11:04:56.524Z"
   },
   {
    "duration": 149,
    "start_time": "2023-04-01T11:04:56.546Z"
   },
   {
    "duration": 4,
    "start_time": "2023-04-01T11:04:56.697Z"
   },
   {
    "duration": 14,
    "start_time": "2023-04-01T11:04:56.703Z"
   },
   {
    "duration": 15,
    "start_time": "2023-04-01T11:04:56.719Z"
   },
   {
    "duration": 4,
    "start_time": "2023-04-01T11:04:56.737Z"
   },
   {
    "duration": 56,
    "start_time": "2023-04-01T11:04:56.742Z"
   },
   {
    "duration": 12,
    "start_time": "2023-04-01T11:04:56.801Z"
   },
   {
    "duration": 8,
    "start_time": "2023-04-01T11:04:56.816Z"
   },
   {
    "duration": 48,
    "start_time": "2023-04-01T11:04:56.826Z"
   },
   {
    "duration": 30,
    "start_time": "2023-04-01T11:04:56.875Z"
   },
   {
    "duration": 12,
    "start_time": "2023-04-01T11:04:56.906Z"
   },
   {
    "duration": 14,
    "start_time": "2023-04-01T11:04:56.920Z"
   },
   {
    "duration": 13,
    "start_time": "2023-04-01T11:04:56.936Z"
   },
   {
    "duration": 567,
    "start_time": "2023-04-01T11:04:56.951Z"
   },
   {
    "duration": 41,
    "start_time": "2023-04-01T11:04:57.521Z"
   },
   {
    "duration": 25294,
    "start_time": "2023-04-01T11:04:57.565Z"
   },
   {
    "duration": 331,
    "start_time": "2023-04-01T11:05:22.861Z"
   },
   {
    "duration": 5208,
    "start_time": "2023-04-01T11:05:23.194Z"
   },
   {
    "duration": 298,
    "start_time": "2023-04-01T11:05:28.494Z"
   },
   {
    "duration": 217,
    "start_time": "2023-04-01T11:05:28.798Z"
   },
   {
    "duration": 14,
    "start_time": "2023-04-01T11:09:10.589Z"
   },
   {
    "duration": 14,
    "start_time": "2023-04-01T11:10:27.944Z"
   },
   {
    "duration": 6,
    "start_time": "2023-04-01T11:11:00.380Z"
   },
   {
    "duration": 1202,
    "start_time": "2023-04-01T11:11:37.359Z"
   },
   {
    "duration": 41,
    "start_time": "2023-04-01T11:11:38.563Z"
   },
   {
    "duration": 15,
    "start_time": "2023-04-01T11:11:38.606Z"
   },
   {
    "duration": 35,
    "start_time": "2023-04-01T11:11:38.623Z"
   },
   {
    "duration": 34,
    "start_time": "2023-04-01T11:11:38.660Z"
   },
   {
    "duration": 5,
    "start_time": "2023-04-01T11:11:38.697Z"
   },
   {
    "duration": 22,
    "start_time": "2023-04-01T11:11:38.704Z"
   },
   {
    "duration": 14,
    "start_time": "2023-04-01T11:11:38.728Z"
   },
   {
    "duration": 8,
    "start_time": "2023-04-01T11:11:38.744Z"
   },
   {
    "duration": 51,
    "start_time": "2023-04-01T11:11:38.756Z"
   },
   {
    "duration": 456,
    "start_time": "2023-04-01T11:11:38.809Z"
   },
   {
    "duration": 6,
    "start_time": "2023-04-01T11:11:39.267Z"
   },
   {
    "duration": 14,
    "start_time": "2023-04-01T11:11:39.274Z"
   },
   {
    "duration": 157,
    "start_time": "2023-04-01T11:11:39.290Z"
   },
   {
    "duration": 5,
    "start_time": "2023-04-01T11:11:39.449Z"
   },
   {
    "duration": 22,
    "start_time": "2023-04-01T11:11:39.456Z"
   },
   {
    "duration": 20,
    "start_time": "2023-04-01T11:11:39.488Z"
   },
   {
    "duration": 5,
    "start_time": "2023-04-01T11:11:39.510Z"
   },
   {
    "duration": 38,
    "start_time": "2023-04-01T11:11:39.517Z"
   },
   {
    "duration": 22,
    "start_time": "2023-04-01T11:11:39.557Z"
   },
   {
    "duration": 13,
    "start_time": "2023-04-01T11:11:39.581Z"
   },
   {
    "duration": 30,
    "start_time": "2023-04-01T11:11:39.596Z"
   },
   {
    "duration": 32,
    "start_time": "2023-04-01T11:11:39.629Z"
   },
   {
    "duration": 26,
    "start_time": "2023-04-01T11:11:39.663Z"
   },
   {
    "duration": 14,
    "start_time": "2023-04-01T11:11:39.691Z"
   },
   {
    "duration": 39,
    "start_time": "2023-04-01T11:11:39.707Z"
   },
   {
    "duration": 578,
    "start_time": "2023-04-01T11:11:39.749Z"
   },
   {
    "duration": 55,
    "start_time": "2023-04-01T11:11:40.330Z"
   },
   {
    "duration": 26633,
    "start_time": "2023-04-01T11:11:40.391Z"
   },
   {
    "duration": 356,
    "start_time": "2023-04-01T11:12:07.027Z"
   },
   {
    "duration": 8505,
    "start_time": "2023-04-01T11:12:07.385Z"
   },
   {
    "duration": 596,
    "start_time": "2023-04-01T11:12:15.892Z"
   },
   {
    "duration": 152,
    "start_time": "2023-04-01T11:12:16.491Z"
   },
   {
    "duration": 14,
    "start_time": "2023-04-01T11:12:16.645Z"
   },
   {
    "duration": 26,
    "start_time": "2023-04-01T11:12:16.661Z"
   },
   {
    "duration": 646,
    "start_time": "2023-04-01T11:14:38.455Z"
   },
   {
    "duration": 59,
    "start_time": "2023-04-01T11:15:07.204Z"
   },
   {
    "duration": 72,
    "start_time": "2023-04-01T11:15:38.228Z"
   },
   {
    "duration": 22711,
    "start_time": "2023-04-01T11:16:29.311Z"
   },
   {
    "duration": 238,
    "start_time": "2023-04-01T11:17:36.254Z"
   },
   {
    "duration": 1223,
    "start_time": "2023-04-01T11:19:24.588Z"
   },
   {
    "duration": 44,
    "start_time": "2023-04-01T11:19:25.813Z"
   },
   {
    "duration": 15,
    "start_time": "2023-04-01T11:19:25.859Z"
   },
   {
    "duration": 27,
    "start_time": "2023-04-01T11:19:25.876Z"
   },
   {
    "duration": 10,
    "start_time": "2023-04-01T11:19:25.906Z"
   },
   {
    "duration": 5,
    "start_time": "2023-04-01T11:19:25.917Z"
   },
   {
    "duration": 15,
    "start_time": "2023-04-01T11:19:25.924Z"
   },
   {
    "duration": 24,
    "start_time": "2023-04-01T11:19:25.940Z"
   },
   {
    "duration": 27,
    "start_time": "2023-04-01T11:19:25.966Z"
   },
   {
    "duration": 23,
    "start_time": "2023-04-01T11:19:25.996Z"
   },
   {
    "duration": 429,
    "start_time": "2023-04-01T11:19:26.021Z"
   },
   {
    "duration": 8,
    "start_time": "2023-04-01T11:19:26.452Z"
   },
   {
    "duration": 25,
    "start_time": "2023-04-01T11:19:26.462Z"
   },
   {
    "duration": 164,
    "start_time": "2023-04-01T11:19:26.489Z"
   },
   {
    "duration": 4,
    "start_time": "2023-04-01T11:19:26.655Z"
   },
   {
    "duration": 27,
    "start_time": "2023-04-01T11:19:26.660Z"
   },
   {
    "duration": 12,
    "start_time": "2023-04-01T11:19:26.689Z"
   },
   {
    "duration": 4,
    "start_time": "2023-04-01T11:19:26.703Z"
   },
   {
    "duration": 14,
    "start_time": "2023-04-01T11:19:26.709Z"
   },
   {
    "duration": 10,
    "start_time": "2023-04-01T11:19:26.724Z"
   },
   {
    "duration": 6,
    "start_time": "2023-04-01T11:19:26.735Z"
   },
   {
    "duration": 56,
    "start_time": "2023-04-01T11:19:26.743Z"
   },
   {
    "duration": 33,
    "start_time": "2023-04-01T11:19:26.801Z"
   },
   {
    "duration": 11,
    "start_time": "2023-04-01T11:19:26.836Z"
   },
   {
    "duration": 41,
    "start_time": "2023-04-01T11:19:26.849Z"
   },
   {
    "duration": 21,
    "start_time": "2023-04-01T11:19:26.892Z"
   },
   {
    "duration": 554,
    "start_time": "2023-04-01T11:19:26.915Z"
   },
   {
    "duration": 45,
    "start_time": "2023-04-01T11:19:27.472Z"
   },
   {
    "duration": 25218,
    "start_time": "2023-04-01T11:19:27.518Z"
   },
   {
    "duration": 359,
    "start_time": "2023-04-01T11:19:52.738Z"
   },
   {
    "duration": 7799,
    "start_time": "2023-04-01T11:19:53.099Z"
   },
   {
    "duration": 299,
    "start_time": "2023-04-01T11:20:00.900Z"
   },
   {
    "duration": 238,
    "start_time": "2023-04-01T11:20:01.201Z"
   },
   {
    "duration": 12,
    "start_time": "2023-04-01T11:20:01.441Z"
   },
   {
    "duration": 87,
    "start_time": "2023-04-01T11:20:01.455Z"
   },
   {
    "duration": 694,
    "start_time": "2023-04-01T11:20:01.544Z"
   },
   {
    "duration": 62,
    "start_time": "2023-04-01T11:20:02.240Z"
   },
   {
    "duration": 25710,
    "start_time": "2023-04-01T11:20:02.303Z"
   },
   {
    "duration": 299,
    "start_time": "2023-04-01T11:20:28.014Z"
   },
   {
    "duration": 10284,
    "start_time": "2023-04-01T11:20:28.315Z"
   },
   {
    "duration": 449,
    "start_time": "2023-04-01T11:21:36.139Z"
   },
   {
    "duration": 1238,
    "start_time": "2023-04-01T11:22:12.797Z"
   },
   {
    "duration": 51,
    "start_time": "2023-04-01T11:22:14.040Z"
   },
   {
    "duration": 19,
    "start_time": "2023-04-01T11:22:14.094Z"
   },
   {
    "duration": 30,
    "start_time": "2023-04-01T11:22:14.116Z"
   },
   {
    "duration": 11,
    "start_time": "2023-04-01T11:22:14.147Z"
   },
   {
    "duration": 34,
    "start_time": "2023-04-01T11:22:14.159Z"
   },
   {
    "duration": 51,
    "start_time": "2023-04-01T11:22:14.195Z"
   },
   {
    "duration": 12,
    "start_time": "2023-04-01T11:22:14.248Z"
   },
   {
    "duration": 8,
    "start_time": "2023-04-01T11:22:14.262Z"
   },
   {
    "duration": 22,
    "start_time": "2023-04-01T11:22:14.274Z"
   },
   {
    "duration": 433,
    "start_time": "2023-04-01T11:22:14.300Z"
   },
   {
    "duration": 5,
    "start_time": "2023-04-01T11:22:14.735Z"
   },
   {
    "duration": 10,
    "start_time": "2023-04-01T11:22:14.742Z"
   },
   {
    "duration": 171,
    "start_time": "2023-04-01T11:22:14.754Z"
   },
   {
    "duration": 4,
    "start_time": "2023-04-01T11:22:14.928Z"
   },
   {
    "duration": 16,
    "start_time": "2023-04-01T11:22:14.934Z"
   },
   {
    "duration": 35,
    "start_time": "2023-04-01T11:22:14.952Z"
   },
   {
    "duration": 5,
    "start_time": "2023-04-01T11:22:14.989Z"
   },
   {
    "duration": 14,
    "start_time": "2023-04-01T11:22:14.996Z"
   },
   {
    "duration": 22,
    "start_time": "2023-04-01T11:22:15.012Z"
   },
   {
    "duration": 32,
    "start_time": "2023-04-01T11:22:15.036Z"
   },
   {
    "duration": 30,
    "start_time": "2023-04-01T11:22:15.070Z"
   },
   {
    "duration": 46,
    "start_time": "2023-04-01T11:22:15.103Z"
   },
   {
    "duration": 12,
    "start_time": "2023-04-01T11:22:15.151Z"
   },
   {
    "duration": 31,
    "start_time": "2023-04-01T11:22:15.164Z"
   },
   {
    "duration": 12,
    "start_time": "2023-04-01T11:22:15.196Z"
   },
   {
    "duration": 532,
    "start_time": "2023-04-01T11:22:15.210Z"
   },
   {
    "duration": 46,
    "start_time": "2023-04-01T11:22:15.747Z"
   },
   {
    "duration": 25313,
    "start_time": "2023-04-01T11:22:15.796Z"
   },
   {
    "duration": 377,
    "start_time": "2023-04-01T11:22:41.112Z"
   },
   {
    "duration": 9108,
    "start_time": "2023-04-01T11:22:41.492Z"
   },
   {
    "duration": 307,
    "start_time": "2023-04-01T11:22:50.686Z"
   },
   {
    "duration": 276,
    "start_time": "2023-04-01T11:22:50.996Z"
   },
   {
    "duration": 14,
    "start_time": "2023-04-01T11:22:51.274Z"
   },
   {
    "duration": 7,
    "start_time": "2023-04-01T11:22:51.289Z"
   },
   {
    "duration": 563,
    "start_time": "2023-04-01T11:22:51.297Z"
   },
   {
    "duration": 38,
    "start_time": "2023-04-01T11:22:51.862Z"
   },
   {
    "duration": 25803,
    "start_time": "2023-04-01T11:22:51.902Z"
   },
   {
    "duration": 186,
    "start_time": "2023-04-01T11:23:17.706Z"
   },
   {
    "duration": 6495,
    "start_time": "2023-04-01T11:23:17.894Z"
   },
   {
    "duration": 795,
    "start_time": "2023-04-01T11:23:24.392Z"
   },
   {
    "duration": 1221,
    "start_time": "2023-04-01T11:23:50.323Z"
   },
   {
    "duration": 40,
    "start_time": "2023-04-01T11:23:51.546Z"
   },
   {
    "duration": 13,
    "start_time": "2023-04-01T11:23:51.587Z"
   },
   {
    "duration": 25,
    "start_time": "2023-04-01T11:23:51.602Z"
   },
   {
    "duration": 9,
    "start_time": "2023-04-01T11:23:51.628Z"
   },
   {
    "duration": 22,
    "start_time": "2023-04-01T11:23:51.639Z"
   },
   {
    "duration": 25,
    "start_time": "2023-04-01T11:23:51.663Z"
   },
   {
    "duration": 17,
    "start_time": "2023-04-01T11:23:51.690Z"
   },
   {
    "duration": 11,
    "start_time": "2023-04-01T11:23:51.709Z"
   },
   {
    "duration": 24,
    "start_time": "2023-04-01T11:23:51.722Z"
   },
   {
    "duration": 409,
    "start_time": "2023-04-01T11:23:51.748Z"
   },
   {
    "duration": 5,
    "start_time": "2023-04-01T11:23:52.158Z"
   },
   {
    "duration": 23,
    "start_time": "2023-04-01T11:23:52.164Z"
   },
   {
    "duration": 136,
    "start_time": "2023-04-01T11:23:52.190Z"
   },
   {
    "duration": 4,
    "start_time": "2023-04-01T11:23:52.328Z"
   },
   {
    "duration": 45,
    "start_time": "2023-04-01T11:23:52.333Z"
   },
   {
    "duration": 23,
    "start_time": "2023-04-01T11:23:52.380Z"
   },
   {
    "duration": 6,
    "start_time": "2023-04-01T11:23:52.404Z"
   },
   {
    "duration": 15,
    "start_time": "2023-04-01T11:23:52.412Z"
   },
   {
    "duration": 19,
    "start_time": "2023-04-01T11:23:52.429Z"
   },
   {
    "duration": 11,
    "start_time": "2023-04-01T11:23:52.450Z"
   },
   {
    "duration": 27,
    "start_time": "2023-04-01T11:23:52.463Z"
   },
   {
    "duration": 34,
    "start_time": "2023-04-01T11:23:52.491Z"
   },
   {
    "duration": 12,
    "start_time": "2023-04-01T11:23:52.526Z"
   },
   {
    "duration": 25,
    "start_time": "2023-04-01T11:23:52.539Z"
   },
   {
    "duration": 21,
    "start_time": "2023-04-01T11:23:52.566Z"
   },
   {
    "duration": 502,
    "start_time": "2023-04-01T11:23:52.589Z"
   },
   {
    "duration": 31,
    "start_time": "2023-04-01T11:23:53.093Z"
   },
   {
    "duration": 25378,
    "start_time": "2023-04-01T11:23:53.126Z"
   },
   {
    "duration": 347,
    "start_time": "2023-04-01T11:24:18.506Z"
   },
   {
    "duration": 6834,
    "start_time": "2023-04-01T11:24:18.854Z"
   },
   {
    "duration": 311,
    "start_time": "2023-04-01T11:24:25.694Z"
   },
   {
    "duration": 132,
    "start_time": "2023-04-01T11:24:26.089Z"
   },
   {
    "duration": 131,
    "start_time": "2023-04-01T11:24:26.223Z"
   },
   {
    "duration": 0,
    "start_time": "2023-04-01T11:24:26.355Z"
   },
   {
    "duration": 0,
    "start_time": "2023-04-01T11:24:26.357Z"
   },
   {
    "duration": 0,
    "start_time": "2023-04-01T11:24:26.358Z"
   },
   {
    "duration": 0,
    "start_time": "2023-04-01T11:24:26.359Z"
   },
   {
    "duration": 0,
    "start_time": "2023-04-01T11:24:26.360Z"
   },
   {
    "duration": 0,
    "start_time": "2023-04-01T11:24:26.362Z"
   },
   {
    "duration": 0,
    "start_time": "2023-04-01T11:24:26.363Z"
   },
   {
    "duration": 11,
    "start_time": "2023-04-01T11:26:24.684Z"
   },
   {
    "duration": 13,
    "start_time": "2023-04-01T11:26:26.614Z"
   },
   {
    "duration": 6,
    "start_time": "2023-04-01T11:26:28.489Z"
   },
   {
    "duration": 286,
    "start_time": "2023-04-01T11:26:32.308Z"
   },
   {
    "duration": 20,
    "start_time": "2023-04-01T11:26:36.315Z"
   },
   {
    "duration": 6757,
    "start_time": "2023-04-01T11:26:41.035Z"
   },
   {
    "duration": 26,
    "start_time": "2023-04-01T11:26:47.795Z"
   },
   {
    "duration": 7574,
    "start_time": "2023-04-01T11:26:47.823Z"
   },
   {
    "duration": 201,
    "start_time": "2023-04-01T11:26:55.488Z"
   },
   {
    "duration": 1214,
    "start_time": "2023-04-01T11:27:20.845Z"
   },
   {
    "duration": 40,
    "start_time": "2023-04-01T11:27:22.062Z"
   },
   {
    "duration": 14,
    "start_time": "2023-04-01T11:27:22.103Z"
   },
   {
    "duration": 24,
    "start_time": "2023-04-01T11:27:22.119Z"
   },
   {
    "duration": 9,
    "start_time": "2023-04-01T11:27:22.146Z"
   },
   {
    "duration": 30,
    "start_time": "2023-04-01T11:27:22.157Z"
   },
   {
    "duration": 47,
    "start_time": "2023-04-01T11:27:22.189Z"
   },
   {
    "duration": 12,
    "start_time": "2023-04-01T11:27:22.238Z"
   },
   {
    "duration": 37,
    "start_time": "2023-04-01T11:27:22.252Z"
   },
   {
    "duration": 33,
    "start_time": "2023-04-01T11:27:22.290Z"
   },
   {
    "duration": 402,
    "start_time": "2023-04-01T11:27:22.325Z"
   },
   {
    "duration": 5,
    "start_time": "2023-04-01T11:27:22.729Z"
   },
   {
    "duration": 14,
    "start_time": "2023-04-01T11:27:22.736Z"
   },
   {
    "duration": 160,
    "start_time": "2023-04-01T11:27:22.755Z"
   },
   {
    "duration": 5,
    "start_time": "2023-04-01T11:27:22.917Z"
   },
   {
    "duration": 25,
    "start_time": "2023-04-01T11:27:22.923Z"
   },
   {
    "duration": 29,
    "start_time": "2023-04-01T11:27:22.950Z"
   },
   {
    "duration": 8,
    "start_time": "2023-04-01T11:27:22.981Z"
   },
   {
    "duration": 30,
    "start_time": "2023-04-01T11:27:22.991Z"
   },
   {
    "duration": 11,
    "start_time": "2023-04-01T11:27:23.023Z"
   },
   {
    "duration": 9,
    "start_time": "2023-04-01T11:27:23.036Z"
   },
   {
    "duration": 28,
    "start_time": "2023-04-01T11:27:23.047Z"
   },
   {
    "duration": 32,
    "start_time": "2023-04-01T11:27:23.078Z"
   },
   {
    "duration": 11,
    "start_time": "2023-04-01T11:27:23.112Z"
   },
   {
    "duration": 14,
    "start_time": "2023-04-01T11:27:23.125Z"
   },
   {
    "duration": 11,
    "start_time": "2023-04-01T11:27:23.140Z"
   },
   {
    "duration": 518,
    "start_time": "2023-04-01T11:27:23.152Z"
   },
   {
    "duration": 36,
    "start_time": "2023-04-01T11:27:23.672Z"
   },
   {
    "duration": 25309,
    "start_time": "2023-04-01T11:27:23.710Z"
   },
   {
    "duration": 318,
    "start_time": "2023-04-01T11:27:49.020Z"
   },
   {
    "duration": 4458,
    "start_time": "2023-04-01T11:27:49.340Z"
   },
   {
    "duration": 290,
    "start_time": "2023-04-01T11:27:53.803Z"
   },
   {
    "duration": 211,
    "start_time": "2023-04-01T11:27:54.095Z"
   },
   {
    "duration": 11,
    "start_time": "2023-04-01T11:27:54.308Z"
   },
   {
    "duration": 17,
    "start_time": "2023-04-01T11:27:54.320Z"
   },
   {
    "duration": 23,
    "start_time": "2023-04-01T11:27:54.339Z"
   },
   {
    "duration": 496,
    "start_time": "2023-04-01T11:27:54.364Z"
   },
   {
    "duration": 51,
    "start_time": "2023-04-01T11:27:54.862Z"
   },
   {
    "duration": 21726,
    "start_time": "2023-04-01T11:27:54.915Z"
   },
   {
    "duration": 122,
    "start_time": "2023-04-01T11:28:16.643Z"
   },
   {
    "duration": 5526,
    "start_time": "2023-04-01T11:28:16.769Z"
   },
   {
    "duration": 397,
    "start_time": "2023-04-01T11:28:22.297Z"
   },
   {
    "duration": 1246,
    "start_time": "2023-04-01T11:30:36.271Z"
   },
   {
    "duration": 41,
    "start_time": "2023-04-01T11:30:37.519Z"
   },
   {
    "duration": 18,
    "start_time": "2023-04-01T11:30:37.562Z"
   },
   {
    "duration": 28,
    "start_time": "2023-04-01T11:30:37.582Z"
   },
   {
    "duration": 10,
    "start_time": "2023-04-01T11:30:37.613Z"
   },
   {
    "duration": 4,
    "start_time": "2023-04-01T11:30:37.625Z"
   },
   {
    "duration": 16,
    "start_time": "2023-04-01T11:30:37.631Z"
   },
   {
    "duration": 10,
    "start_time": "2023-04-01T11:30:37.649Z"
   },
   {
    "duration": 31,
    "start_time": "2023-04-01T11:30:37.662Z"
   },
   {
    "duration": 29,
    "start_time": "2023-04-01T11:30:37.695Z"
   },
   {
    "duration": 423,
    "start_time": "2023-04-01T11:30:37.726Z"
   },
   {
    "duration": 5,
    "start_time": "2023-04-01T11:30:38.150Z"
   },
   {
    "duration": 13,
    "start_time": "2023-04-01T11:30:38.156Z"
   },
   {
    "duration": 151,
    "start_time": "2023-04-01T11:30:38.172Z"
   },
   {
    "duration": 4,
    "start_time": "2023-04-01T11:30:38.324Z"
   },
   {
    "duration": 20,
    "start_time": "2023-04-01T11:30:38.330Z"
   },
   {
    "duration": 28,
    "start_time": "2023-04-01T11:30:38.352Z"
   },
   {
    "duration": 50,
    "start_time": "2023-04-01T11:30:38.382Z"
   },
   {
    "duration": 21,
    "start_time": "2023-04-01T11:30:38.434Z"
   },
   {
    "duration": 10,
    "start_time": "2023-04-01T11:30:38.457Z"
   },
   {
    "duration": 12,
    "start_time": "2023-04-01T11:30:38.469Z"
   },
   {
    "duration": 24,
    "start_time": "2023-04-01T11:30:38.483Z"
   },
   {
    "duration": 36,
    "start_time": "2023-04-01T11:30:38.509Z"
   },
   {
    "duration": 11,
    "start_time": "2023-04-01T11:30:38.547Z"
   },
   {
    "duration": 31,
    "start_time": "2023-04-01T11:30:38.559Z"
   },
   {
    "duration": 17,
    "start_time": "2023-04-01T11:30:38.592Z"
   },
   {
    "duration": 514,
    "start_time": "2023-04-01T11:30:38.610Z"
   },
   {
    "duration": 33,
    "start_time": "2023-04-01T11:30:39.126Z"
   },
   {
    "duration": 24701,
    "start_time": "2023-04-01T11:30:39.162Z"
   },
   {
    "duration": 329,
    "start_time": "2023-04-01T11:31:03.864Z"
   },
   {
    "duration": 6399,
    "start_time": "2023-04-01T11:31:04.195Z"
   },
   {
    "duration": 499,
    "start_time": "2023-04-01T11:31:10.599Z"
   },
   {
    "duration": 135,
    "start_time": "2023-04-01T11:31:11.187Z"
   },
   {
    "duration": 12,
    "start_time": "2023-04-01T11:31:11.323Z"
   },
   {
    "duration": 6,
    "start_time": "2023-04-01T11:31:11.337Z"
   },
   {
    "duration": 816,
    "start_time": "2023-04-01T11:31:11.345Z"
   },
   {
    "duration": 66,
    "start_time": "2023-04-01T11:31:12.163Z"
   },
   {
    "duration": 33906,
    "start_time": "2023-04-01T11:31:12.231Z"
   },
   {
    "duration": 391,
    "start_time": "2023-04-01T11:31:46.139Z"
   },
   {
    "duration": 8363,
    "start_time": "2023-04-01T11:31:46.531Z"
   },
   {
    "duration": 600,
    "start_time": "2023-04-01T11:31:54.988Z"
   },
   {
    "duration": 1121,
    "start_time": "2023-04-01T11:38:58.038Z"
   },
   {
    "duration": 54,
    "start_time": "2023-04-01T11:38:59.162Z"
   },
   {
    "duration": 14,
    "start_time": "2023-04-01T11:38:59.220Z"
   },
   {
    "duration": 24,
    "start_time": "2023-04-01T11:38:59.236Z"
   },
   {
    "duration": 33,
    "start_time": "2023-04-01T11:38:59.261Z"
   },
   {
    "duration": 6,
    "start_time": "2023-04-01T11:38:59.296Z"
   },
   {
    "duration": 23,
    "start_time": "2023-04-01T11:38:59.304Z"
   },
   {
    "duration": 10,
    "start_time": "2023-04-01T11:38:59.329Z"
   },
   {
    "duration": 6,
    "start_time": "2023-04-01T11:38:59.340Z"
   },
   {
    "duration": 22,
    "start_time": "2023-04-01T11:38:59.348Z"
   },
   {
    "duration": 467,
    "start_time": "2023-04-01T11:38:59.372Z"
   },
   {
    "duration": 5,
    "start_time": "2023-04-01T11:38:59.840Z"
   },
   {
    "duration": 11,
    "start_time": "2023-04-01T11:38:59.848Z"
   },
   {
    "duration": 161,
    "start_time": "2023-04-01T11:38:59.861Z"
   },
   {
    "duration": 5,
    "start_time": "2023-04-01T11:39:00.024Z"
   },
   {
    "duration": 32,
    "start_time": "2023-04-01T11:39:00.031Z"
   },
   {
    "duration": 18,
    "start_time": "2023-04-01T11:39:00.066Z"
   },
   {
    "duration": 4,
    "start_time": "2023-04-01T11:39:00.086Z"
   },
   {
    "duration": 37,
    "start_time": "2023-04-01T11:39:00.092Z"
   },
   {
    "duration": 36,
    "start_time": "2023-04-01T11:39:00.131Z"
   },
   {
    "duration": 8,
    "start_time": "2023-04-01T11:39:00.169Z"
   },
   {
    "duration": 37,
    "start_time": "2023-04-01T11:39:00.178Z"
   },
   {
    "duration": 31,
    "start_time": "2023-04-01T11:39:00.216Z"
   },
   {
    "duration": 20,
    "start_time": "2023-04-01T11:39:00.248Z"
   },
   {
    "duration": 47,
    "start_time": "2023-04-01T11:39:00.270Z"
   },
   {
    "duration": 17,
    "start_time": "2023-04-01T11:39:00.319Z"
   },
   {
    "duration": 646,
    "start_time": "2023-04-01T11:39:00.338Z"
   },
   {
    "duration": 36,
    "start_time": "2023-04-01T11:39:00.995Z"
   },
   {
    "duration": 16143,
    "start_time": "2023-04-01T11:39:01.033Z"
   },
   {
    "duration": 137,
    "start_time": "2023-04-01T11:39:17.177Z"
   },
   {
    "duration": 13790,
    "start_time": "2023-04-01T11:39:17.316Z"
   },
   {
    "duration": 896,
    "start_time": "2023-04-01T11:39:31.210Z"
   },
   {
    "duration": 214,
    "start_time": "2023-04-01T11:39:32.108Z"
   },
   {
    "duration": 13,
    "start_time": "2023-04-01T11:39:32.323Z"
   },
   {
    "duration": 5,
    "start_time": "2023-04-01T11:39:32.338Z"
   },
   {
    "duration": 808,
    "start_time": "2023-04-01T11:39:32.345Z"
   },
   {
    "duration": 71,
    "start_time": "2023-04-01T11:39:33.155Z"
   },
   {
    "duration": 1245,
    "start_time": "2023-04-01T11:40:29.309Z"
   },
   {
    "duration": 57,
    "start_time": "2023-04-01T11:40:30.557Z"
   },
   {
    "duration": 18,
    "start_time": "2023-04-01T11:40:30.617Z"
   },
   {
    "duration": 59,
    "start_time": "2023-04-01T11:40:30.638Z"
   },
   {
    "duration": 39,
    "start_time": "2023-04-01T11:40:30.700Z"
   },
   {
    "duration": 73,
    "start_time": "2023-04-01T11:40:30.742Z"
   },
   {
    "duration": 56,
    "start_time": "2023-04-01T11:40:30.817Z"
   },
   {
    "duration": 56,
    "start_time": "2023-04-01T11:40:30.875Z"
   },
   {
    "duration": 32,
    "start_time": "2023-04-01T11:40:30.933Z"
   },
   {
    "duration": 59,
    "start_time": "2023-04-01T11:40:30.966Z"
   },
   {
    "duration": 501,
    "start_time": "2023-04-01T11:40:31.027Z"
   },
   {
    "duration": 5,
    "start_time": "2023-04-01T11:40:31.530Z"
   },
   {
    "duration": 35,
    "start_time": "2023-04-01T11:40:31.536Z"
   },
   {
    "duration": 162,
    "start_time": "2023-04-01T11:40:31.575Z"
   },
   {
    "duration": 6,
    "start_time": "2023-04-01T11:40:31.738Z"
   },
   {
    "duration": 35,
    "start_time": "2023-04-01T11:40:31.746Z"
   },
   {
    "duration": 33,
    "start_time": "2023-04-01T11:40:31.783Z"
   },
   {
    "duration": 55,
    "start_time": "2023-04-01T11:40:31.819Z"
   },
   {
    "duration": 48,
    "start_time": "2023-04-01T11:40:31.875Z"
   },
   {
    "duration": 9,
    "start_time": "2023-04-01T11:40:31.925Z"
   },
   {
    "duration": 18,
    "start_time": "2023-04-01T11:40:31.936Z"
   },
   {
    "duration": 30,
    "start_time": "2023-04-01T11:40:31.956Z"
   },
   {
    "duration": 35,
    "start_time": "2023-04-01T11:40:31.988Z"
   },
   {
    "duration": 10,
    "start_time": "2023-04-01T11:40:32.025Z"
   },
   {
    "duration": 20,
    "start_time": "2023-04-01T11:40:32.036Z"
   },
   {
    "duration": 40,
    "start_time": "2023-04-01T11:40:32.057Z"
   },
   {
    "duration": 529,
    "start_time": "2023-04-01T11:40:32.099Z"
   },
   {
    "duration": 32,
    "start_time": "2023-04-01T11:40:32.630Z"
   },
   {
    "duration": 17257,
    "start_time": "2023-04-01T11:40:32.664Z"
   },
   {
    "duration": 128,
    "start_time": "2023-04-01T11:40:49.923Z"
   },
   {
    "duration": 12441,
    "start_time": "2023-04-01T11:40:50.053Z"
   },
   {
    "duration": 293,
    "start_time": "2023-04-01T11:41:02.500Z"
   },
   {
    "duration": 222,
    "start_time": "2023-04-01T11:41:02.800Z"
   },
   {
    "duration": 11,
    "start_time": "2023-04-01T11:41:03.024Z"
   },
   {
    "duration": 6,
    "start_time": "2023-04-01T11:41:03.037Z"
   },
   {
    "duration": 576,
    "start_time": "2023-04-01T11:41:03.045Z"
   },
   {
    "duration": 25,
    "start_time": "2023-04-01T11:41:03.623Z"
   },
   {
    "duration": 16137,
    "start_time": "2023-04-01T11:41:03.650Z"
   },
   {
    "duration": 65,
    "start_time": "2023-04-01T11:41:19.789Z"
   },
   {
    "duration": 4435,
    "start_time": "2023-04-01T11:41:19.856Z"
   },
   {
    "duration": 300,
    "start_time": "2023-04-01T11:41:24.300Z"
   },
   {
    "duration": 29,
    "start_time": "2023-04-01T11:45:54.174Z"
   },
   {
    "duration": 1154,
    "start_time": "2023-04-01T11:47:27.723Z"
   },
   {
    "duration": 53,
    "start_time": "2023-04-01T11:47:28.879Z"
   },
   {
    "duration": 15,
    "start_time": "2023-04-01T11:47:28.934Z"
   },
   {
    "duration": 26,
    "start_time": "2023-04-01T11:47:28.952Z"
   },
   {
    "duration": 21,
    "start_time": "2023-04-01T11:47:28.980Z"
   },
   {
    "duration": 16,
    "start_time": "2023-04-01T11:47:29.003Z"
   },
   {
    "duration": 28,
    "start_time": "2023-04-01T11:47:29.021Z"
   },
   {
    "duration": 15,
    "start_time": "2023-04-01T11:47:29.051Z"
   },
   {
    "duration": 6,
    "start_time": "2023-04-01T11:47:29.068Z"
   },
   {
    "duration": 43,
    "start_time": "2023-04-01T11:47:29.077Z"
   },
   {
    "duration": 430,
    "start_time": "2023-04-01T11:47:29.122Z"
   },
   {
    "duration": 5,
    "start_time": "2023-04-01T11:47:29.553Z"
   },
   {
    "duration": 16,
    "start_time": "2023-04-01T11:47:29.560Z"
   },
   {
    "duration": 164,
    "start_time": "2023-04-01T11:47:29.578Z"
   },
   {
    "duration": 3,
    "start_time": "2023-04-01T11:47:29.744Z"
   },
   {
    "duration": 20,
    "start_time": "2023-04-01T11:47:29.749Z"
   },
   {
    "duration": 38,
    "start_time": "2023-04-01T11:47:29.771Z"
   },
   {
    "duration": 3,
    "start_time": "2023-04-01T11:47:29.812Z"
   },
   {
    "duration": 14,
    "start_time": "2023-04-01T11:47:29.817Z"
   },
   {
    "duration": 15,
    "start_time": "2023-04-01T11:47:29.833Z"
   },
   {
    "duration": 6,
    "start_time": "2023-04-01T11:47:29.850Z"
   },
   {
    "duration": 21,
    "start_time": "2023-04-01T11:47:29.858Z"
   },
   {
    "duration": 35,
    "start_time": "2023-04-01T11:47:29.893Z"
   },
   {
    "duration": 12,
    "start_time": "2023-04-01T11:47:29.930Z"
   },
   {
    "duration": 10,
    "start_time": "2023-04-01T11:47:29.943Z"
   },
   {
    "duration": 34,
    "start_time": "2023-04-01T11:47:29.954Z"
   },
   {
    "duration": 520,
    "start_time": "2023-04-01T11:47:29.990Z"
   },
   {
    "duration": 45,
    "start_time": "2023-04-01T11:47:30.514Z"
   },
   {
    "duration": 16417,
    "start_time": "2023-04-01T11:47:30.561Z"
   },
   {
    "duration": 121,
    "start_time": "2023-04-01T11:47:46.980Z"
   },
   {
    "duration": 20298,
    "start_time": "2023-04-01T11:47:47.103Z"
   },
   {
    "duration": 1084,
    "start_time": "2023-04-01T11:48:07.403Z"
   },
   {
    "duration": 224,
    "start_time": "2023-04-01T11:48:08.489Z"
   },
   {
    "duration": 10,
    "start_time": "2023-04-01T11:48:08.715Z"
   },
   {
    "duration": 6,
    "start_time": "2023-04-01T11:48:08.727Z"
   },
   {
    "duration": 639,
    "start_time": "2023-04-01T11:48:08.735Z"
   },
   {
    "duration": 64,
    "start_time": "2023-04-01T11:48:09.376Z"
   },
   {
    "duration": 31027,
    "start_time": "2023-04-01T11:48:09.441Z"
   },
   {
    "duration": 579,
    "start_time": "2023-04-01T11:48:40.470Z"
   },
   {
    "duration": 17451,
    "start_time": "2023-04-01T11:48:41.051Z"
   },
   {
    "duration": 697,
    "start_time": "2023-04-01T11:48:58.505Z"
   },
   {
    "duration": 19,
    "start_time": "2023-04-01T11:49:09.999Z"
   },
   {
    "duration": 6,
    "start_time": "2023-04-01T11:49:12.327Z"
   },
   {
    "duration": 580,
    "start_time": "2023-04-01T11:49:16.459Z"
   },
   {
    "duration": 28,
    "start_time": "2023-04-01T11:49:20.806Z"
   },
   {
    "duration": 16654,
    "start_time": "2023-04-01T11:49:22.594Z"
   },
   {
    "duration": 128,
    "start_time": "2023-04-01T11:49:39.250Z"
   },
   {
    "duration": 18526,
    "start_time": "2023-04-01T11:49:39.379Z"
   },
   {
    "duration": 1089,
    "start_time": "2023-04-01T11:49:57.908Z"
   },
   {
    "duration": 16,
    "start_time": "2023-04-01T11:50:06.698Z"
   },
   {
    "duration": 6,
    "start_time": "2023-04-01T11:50:07.154Z"
   },
   {
    "duration": 631,
    "start_time": "2023-04-01T11:50:07.317Z"
   },
   {
    "duration": 62,
    "start_time": "2023-04-01T11:50:07.950Z"
   },
   {
    "duration": 24179,
    "start_time": "2023-04-01T11:50:08.014Z"
   },
   {
    "duration": 251,
    "start_time": "2023-04-01T11:50:32.198Z"
   },
   {
    "duration": 17042,
    "start_time": "2023-04-01T11:50:32.451Z"
   },
   {
    "duration": 796,
    "start_time": "2023-04-01T11:50:49.501Z"
   },
   {
    "duration": 1176,
    "start_time": "2023-04-01T11:51:25.599Z"
   },
   {
    "duration": 48,
    "start_time": "2023-04-01T11:51:26.777Z"
   },
   {
    "duration": 13,
    "start_time": "2023-04-01T11:51:26.827Z"
   },
   {
    "duration": 26,
    "start_time": "2023-04-01T11:51:26.842Z"
   },
   {
    "duration": 9,
    "start_time": "2023-04-01T11:51:26.871Z"
   },
   {
    "duration": 6,
    "start_time": "2023-04-01T11:51:26.887Z"
   },
   {
    "duration": 20,
    "start_time": "2023-04-01T11:51:26.895Z"
   },
   {
    "duration": 8,
    "start_time": "2023-04-01T11:51:26.917Z"
   },
   {
    "duration": 6,
    "start_time": "2023-04-01T11:51:26.927Z"
   },
   {
    "duration": 17,
    "start_time": "2023-04-01T11:51:26.934Z"
   },
   {
    "duration": 468,
    "start_time": "2023-04-01T11:51:26.952Z"
   },
   {
    "duration": 5,
    "start_time": "2023-04-01T11:51:27.421Z"
   },
   {
    "duration": 9,
    "start_time": "2023-04-01T11:51:27.427Z"
   },
   {
    "duration": 165,
    "start_time": "2023-04-01T11:51:27.439Z"
   },
   {
    "duration": 4,
    "start_time": "2023-04-01T11:51:27.606Z"
   },
   {
    "duration": 22,
    "start_time": "2023-04-01T11:51:27.612Z"
   },
   {
    "duration": 21,
    "start_time": "2023-04-01T11:51:27.635Z"
   },
   {
    "duration": 4,
    "start_time": "2023-04-01T11:51:27.658Z"
   },
   {
    "duration": 27,
    "start_time": "2023-04-01T11:51:27.663Z"
   },
   {
    "duration": 22,
    "start_time": "2023-04-01T11:51:27.693Z"
   },
   {
    "duration": 7,
    "start_time": "2023-04-01T11:51:27.716Z"
   },
   {
    "duration": 37,
    "start_time": "2023-04-01T11:51:27.725Z"
   },
   {
    "duration": 33,
    "start_time": "2023-04-01T11:51:27.763Z"
   },
   {
    "duration": 15,
    "start_time": "2023-04-01T11:51:27.798Z"
   },
   {
    "duration": 13,
    "start_time": "2023-04-01T11:51:27.815Z"
   },
   {
    "duration": 24,
    "start_time": "2023-04-01T11:51:27.829Z"
   },
   {
    "duration": 521,
    "start_time": "2023-04-01T11:51:27.855Z"
   },
   {
    "duration": 57,
    "start_time": "2023-04-01T11:51:28.378Z"
   },
   {
    "duration": 16585,
    "start_time": "2023-04-01T11:51:28.437Z"
   },
   {
    "duration": 131,
    "start_time": "2023-04-01T11:51:45.024Z"
   },
   {
    "duration": 16241,
    "start_time": "2023-04-01T11:51:45.157Z"
   },
   {
    "duration": 981,
    "start_time": "2023-04-01T11:52:01.408Z"
   },
   {
    "duration": 165,
    "start_time": "2023-04-01T11:52:02.391Z"
   },
   {
    "duration": 11,
    "start_time": "2023-04-01T11:52:02.558Z"
   },
   {
    "duration": 20,
    "start_time": "2023-04-01T11:52:02.571Z"
   },
   {
    "duration": 666,
    "start_time": "2023-04-01T11:52:02.593Z"
   },
   {
    "duration": 67,
    "start_time": "2023-04-01T11:52:03.260Z"
   },
   {
    "duration": 31531,
    "start_time": "2023-04-01T11:52:03.328Z"
   },
   {
    "duration": 446,
    "start_time": "2023-04-01T11:52:34.861Z"
   },
   {
    "duration": 18996,
    "start_time": "2023-04-01T11:52:35.309Z"
   },
   {
    "duration": 993,
    "start_time": "2023-04-01T11:52:54.310Z"
   },
   {
    "duration": 13684,
    "start_time": "2023-04-01T11:58:13.196Z"
   },
   {
    "duration": 32822,
    "start_time": "2023-04-01T11:58:35.658Z"
   },
   {
    "duration": 509,
    "start_time": "2023-04-01T11:59:20.415Z"
   },
   {
    "duration": 447,
    "start_time": "2023-04-01T11:59:29.346Z"
   },
   {
    "duration": 565,
    "start_time": "2023-04-01T12:00:18.951Z"
   },
   {
    "duration": 432,
    "start_time": "2023-04-01T12:00:47.238Z"
   },
   {
    "duration": 1228,
    "start_time": "2023-04-01T12:01:02.033Z"
   },
   {
    "duration": 43,
    "start_time": "2023-04-01T12:01:03.263Z"
   },
   {
    "duration": 18,
    "start_time": "2023-04-01T12:01:03.308Z"
   },
   {
    "duration": 37,
    "start_time": "2023-04-01T12:01:03.327Z"
   },
   {
    "duration": 22,
    "start_time": "2023-04-01T12:01:03.366Z"
   },
   {
    "duration": 30,
    "start_time": "2023-04-01T12:01:03.390Z"
   },
   {
    "duration": 38,
    "start_time": "2023-04-01T12:01:03.422Z"
   },
   {
    "duration": 32,
    "start_time": "2023-04-01T12:01:03.462Z"
   },
   {
    "duration": 18,
    "start_time": "2023-04-01T12:01:03.496Z"
   },
   {
    "duration": 39,
    "start_time": "2023-04-01T12:01:03.516Z"
   },
   {
    "duration": 435,
    "start_time": "2023-04-01T12:01:03.557Z"
   },
   {
    "duration": 7,
    "start_time": "2023-04-01T12:01:03.994Z"
   },
   {
    "duration": 44,
    "start_time": "2023-04-01T12:01:04.003Z"
   },
   {
    "duration": 161,
    "start_time": "2023-04-01T12:01:04.051Z"
   },
   {
    "duration": 4,
    "start_time": "2023-04-01T12:01:04.214Z"
   },
   {
    "duration": 21,
    "start_time": "2023-04-01T12:01:04.219Z"
   },
   {
    "duration": 38,
    "start_time": "2023-04-01T12:01:04.242Z"
   },
   {
    "duration": 30,
    "start_time": "2023-04-01T12:01:04.282Z"
   },
   {
    "duration": 26,
    "start_time": "2023-04-01T12:01:04.313Z"
   },
   {
    "duration": 25,
    "start_time": "2023-04-01T12:01:04.341Z"
   },
   {
    "duration": 29,
    "start_time": "2023-04-01T12:01:04.368Z"
   },
   {
    "duration": 35,
    "start_time": "2023-04-01T12:01:04.399Z"
   },
   {
    "duration": 63,
    "start_time": "2023-04-01T12:01:04.435Z"
   },
   {
    "duration": 16,
    "start_time": "2023-04-01T12:01:04.500Z"
   },
   {
    "duration": 38,
    "start_time": "2023-04-01T12:01:04.518Z"
   },
   {
    "duration": 43,
    "start_time": "2023-04-01T12:01:04.558Z"
   },
   {
    "duration": 545,
    "start_time": "2023-04-01T12:01:04.603Z"
   },
   {
    "duration": 43,
    "start_time": "2023-04-01T12:01:05.150Z"
   },
   {
    "duration": 16758,
    "start_time": "2023-04-01T12:01:05.195Z"
   },
   {
    "duration": 130,
    "start_time": "2023-04-01T12:01:21.954Z"
   },
   {
    "duration": 10812,
    "start_time": "2023-04-01T12:01:22.087Z"
   },
   {
    "duration": 1186,
    "start_time": "2023-04-01T12:01:32.903Z"
   },
   {
    "duration": 146,
    "start_time": "2023-04-01T12:01:34.091Z"
   },
   {
    "duration": 11,
    "start_time": "2023-04-01T12:01:34.239Z"
   },
   {
    "duration": 39,
    "start_time": "2023-04-01T12:01:34.251Z"
   },
   {
    "duration": 639,
    "start_time": "2023-04-01T12:01:34.293Z"
   },
   {
    "duration": 64,
    "start_time": "2023-04-01T12:01:34.934Z"
   },
   {
    "duration": 32693,
    "start_time": "2023-04-01T12:01:35.000Z"
   },
   {
    "duration": 462,
    "start_time": "2023-04-01T12:02:07.695Z"
   },
   {
    "duration": 11938,
    "start_time": "2023-04-01T12:02:08.159Z"
   },
   {
    "duration": 784,
    "start_time": "2023-04-01T12:02:20.110Z"
   },
   {
    "duration": 1238,
    "start_time": "2023-04-01T12:11:57.747Z"
   },
   {
    "duration": 46,
    "start_time": "2023-04-01T12:11:58.987Z"
   },
   {
    "duration": 15,
    "start_time": "2023-04-01T12:11:59.034Z"
   },
   {
    "duration": 26,
    "start_time": "2023-04-01T12:11:59.051Z"
   },
   {
    "duration": 30,
    "start_time": "2023-04-01T12:11:59.080Z"
   },
   {
    "duration": 14,
    "start_time": "2023-04-01T12:11:59.112Z"
   },
   {
    "duration": 36,
    "start_time": "2023-04-01T12:11:59.128Z"
   },
   {
    "duration": 25,
    "start_time": "2023-04-01T12:11:59.167Z"
   },
   {
    "duration": 29,
    "start_time": "2023-04-01T12:11:59.194Z"
   },
   {
    "duration": 24,
    "start_time": "2023-04-01T12:11:59.225Z"
   },
   {
    "duration": 442,
    "start_time": "2023-04-01T12:11:59.251Z"
   },
   {
    "duration": 6,
    "start_time": "2023-04-01T12:11:59.695Z"
   },
   {
    "duration": 20,
    "start_time": "2023-04-01T12:11:59.703Z"
   },
   {
    "duration": 176,
    "start_time": "2023-04-01T12:11:59.728Z"
   },
   {
    "duration": 8,
    "start_time": "2023-04-01T12:11:59.911Z"
   },
   {
    "duration": 16,
    "start_time": "2023-04-01T12:11:59.920Z"
   },
   {
    "duration": 22,
    "start_time": "2023-04-01T12:11:59.938Z"
   },
   {
    "duration": 4,
    "start_time": "2023-04-01T12:11:59.963Z"
   },
   {
    "duration": 39,
    "start_time": "2023-04-01T12:11:59.969Z"
   },
   {
    "duration": 14,
    "start_time": "2023-04-01T12:12:00.011Z"
   },
   {
    "duration": 6,
    "start_time": "2023-04-01T12:12:00.028Z"
   },
   {
    "duration": 31,
    "start_time": "2023-04-01T12:12:00.036Z"
   },
   {
    "duration": 18,
    "start_time": "2023-04-01T12:12:00.070Z"
   },
   {
    "duration": 22,
    "start_time": "2023-04-01T12:12:00.090Z"
   },
   {
    "duration": 18,
    "start_time": "2023-04-01T12:12:00.115Z"
   },
   {
    "duration": 38,
    "start_time": "2023-04-01T12:12:00.136Z"
   },
   {
    "duration": 539,
    "start_time": "2023-04-01T12:12:00.176Z"
   },
   {
    "duration": 35,
    "start_time": "2023-04-01T12:12:00.718Z"
   },
   {
    "duration": 17419,
    "start_time": "2023-04-01T12:12:00.755Z"
   },
   {
    "duration": 154,
    "start_time": "2023-04-01T12:12:18.175Z"
   },
   {
    "duration": 42167,
    "start_time": "2023-04-01T12:12:18.331Z"
   },
   {
    "duration": 2204,
    "start_time": "2023-04-01T12:13:00.500Z"
   },
   {
    "duration": 228,
    "start_time": "2023-04-01T12:13:02.707Z"
   },
   {
    "duration": 13,
    "start_time": "2023-04-01T12:13:02.937Z"
   },
   {
    "duration": 6,
    "start_time": "2023-04-01T12:13:02.952Z"
   },
   {
    "duration": 676,
    "start_time": "2023-04-01T12:13:02.960Z"
   },
   {
    "duration": 77,
    "start_time": "2023-04-01T12:13:03.638Z"
   },
   {
    "duration": 30977,
    "start_time": "2023-04-01T12:13:03.717Z"
   },
   {
    "duration": 439,
    "start_time": "2023-04-01T12:13:34.697Z"
   },
   {
    "duration": 46467,
    "start_time": "2023-04-01T12:13:35.138Z"
   },
   {
    "duration": 2695,
    "start_time": "2023-04-01T12:14:21.694Z"
   },
   {
    "duration": 272,
    "start_time": "2023-04-01T12:16:33.525Z"
   },
   {
    "duration": 4,
    "start_time": "2023-04-01T12:16:54.278Z"
   },
   {
    "duration": 197,
    "start_time": "2023-04-01T12:17:01.330Z"
   },
   {
    "duration": 135,
    "start_time": "2023-04-01T12:18:39.166Z"
   },
   {
    "duration": 19,
    "start_time": "2023-04-01T12:18:55.390Z"
   },
   {
    "duration": 184,
    "start_time": "2023-04-01T12:18:58.613Z"
   },
   {
    "duration": 1178,
    "start_time": "2023-04-01T12:19:26.936Z"
   },
   {
    "duration": 42,
    "start_time": "2023-04-01T12:19:28.115Z"
   },
   {
    "duration": 14,
    "start_time": "2023-04-01T12:19:28.158Z"
   },
   {
    "duration": 31,
    "start_time": "2023-04-01T12:19:28.174Z"
   },
   {
    "duration": 10,
    "start_time": "2023-04-01T12:19:28.207Z"
   },
   {
    "duration": 27,
    "start_time": "2023-04-01T12:19:28.219Z"
   },
   {
    "duration": 26,
    "start_time": "2023-04-01T12:19:28.248Z"
   },
   {
    "duration": 35,
    "start_time": "2023-04-01T12:19:28.275Z"
   },
   {
    "duration": 13,
    "start_time": "2023-04-01T12:19:28.312Z"
   },
   {
    "duration": 21,
    "start_time": "2023-04-01T12:19:28.328Z"
   },
   {
    "duration": 457,
    "start_time": "2023-04-01T12:19:28.351Z"
   },
   {
    "duration": 5,
    "start_time": "2023-04-01T12:19:28.810Z"
   },
   {
    "duration": 20,
    "start_time": "2023-04-01T12:19:28.817Z"
   },
   {
    "duration": 135,
    "start_time": "2023-04-01T12:19:28.839Z"
   },
   {
    "duration": 12,
    "start_time": "2023-04-01T12:19:28.976Z"
   },
   {
    "duration": 17,
    "start_time": "2023-04-01T12:19:28.990Z"
   },
   {
    "duration": 18,
    "start_time": "2023-04-01T12:19:29.009Z"
   },
   {
    "duration": 4,
    "start_time": "2023-04-01T12:19:29.029Z"
   },
   {
    "duration": 12,
    "start_time": "2023-04-01T12:19:29.035Z"
   },
   {
    "duration": 7,
    "start_time": "2023-04-01T12:19:29.049Z"
   },
   {
    "duration": 3,
    "start_time": "2023-04-01T12:19:29.057Z"
   },
   {
    "duration": 24,
    "start_time": "2023-04-01T12:19:29.087Z"
   },
   {
    "duration": 28,
    "start_time": "2023-04-01T12:19:29.114Z"
   },
   {
    "duration": 12,
    "start_time": "2023-04-01T12:19:29.144Z"
   },
   {
    "duration": 41,
    "start_time": "2023-04-01T12:19:29.158Z"
   },
   {
    "duration": 21,
    "start_time": "2023-04-01T12:19:29.201Z"
   },
   {
    "duration": 490,
    "start_time": "2023-04-01T12:19:29.223Z"
   },
   {
    "duration": 33,
    "start_time": "2023-04-01T12:19:29.717Z"
   },
   {
    "duration": 16588,
    "start_time": "2023-04-01T12:19:29.751Z"
   },
   {
    "duration": 140,
    "start_time": "2023-04-01T12:19:46.341Z"
   },
   {
    "duration": 16312,
    "start_time": "2023-04-01T12:19:46.487Z"
   },
   {
    "duration": 806,
    "start_time": "2023-04-01T12:20:02.802Z"
   },
   {
    "duration": 141,
    "start_time": "2023-04-01T12:20:03.688Z"
   },
   {
    "duration": 12,
    "start_time": "2023-04-01T12:20:03.830Z"
   },
   {
    "duration": 8,
    "start_time": "2023-04-01T12:20:03.844Z"
   },
   {
    "duration": 642,
    "start_time": "2023-04-01T12:20:03.853Z"
   },
   {
    "duration": 55,
    "start_time": "2023-04-01T12:20:04.497Z"
   },
   {
    "duration": 31969,
    "start_time": "2023-04-01T12:20:04.554Z"
   },
   {
    "duration": 463,
    "start_time": "2023-04-01T12:20:36.527Z"
   },
   {
    "duration": 14307,
    "start_time": "2023-04-01T12:20:36.992Z"
   },
   {
    "duration": 795,
    "start_time": "2023-04-01T12:20:51.306Z"
   },
   {
    "duration": 1011,
    "start_time": "2023-04-01T17:52:05.909Z"
   },
   {
    "duration": 77,
    "start_time": "2023-04-01T17:52:06.922Z"
   },
   {
    "duration": 11,
    "start_time": "2023-04-01T17:52:07.000Z"
   },
   {
    "duration": 19,
    "start_time": "2023-04-01T17:52:07.013Z"
   },
   {
    "duration": 8,
    "start_time": "2023-04-01T17:52:07.034Z"
   },
   {
    "duration": 3,
    "start_time": "2023-04-01T17:52:07.044Z"
   },
   {
    "duration": 10,
    "start_time": "2023-04-01T17:52:07.049Z"
   },
   {
    "duration": 6,
    "start_time": "2023-04-01T17:52:07.071Z"
   },
   {
    "duration": 5,
    "start_time": "2023-04-01T17:52:07.079Z"
   },
   {
    "duration": 17,
    "start_time": "2023-04-01T17:52:07.085Z"
   },
   {
    "duration": 473,
    "start_time": "2023-04-01T17:52:07.103Z"
   },
   {
    "duration": 5,
    "start_time": "2023-04-01T17:52:07.578Z"
   },
   {
    "duration": 7,
    "start_time": "2023-04-01T17:52:07.585Z"
   },
   {
    "duration": 128,
    "start_time": "2023-04-01T17:52:07.595Z"
   },
   {
    "duration": 4,
    "start_time": "2023-04-01T17:52:07.725Z"
   },
   {
    "duration": 15,
    "start_time": "2023-04-01T17:52:07.730Z"
   },
   {
    "duration": 26,
    "start_time": "2023-04-01T17:52:07.746Z"
   },
   {
    "duration": 4,
    "start_time": "2023-04-01T17:52:07.774Z"
   },
   {
    "duration": 19,
    "start_time": "2023-04-01T17:52:07.779Z"
   },
   {
    "duration": 24,
    "start_time": "2023-04-01T17:52:07.800Z"
   },
   {
    "duration": 6,
    "start_time": "2023-04-01T17:52:07.826Z"
   },
   {
    "duration": 23,
    "start_time": "2023-04-01T17:52:07.834Z"
   },
   {
    "duration": 24,
    "start_time": "2023-04-01T17:52:07.858Z"
   },
   {
    "duration": 9,
    "start_time": "2023-04-01T17:52:07.883Z"
   },
   {
    "duration": 8,
    "start_time": "2023-04-01T17:52:07.894Z"
   },
   {
    "duration": 9,
    "start_time": "2023-04-01T17:52:07.903Z"
   },
   {
    "duration": 395,
    "start_time": "2023-04-01T17:52:07.914Z"
   },
   {
    "duration": 30,
    "start_time": "2023-04-01T17:52:08.318Z"
   },
   {
    "duration": 13275,
    "start_time": "2023-04-01T17:52:08.350Z"
   },
   {
    "duration": 105,
    "start_time": "2023-04-01T17:52:21.627Z"
   },
   {
    "duration": 3037,
    "start_time": "2023-04-01T17:52:21.734Z"
   },
   {
    "duration": 403,
    "start_time": "2023-04-01T17:52:24.773Z"
   },
   {
    "duration": 206,
    "start_time": "2023-04-01T17:52:25.177Z"
   },
   {
    "duration": 11,
    "start_time": "2023-04-01T17:52:25.384Z"
   },
   {
    "duration": 5,
    "start_time": "2023-04-01T17:52:25.397Z"
   },
   {
    "duration": 555,
    "start_time": "2023-04-01T17:52:25.403Z"
   },
   {
    "duration": 53,
    "start_time": "2023-04-01T17:52:25.960Z"
   },
   {
    "duration": 24987,
    "start_time": "2023-04-01T17:52:26.015Z"
   },
   {
    "duration": 359,
    "start_time": "2023-04-01T17:52:51.004Z"
   },
   {
    "duration": 4402,
    "start_time": "2023-04-01T17:52:51.368Z"
   },
   {
    "duration": 296,
    "start_time": "2023-04-01T17:52:55.774Z"
   },
   {
    "duration": 24,
    "start_time": "2023-04-01T17:53:21.507Z"
   },
   {
    "duration": 536,
    "start_time": "2023-04-01T17:58:47.444Z"
   },
   {
    "duration": 30,
    "start_time": "2023-04-01T17:58:49.488Z"
   },
   {
    "duration": 339,
    "start_time": "2023-04-01T17:59:38.941Z"
   },
   {
    "duration": 404,
    "start_time": "2023-04-01T17:59:49.837Z"
   },
   {
    "duration": 992,
    "start_time": "2023-04-01T18:00:19.519Z"
   },
   {
    "duration": 35,
    "start_time": "2023-04-01T18:00:20.513Z"
   },
   {
    "duration": 11,
    "start_time": "2023-04-01T18:00:20.550Z"
   },
   {
    "duration": 20,
    "start_time": "2023-04-01T18:00:20.563Z"
   },
   {
    "duration": 7,
    "start_time": "2023-04-01T18:00:20.585Z"
   },
   {
    "duration": 3,
    "start_time": "2023-04-01T18:00:20.593Z"
   },
   {
    "duration": 15,
    "start_time": "2023-04-01T18:00:20.598Z"
   },
   {
    "duration": 7,
    "start_time": "2023-04-01T18:00:20.614Z"
   },
   {
    "duration": 7,
    "start_time": "2023-04-01T18:00:20.623Z"
   },
   {
    "duration": 39,
    "start_time": "2023-04-01T18:00:20.633Z"
   },
   {
    "duration": 378,
    "start_time": "2023-04-01T18:00:20.674Z"
   },
   {
    "duration": 5,
    "start_time": "2023-04-01T18:00:21.054Z"
   },
   {
    "duration": 11,
    "start_time": "2023-04-01T18:00:21.060Z"
   },
   {
    "duration": 154,
    "start_time": "2023-04-01T18:00:21.073Z"
   },
   {
    "duration": 4,
    "start_time": "2023-04-01T18:00:21.230Z"
   },
   {
    "duration": 13,
    "start_time": "2023-04-01T18:00:21.236Z"
   },
   {
    "duration": 32,
    "start_time": "2023-04-01T18:00:21.250Z"
   },
   {
    "duration": 4,
    "start_time": "2023-04-01T18:00:21.284Z"
   },
   {
    "duration": 11,
    "start_time": "2023-04-01T18:00:21.290Z"
   },
   {
    "duration": 17,
    "start_time": "2023-04-01T18:00:21.303Z"
   },
   {
    "duration": 4,
    "start_time": "2023-04-01T18:00:21.321Z"
   },
   {
    "duration": 50,
    "start_time": "2023-04-01T18:00:21.326Z"
   },
   {
    "duration": 27,
    "start_time": "2023-04-01T18:00:21.378Z"
   },
   {
    "duration": 10,
    "start_time": "2023-04-01T18:00:21.407Z"
   },
   {
    "duration": 9,
    "start_time": "2023-04-01T18:00:21.419Z"
   },
   {
    "duration": 39,
    "start_time": "2023-04-01T18:00:21.430Z"
   },
   {
    "duration": 464,
    "start_time": "2023-04-01T18:00:21.471Z"
   },
   {
    "duration": 38,
    "start_time": "2023-04-01T18:00:21.938Z"
   },
   {
    "duration": 13384,
    "start_time": "2023-04-01T18:00:21.978Z"
   },
   {
    "duration": 106,
    "start_time": "2023-04-01T18:00:35.363Z"
   },
   {
    "duration": 3107,
    "start_time": "2023-04-01T18:00:35.470Z"
   },
   {
    "duration": 291,
    "start_time": "2023-04-01T18:00:38.578Z"
   },
   {
    "duration": 199,
    "start_time": "2023-04-01T18:00:38.871Z"
   },
   {
    "duration": 9,
    "start_time": "2023-04-01T18:00:39.072Z"
   },
   {
    "duration": 39,
    "start_time": "2023-04-01T18:00:39.083Z"
   },
   {
    "duration": 6,
    "start_time": "2023-04-01T18:00:39.172Z"
   },
   {
    "duration": 576,
    "start_time": "2023-04-01T18:00:39.182Z"
   },
   {
    "duration": 49,
    "start_time": "2023-04-01T18:00:39.760Z"
   },
   {
    "duration": 1039,
    "start_time": "2023-04-01T18:01:06.254Z"
   },
   {
    "duration": 36,
    "start_time": "2023-04-01T18:01:07.295Z"
   },
   {
    "duration": 11,
    "start_time": "2023-04-01T18:01:07.332Z"
   },
   {
    "duration": 21,
    "start_time": "2023-04-01T18:01:07.345Z"
   },
   {
    "duration": 7,
    "start_time": "2023-04-01T18:01:07.367Z"
   },
   {
    "duration": 27,
    "start_time": "2023-04-01T18:01:07.376Z"
   },
   {
    "duration": 28,
    "start_time": "2023-04-01T18:01:07.405Z"
   },
   {
    "duration": 6,
    "start_time": "2023-04-01T18:01:07.435Z"
   },
   {
    "duration": 5,
    "start_time": "2023-04-01T18:01:07.443Z"
   },
   {
    "duration": 16,
    "start_time": "2023-04-01T18:01:07.451Z"
   },
   {
    "duration": 340,
    "start_time": "2023-04-01T18:01:07.468Z"
   },
   {
    "duration": 4,
    "start_time": "2023-04-01T18:01:07.810Z"
   },
   {
    "duration": 10,
    "start_time": "2023-04-01T18:01:07.815Z"
   },
   {
    "duration": 124,
    "start_time": "2023-04-01T18:01:07.826Z"
   },
   {
    "duration": 5,
    "start_time": "2023-04-01T18:01:07.952Z"
   },
   {
    "duration": 16,
    "start_time": "2023-04-01T18:01:07.969Z"
   },
   {
    "duration": 16,
    "start_time": "2023-04-01T18:01:07.987Z"
   },
   {
    "duration": 4,
    "start_time": "2023-04-01T18:01:08.005Z"
   },
   {
    "duration": 19,
    "start_time": "2023-04-01T18:01:08.011Z"
   },
   {
    "duration": 10,
    "start_time": "2023-04-01T18:01:08.033Z"
   },
   {
    "duration": 25,
    "start_time": "2023-04-01T18:01:08.045Z"
   },
   {
    "duration": 27,
    "start_time": "2023-04-01T18:01:08.072Z"
   },
   {
    "duration": 30,
    "start_time": "2023-04-01T18:01:08.101Z"
   },
   {
    "duration": 36,
    "start_time": "2023-04-01T18:01:08.133Z"
   },
   {
    "duration": 14,
    "start_time": "2023-04-01T18:01:08.171Z"
   },
   {
    "duration": 14,
    "start_time": "2023-04-01T18:01:08.186Z"
   },
   {
    "duration": 17,
    "start_time": "2023-04-01T18:01:08.202Z"
   },
   {
    "duration": 407,
    "start_time": "2023-04-01T18:01:08.222Z"
   },
   {
    "duration": 28,
    "start_time": "2023-04-01T18:01:08.631Z"
   },
   {
    "duration": 13621,
    "start_time": "2023-04-01T18:01:08.669Z"
   },
   {
    "duration": 101,
    "start_time": "2023-04-01T18:01:22.291Z"
   },
   {
    "duration": 3279,
    "start_time": "2023-04-01T18:01:22.394Z"
   },
   {
    "duration": 397,
    "start_time": "2023-04-01T18:01:25.675Z"
   },
   {
    "duration": 195,
    "start_time": "2023-04-01T18:01:26.073Z"
   },
   {
    "duration": 11,
    "start_time": "2023-04-01T18:01:26.270Z"
   },
   {
    "duration": 25,
    "start_time": "2023-04-01T18:01:26.283Z"
   },
   {
    "duration": 62,
    "start_time": "2023-04-01T18:01:26.310Z"
   },
   {
    "duration": 574,
    "start_time": "2023-04-01T18:01:26.375Z"
   },
   {
    "duration": 70,
    "start_time": "2023-04-01T18:01:26.952Z"
   },
   {
    "duration": 26039,
    "start_time": "2023-04-01T18:01:27.024Z"
   },
   {
    "duration": 343,
    "start_time": "2023-04-01T18:01:53.065Z"
   },
   {
    "duration": 7775,
    "start_time": "2023-04-01T18:01:53.410Z"
   },
   {
    "duration": 603,
    "start_time": "2023-04-01T18:02:01.186Z"
   },
   {
    "duration": 1072,
    "start_time": "2023-04-01T18:03:51.810Z"
   },
   {
    "duration": 35,
    "start_time": "2023-04-01T18:03:52.884Z"
   },
   {
    "duration": 11,
    "start_time": "2023-04-01T18:03:52.920Z"
   },
   {
    "duration": 22,
    "start_time": "2023-04-01T18:03:52.933Z"
   },
   {
    "duration": 7,
    "start_time": "2023-04-01T18:03:52.956Z"
   },
   {
    "duration": 23,
    "start_time": "2023-04-01T18:03:52.964Z"
   },
   {
    "duration": 18,
    "start_time": "2023-04-01T18:03:52.988Z"
   },
   {
    "duration": 10,
    "start_time": "2023-04-01T18:03:53.007Z"
   },
   {
    "duration": 5,
    "start_time": "2023-04-01T18:03:53.019Z"
   },
   {
    "duration": 18,
    "start_time": "2023-04-01T18:03:53.026Z"
   },
   {
    "duration": 365,
    "start_time": "2023-04-01T18:03:53.046Z"
   },
   {
    "duration": 3,
    "start_time": "2023-04-01T18:03:53.413Z"
   },
   {
    "duration": 21,
    "start_time": "2023-04-01T18:03:53.418Z"
   },
   {
    "duration": 147,
    "start_time": "2023-04-01T18:03:53.440Z"
   },
   {
    "duration": 4,
    "start_time": "2023-04-01T18:03:53.589Z"
   },
   {
    "duration": 19,
    "start_time": "2023-04-01T18:03:53.594Z"
   },
   {
    "duration": 30,
    "start_time": "2023-04-01T18:03:53.615Z"
   },
   {
    "duration": 17,
    "start_time": "2023-04-01T18:03:53.647Z"
   },
   {
    "duration": 20,
    "start_time": "2023-04-01T18:03:53.666Z"
   },
   {
    "duration": 9,
    "start_time": "2023-04-01T18:03:53.688Z"
   },
   {
    "duration": 21,
    "start_time": "2023-04-01T18:03:53.699Z"
   },
   {
    "duration": 31,
    "start_time": "2023-04-01T18:03:53.722Z"
   },
   {
    "duration": 36,
    "start_time": "2023-04-01T18:03:53.754Z"
   },
   {
    "duration": 10,
    "start_time": "2023-04-01T18:03:53.792Z"
   },
   {
    "duration": 10,
    "start_time": "2023-04-01T18:03:53.804Z"
   },
   {
    "duration": 10,
    "start_time": "2023-04-01T18:03:53.816Z"
   },
   {
    "duration": 20,
    "start_time": "2023-04-01T18:03:53.828Z"
   },
   {
    "duration": 395,
    "start_time": "2023-04-01T18:03:53.852Z"
   },
   {
    "duration": 38,
    "start_time": "2023-04-01T18:03:54.249Z"
   },
   {
    "duration": 13211,
    "start_time": "2023-04-01T18:03:54.289Z"
   },
   {
    "duration": 103,
    "start_time": "2023-04-01T18:04:07.501Z"
   },
   {
    "duration": 5681,
    "start_time": "2023-04-01T18:04:07.606Z"
   },
   {
    "duration": 486,
    "start_time": "2023-04-01T18:04:13.289Z"
   },
   {
    "duration": 169,
    "start_time": "2023-04-01T18:04:13.778Z"
   },
   {
    "duration": 11,
    "start_time": "2023-04-01T18:04:13.948Z"
   },
   {
    "duration": 30,
    "start_time": "2023-04-01T18:04:13.960Z"
   },
   {
    "duration": 5,
    "start_time": "2023-04-01T18:04:13.992Z"
   },
   {
    "duration": 632,
    "start_time": "2023-04-01T18:04:14.074Z"
   },
   {
    "duration": 42,
    "start_time": "2023-04-01T18:04:14.708Z"
   },
   {
    "duration": 26226,
    "start_time": "2023-04-01T18:04:14.751Z"
   },
   {
    "duration": 344,
    "start_time": "2023-04-01T18:04:40.979Z"
   },
   {
    "duration": 9153,
    "start_time": "2023-04-01T18:04:41.325Z"
   },
   {
    "duration": 593,
    "start_time": "2023-04-01T18:04:50.479Z"
   },
   {
    "duration": 353,
    "start_time": "2023-04-01T18:06:24.506Z"
   },
   {
    "duration": 333,
    "start_time": "2023-04-01T18:06:37.095Z"
   },
   {
    "duration": 15,
    "start_time": "2023-04-01T18:10:20.738Z"
   },
   {
    "duration": 34,
    "start_time": "2023-04-01T18:10:47.300Z"
   },
   {
    "duration": 56,
    "start_time": "2023-04-01T18:11:02.015Z"
   },
   {
    "duration": 400,
    "start_time": "2023-04-01T18:13:10.202Z"
   },
   {
    "duration": 359,
    "start_time": "2023-04-01T18:14:36.701Z"
   },
   {
    "duration": 10,
    "start_time": "2023-04-01T18:16:35.219Z"
   },
   {
    "duration": 15573,
    "start_time": "2023-04-01T18:17:20.840Z"
   },
   {
    "duration": 30,
    "start_time": "2023-04-01T18:17:49.258Z"
   },
   {
    "duration": 1313,
    "start_time": "2023-04-02T14:45:45.406Z"
   },
   {
    "duration": 77,
    "start_time": "2023-04-02T14:45:46.721Z"
   },
   {
    "duration": 11,
    "start_time": "2023-04-02T14:45:46.800Z"
   },
   {
    "duration": 20,
    "start_time": "2023-04-02T14:45:46.812Z"
   },
   {
    "duration": 7,
    "start_time": "2023-04-02T14:45:46.834Z"
   },
   {
    "duration": 3,
    "start_time": "2023-04-02T14:45:46.843Z"
   },
   {
    "duration": 24,
    "start_time": "2023-04-02T14:45:46.847Z"
   },
   {
    "duration": 11,
    "start_time": "2023-04-02T14:45:46.873Z"
   },
   {
    "duration": 14,
    "start_time": "2023-04-02T14:45:46.886Z"
   },
   {
    "duration": 21,
    "start_time": "2023-04-02T14:45:46.901Z"
   },
   {
    "duration": 507,
    "start_time": "2023-04-02T14:45:46.924Z"
   },
   {
    "duration": 4,
    "start_time": "2023-04-02T14:45:47.432Z"
   },
   {
    "duration": 9,
    "start_time": "2023-04-02T14:45:47.437Z"
   },
   {
    "duration": 112,
    "start_time": "2023-04-02T14:45:47.449Z"
   },
   {
    "duration": 3,
    "start_time": "2023-04-02T14:45:47.568Z"
   },
   {
    "duration": 13,
    "start_time": "2023-04-02T14:45:47.572Z"
   },
   {
    "duration": 10,
    "start_time": "2023-04-02T14:45:47.586Z"
   },
   {
    "duration": 2,
    "start_time": "2023-04-02T14:45:47.598Z"
   },
   {
    "duration": 9,
    "start_time": "2023-04-02T14:45:47.602Z"
   },
   {
    "duration": 4,
    "start_time": "2023-04-02T14:45:47.613Z"
   },
   {
    "duration": 2,
    "start_time": "2023-04-02T14:45:47.619Z"
   },
   {
    "duration": 55,
    "start_time": "2023-04-02T14:45:47.622Z"
   },
   {
    "duration": 23,
    "start_time": "2023-04-02T14:45:47.679Z"
   },
   {
    "duration": 10,
    "start_time": "2023-04-02T14:45:47.704Z"
   },
   {
    "duration": 11,
    "start_time": "2023-04-02T14:45:47.715Z"
   },
   {
    "duration": 11,
    "start_time": "2023-04-02T14:45:47.727Z"
   },
   {
    "duration": 32,
    "start_time": "2023-04-02T14:45:47.740Z"
   },
   {
    "duration": 392,
    "start_time": "2023-04-02T14:45:47.773Z"
   },
   {
    "duration": 31,
    "start_time": "2023-04-02T14:45:48.168Z"
   },
   {
    "duration": 13575,
    "start_time": "2023-04-02T14:45:48.201Z"
   },
   {
    "duration": 100,
    "start_time": "2023-04-02T14:46:01.778Z"
   },
   {
    "duration": 3392,
    "start_time": "2023-04-02T14:46:01.879Z"
   },
   {
    "duration": 297,
    "start_time": "2023-04-02T14:46:05.272Z"
   },
   {
    "duration": 178,
    "start_time": "2023-04-02T14:46:05.571Z"
   },
   {
    "duration": 24,
    "start_time": "2023-04-02T14:46:05.751Z"
   },
   {
    "duration": 15,
    "start_time": "2023-04-02T14:46:05.777Z"
   },
   {
    "duration": 490,
    "start_time": "2023-04-02T14:46:05.794Z"
   },
   {
    "duration": 14,
    "start_time": "2023-04-02T14:46:06.286Z"
   },
   {
    "duration": 24967,
    "start_time": "2023-04-02T14:46:06.302Z"
   },
   {
    "duration": 29,
    "start_time": "2023-04-02T14:46:31.271Z"
   },
   {
    "duration": 6766,
    "start_time": "2023-04-02T14:46:31.303Z"
   },
   {
    "duration": 102,
    "start_time": "2023-04-02T14:46:38.070Z"
   },
   {
    "duration": 98,
    "start_time": "2023-04-02T14:46:38.174Z"
   },
   {
    "duration": 15715,
    "start_time": "2023-04-02T14:46:38.274Z"
   },
   {
    "duration": 29,
    "start_time": "2023-04-02T14:46:53.990Z"
   },
   {
    "duration": 402,
    "start_time": "2023-04-02T14:46:54.021Z"
   },
   {
    "duration": 87,
    "start_time": "2023-04-02T21:02:28.654Z"
   },
   {
    "duration": 1215,
    "start_time": "2023-04-02T21:02:42.254Z"
   },
   {
    "duration": 168,
    "start_time": "2023-04-02T21:02:43.471Z"
   },
   {
    "duration": 14,
    "start_time": "2023-04-02T21:02:43.641Z"
   },
   {
    "duration": 27,
    "start_time": "2023-04-02T21:02:43.656Z"
   },
   {
    "duration": 9,
    "start_time": "2023-04-02T21:02:43.685Z"
   },
   {
    "duration": 22,
    "start_time": "2023-04-02T21:02:43.696Z"
   },
   {
    "duration": 17,
    "start_time": "2023-04-02T21:02:43.720Z"
   },
   {
    "duration": 20,
    "start_time": "2023-04-02T21:02:43.739Z"
   },
   {
    "duration": 22,
    "start_time": "2023-04-02T21:02:43.761Z"
   },
   {
    "duration": 32,
    "start_time": "2023-04-02T21:02:43.785Z"
   },
   {
    "duration": 619,
    "start_time": "2023-04-02T21:02:43.820Z"
   },
   {
    "duration": 5,
    "start_time": "2023-04-02T21:02:44.440Z"
   },
   {
    "duration": 40,
    "start_time": "2023-04-02T21:02:44.447Z"
   },
   {
    "duration": 175,
    "start_time": "2023-04-02T21:02:44.490Z"
   },
   {
    "duration": 5,
    "start_time": "2023-04-02T21:02:44.666Z"
   },
   {
    "duration": 21,
    "start_time": "2023-04-02T21:02:44.673Z"
   },
   {
    "duration": 32,
    "start_time": "2023-04-02T21:02:44.696Z"
   },
   {
    "duration": 7,
    "start_time": "2023-04-02T21:02:44.730Z"
   },
   {
    "duration": 16,
    "start_time": "2023-04-02T21:02:44.739Z"
   },
   {
    "duration": 10,
    "start_time": "2023-04-02T21:02:44.757Z"
   },
   {
    "duration": 10,
    "start_time": "2023-04-02T21:02:44.769Z"
   },
   {
    "duration": 37,
    "start_time": "2023-04-02T21:02:44.780Z"
   },
   {
    "duration": 29,
    "start_time": "2023-04-02T21:02:44.819Z"
   },
   {
    "duration": 11,
    "start_time": "2023-04-02T21:02:44.852Z"
   },
   {
    "duration": 17,
    "start_time": "2023-04-02T21:02:44.864Z"
   },
   {
    "duration": 35,
    "start_time": "2023-04-02T21:02:44.883Z"
   },
   {
    "duration": 11,
    "start_time": "2023-04-02T21:02:44.921Z"
   },
   {
    "duration": 466,
    "start_time": "2023-04-02T21:02:44.935Z"
   },
   {
    "duration": 40,
    "start_time": "2023-04-02T21:02:45.403Z"
   },
   {
    "duration": 16708,
    "start_time": "2023-04-02T21:02:45.445Z"
   },
   {
    "duration": 180,
    "start_time": "2023-04-02T21:03:02.155Z"
   },
   {
    "duration": 5486,
    "start_time": "2023-04-02T21:03:02.336Z"
   },
   {
    "duration": 295,
    "start_time": "2023-04-02T21:03:07.824Z"
   },
   {
    "duration": 206,
    "start_time": "2023-04-02T21:03:08.122Z"
   },
   {
    "duration": 15,
    "start_time": "2023-04-02T21:03:08.329Z"
   },
   {
    "duration": 6,
    "start_time": "2023-04-02T21:03:08.345Z"
   },
   {
    "duration": 581,
    "start_time": "2023-04-02T21:03:08.353Z"
   },
   {
    "duration": 17,
    "start_time": "2023-04-02T21:03:08.935Z"
   },
   {
    "duration": 32864,
    "start_time": "2023-04-02T21:03:08.953Z"
   },
   {
    "duration": 47,
    "start_time": "2023-04-02T21:03:41.819Z"
   },
   {
    "duration": 5050,
    "start_time": "2023-04-02T21:03:41.870Z"
   },
   {
    "duration": 195,
    "start_time": "2023-04-02T21:03:46.923Z"
   },
   {
    "duration": 22,
    "start_time": "2023-04-02T21:03:47.120Z"
   },
   {
    "duration": 27138,
    "start_time": "2023-04-02T21:03:47.144Z"
   },
   {
    "duration": 47,
    "start_time": "2023-04-02T21:04:14.284Z"
   },
   {
    "duration": 370,
    "start_time": "2023-04-02T21:04:14.332Z"
   },
   {
    "duration": 478,
    "start_time": "2023-04-02T21:04:54.554Z"
   },
   {
    "duration": 41,
    "start_time": "2023-04-02T21:05:45.954Z"
   },
   {
    "duration": 1446,
    "start_time": "2023-04-02T21:05:58.057Z"
   },
   {
    "duration": 32,
    "start_time": "2023-04-02T21:09:42.383Z"
   },
   {
    "duration": 51,
    "start_time": "2023-04-02T21:10:12.554Z"
   },
   {
    "duration": 464,
    "start_time": "2023-04-02T21:10:29.310Z"
   },
   {
    "duration": 37,
    "start_time": "2023-04-02T21:10:49.759Z"
   },
   {
    "duration": 18180,
    "start_time": "2023-04-02T21:11:54.867Z"
   },
   {
    "duration": 247,
    "start_time": "2023-04-02T21:12:13.049Z"
   },
   {
    "duration": 4746,
    "start_time": "2023-04-02T21:13:32.180Z"
   },
   {
    "duration": 298,
    "start_time": "2023-04-02T21:13:36.929Z"
   },
   {
    "duration": 104,
    "start_time": "2023-04-02T21:13:45.480Z"
   },
   {
    "duration": 1175,
    "start_time": "2023-04-02T21:14:56.683Z"
   },
   {
    "duration": 49,
    "start_time": "2023-04-02T21:14:57.861Z"
   },
   {
    "duration": 12,
    "start_time": "2023-04-02T21:14:57.912Z"
   },
   {
    "duration": 32,
    "start_time": "2023-04-02T21:14:57.925Z"
   },
   {
    "duration": 11,
    "start_time": "2023-04-02T21:14:57.959Z"
   },
   {
    "duration": 25,
    "start_time": "2023-04-02T21:14:57.971Z"
   },
   {
    "duration": 24,
    "start_time": "2023-04-02T21:14:57.998Z"
   },
   {
    "duration": 19,
    "start_time": "2023-04-02T21:14:58.023Z"
   },
   {
    "duration": 20,
    "start_time": "2023-04-02T21:14:58.044Z"
   },
   {
    "duration": 29,
    "start_time": "2023-04-02T21:14:58.066Z"
   },
   {
    "duration": 420,
    "start_time": "2023-04-02T21:14:58.097Z"
   },
   {
    "duration": 5,
    "start_time": "2023-04-02T21:14:58.519Z"
   },
   {
    "duration": 18,
    "start_time": "2023-04-02T21:14:58.525Z"
   },
   {
    "duration": 160,
    "start_time": "2023-04-02T21:14:58.546Z"
   },
   {
    "duration": 12,
    "start_time": "2023-04-02T21:14:58.707Z"
   },
   {
    "duration": 29,
    "start_time": "2023-04-02T21:14:58.721Z"
   },
   {
    "duration": 35,
    "start_time": "2023-04-02T21:14:58.752Z"
   },
   {
    "duration": 9,
    "start_time": "2023-04-02T21:14:58.788Z"
   },
   {
    "duration": 20,
    "start_time": "2023-04-02T21:14:58.798Z"
   },
   {
    "duration": 11,
    "start_time": "2023-04-02T21:14:58.819Z"
   },
   {
    "duration": 12,
    "start_time": "2023-04-02T21:14:58.832Z"
   },
   {
    "duration": 43,
    "start_time": "2023-04-02T21:14:58.846Z"
   },
   {
    "duration": 27,
    "start_time": "2023-04-02T21:14:58.891Z"
   },
   {
    "duration": 15,
    "start_time": "2023-04-02T21:14:58.919Z"
   },
   {
    "duration": 39,
    "start_time": "2023-04-02T21:14:58.936Z"
   },
   {
    "duration": 23,
    "start_time": "2023-04-02T21:14:58.976Z"
   },
   {
    "duration": 30,
    "start_time": "2023-04-02T21:14:59.001Z"
   },
   {
    "duration": 487,
    "start_time": "2023-04-02T21:14:59.033Z"
   },
   {
    "duration": 41,
    "start_time": "2023-04-02T21:14:59.521Z"
   },
   {
    "duration": 17944,
    "start_time": "2023-04-02T21:14:59.564Z"
   },
   {
    "duration": 231,
    "start_time": "2023-04-02T21:15:17.510Z"
   },
   {
    "duration": 7386,
    "start_time": "2023-04-02T21:15:17.742Z"
   },
   {
    "duration": 500,
    "start_time": "2023-04-02T21:15:25.219Z"
   },
   {
    "duration": 222,
    "start_time": "2023-04-02T21:15:25.721Z"
   },
   {
    "duration": 11,
    "start_time": "2023-04-02T21:15:25.945Z"
   },
   {
    "duration": 6,
    "start_time": "2023-04-02T21:15:25.958Z"
   },
   {
    "duration": 601,
    "start_time": "2023-04-02T21:15:25.966Z"
   },
   {
    "duration": 15,
    "start_time": "2023-04-02T21:15:26.569Z"
   },
   {
    "duration": 32008,
    "start_time": "2023-04-02T21:15:26.585Z"
   },
   {
    "duration": 43,
    "start_time": "2023-04-02T21:15:58.595Z"
   },
   {
    "duration": 5880,
    "start_time": "2023-04-02T21:15:58.642Z"
   },
   {
    "duration": 197,
    "start_time": "2023-04-02T21:16:04.525Z"
   },
   {
    "duration": 100,
    "start_time": "2023-04-02T21:16:04.724Z"
   },
   {
    "duration": 5899,
    "start_time": "2023-04-02T21:16:04.826Z"
   },
   {
    "duration": 18,
    "start_time": "2023-04-02T21:16:10.727Z"
   },
   {
    "duration": 411,
    "start_time": "2023-04-02T21:16:10.748Z"
   },
   {
    "duration": 6,
    "start_time": "2023-04-02T21:16:42.886Z"
   },
   {
    "duration": 11,
    "start_time": "2023-04-02T21:16:46.241Z"
   },
   {
    "duration": 5,
    "start_time": "2023-04-02T21:16:46.848Z"
   },
   {
    "duration": 11,
    "start_time": "2023-04-02T21:16:54.351Z"
   },
   {
    "duration": 5,
    "start_time": "2023-04-02T21:16:55.048Z"
   },
   {
    "duration": 12,
    "start_time": "2023-04-02T21:17:02.852Z"
   },
   {
    "duration": 6,
    "start_time": "2023-04-02T21:17:03.280Z"
   },
   {
    "duration": 611,
    "start_time": "2023-04-02T21:17:28.357Z"
   },
   {
    "duration": 16,
    "start_time": "2023-04-02T21:17:31.048Z"
   },
   {
    "duration": 22,
    "start_time": "2023-04-02T21:17:51.883Z"
   },
   {
    "duration": 33686,
    "start_time": "2023-04-02T21:18:22.416Z"
   },
   {
    "duration": 66,
    "start_time": "2023-04-02T21:18:56.105Z"
   },
   {
    "duration": 6692,
    "start_time": "2023-04-02T21:19:17.136Z"
   },
   {
    "duration": 68,
    "start_time": "2023-04-02T21:19:25.859Z"
   },
   {
    "duration": 22570,
    "start_time": "2023-04-02T21:19:51.261Z"
   },
   {
    "duration": 51,
    "start_time": "2023-04-02T21:20:13.833Z"
   },
   {
    "duration": 379,
    "start_time": "2023-04-02T21:20:57.014Z"
   },
   {
    "duration": 2,
    "start_time": "2023-04-02T21:21:49.784Z"
   },
   {
    "duration": 402,
    "start_time": "2023-04-02T21:35:55.854Z"
   },
   {
    "duration": 176,
    "start_time": "2023-04-02T21:46:16.380Z"
   },
   {
    "duration": 1219,
    "start_time": "2023-04-02T21:50:42.137Z"
   },
   {
    "duration": 40,
    "start_time": "2023-04-02T21:50:43.358Z"
   },
   {
    "duration": 14,
    "start_time": "2023-04-02T21:50:43.400Z"
   },
   {
    "duration": 31,
    "start_time": "2023-04-02T21:50:43.416Z"
   },
   {
    "duration": 21,
    "start_time": "2023-04-02T21:50:43.449Z"
   },
   {
    "duration": 17,
    "start_time": "2023-04-02T21:50:43.472Z"
   },
   {
    "duration": 24,
    "start_time": "2023-04-02T21:50:43.491Z"
   },
   {
    "duration": 25,
    "start_time": "2023-04-02T21:50:43.517Z"
   },
   {
    "duration": 19,
    "start_time": "2023-04-02T21:50:43.544Z"
   },
   {
    "duration": 24,
    "start_time": "2023-04-02T21:50:43.566Z"
   },
   {
    "duration": 385,
    "start_time": "2023-04-02T21:50:43.592Z"
   },
   {
    "duration": 5,
    "start_time": "2023-04-02T21:50:43.980Z"
   },
   {
    "duration": 25,
    "start_time": "2023-04-02T21:50:43.986Z"
   },
   {
    "duration": 133,
    "start_time": "2023-04-02T21:50:44.013Z"
   },
   {
    "duration": 5,
    "start_time": "2023-04-02T21:50:44.147Z"
   },
   {
    "duration": 46,
    "start_time": "2023-04-02T21:50:44.153Z"
   },
   {
    "duration": 21,
    "start_time": "2023-04-02T21:50:44.201Z"
   },
   {
    "duration": 19,
    "start_time": "2023-04-02T21:50:44.223Z"
   },
   {
    "duration": 20,
    "start_time": "2023-04-02T21:50:44.243Z"
   },
   {
    "duration": 15,
    "start_time": "2023-04-02T21:50:44.265Z"
   },
   {
    "duration": 21,
    "start_time": "2023-04-02T21:50:44.282Z"
   },
   {
    "duration": 21,
    "start_time": "2023-04-02T21:50:44.305Z"
   },
   {
    "duration": 28,
    "start_time": "2023-04-02T21:50:44.329Z"
   },
   {
    "duration": 13,
    "start_time": "2023-04-02T21:50:44.359Z"
   },
   {
    "duration": 24,
    "start_time": "2023-04-02T21:50:44.374Z"
   },
   {
    "duration": 34,
    "start_time": "2023-04-02T21:50:44.400Z"
   },
   {
    "duration": 19,
    "start_time": "2023-04-02T21:50:44.436Z"
   },
   {
    "duration": 482,
    "start_time": "2023-04-02T21:50:44.458Z"
   },
   {
    "duration": 33,
    "start_time": "2023-04-02T21:50:44.942Z"
   },
   {
    "duration": 17973,
    "start_time": "2023-04-02T21:50:44.976Z"
   },
   {
    "duration": 239,
    "start_time": "2023-04-02T21:51:02.951Z"
   },
   {
    "duration": 5528,
    "start_time": "2023-04-02T21:51:03.191Z"
   },
   {
    "duration": 404,
    "start_time": "2023-04-02T21:51:08.722Z"
   },
   {
    "duration": 296,
    "start_time": "2023-04-02T21:51:09.128Z"
   },
   {
    "duration": 11,
    "start_time": "2023-04-02T21:51:09.426Z"
   },
   {
    "duration": 12,
    "start_time": "2023-04-02T21:51:09.439Z"
   },
   {
    "duration": 603,
    "start_time": "2023-04-02T21:51:09.453Z"
   },
   {
    "duration": 19,
    "start_time": "2023-04-02T21:51:10.058Z"
   },
   {
    "duration": 34417,
    "start_time": "2023-04-02T21:51:10.079Z"
   },
   {
    "duration": 77,
    "start_time": "2023-04-02T21:51:44.498Z"
   },
   {
    "duration": 6542,
    "start_time": "2023-04-02T21:51:44.577Z"
   },
   {
    "duration": 297,
    "start_time": "2023-04-02T21:51:51.121Z"
   },
   {
    "duration": 98,
    "start_time": "2023-04-02T21:51:51.424Z"
   },
   {
    "duration": 13,
    "start_time": "2023-04-02T21:51:51.524Z"
   },
   {
    "duration": 23252,
    "start_time": "2023-04-02T21:51:51.539Z"
   },
   {
    "duration": 65,
    "start_time": "2023-04-02T21:52:14.793Z"
   },
   {
    "duration": 406,
    "start_time": "2023-04-02T21:52:14.860Z"
   },
   {
    "duration": 181,
    "start_time": "2023-04-02T21:52:15.267Z"
   }
  ],
  "kernelspec": {
   "display_name": "Python 3 (ipykernel)",
   "language": "python",
   "name": "python3"
  },
  "language_info": {
   "codemirror_mode": {
    "name": "ipython",
    "version": 3
   },
   "file_extension": ".py",
   "mimetype": "text/x-python",
   "name": "python",
   "nbconvert_exporter": "python",
   "pygments_lexer": "ipython3",
   "version": "3.11.4"
  },
  "toc": {
   "base_numbering": 1,
   "nav_menu": {},
   "number_sections": true,
   "sideBar": true,
   "skip_h1_title": true,
   "title_cell": "Содержание",
   "title_sidebar": "Contents",
   "toc_cell": true,
   "toc_position": {
    "height": "calc(100% - 180px)",
    "left": "10px",
    "top": "150px",
    "width": "340.59375px"
   },
   "toc_section_display": true,
   "toc_window_display": true
  }
 },
 "nbformat": 4,
 "nbformat_minor": 2
}
